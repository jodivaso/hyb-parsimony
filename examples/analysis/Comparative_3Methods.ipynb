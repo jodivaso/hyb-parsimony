{
 "cells": [
  {
   "cell_type": "code",
   "execution_count": 24,
   "id": "93320c8b",
   "metadata": {
    "ExecuteTime": {
     "end_time": "2023-09-18T20:02:23.768958Z",
     "start_time": "2023-09-18T20:02:23.061309Z"
    }
   },
   "outputs": [],
   "source": [
    "import pandas as pd\n",
    "import numpy as np"
   ]
  },
  {
   "cell_type": "code",
   "execution_count": 25,
   "id": "637ae59d",
   "metadata": {
    "ExecuteTime": {
     "end_time": "2023-09-18T20:02:23.795608Z",
     "start_time": "2023-09-18T20:02:23.768958Z"
    }
   },
   "outputs": [
    {
     "name": "stderr",
     "output_type": "stream",
     "text": [
      "/tmp/ipykernel_6974/2147086474.py:2: DeprecationWarning:\n",
      "\n",
      "Importing display from IPython.core.display is deprecated since IPython 7.14, please import from IPython display\n",
      "\n"
     ]
    },
    {
     "data": {
      "text/html": [
       "<style>.container { width:100% !important; }</style>"
      ],
      "text/plain": [
       "<IPython.core.display.HTML object>"
      ]
     },
     "metadata": {},
     "output_type": "display_data"
    }
   ],
   "source": [
    "# Use the the width of the browser\n",
    "from IPython.core.display import display, HTML\n",
    "display(HTML(\"<style>.container { width:100% !important; }</style>\"))\n",
    "pd.set_option('display.max_rows', 200)\n"
   ]
  },
  {
   "cell_type": "markdown",
   "id": "612fb6cf",
   "metadata": {},
   "source": [
    "# Merge Results (BO vs HYB-PARSIMONY vs SKLEARN-GENETIC_OPT)"
   ]
  },
  {
   "cell_type": "markdown",
   "id": "195fbca5",
   "metadata": {},
   "source": [
    "This notebook presents the results of comparing HYB-PARSIMONY with two other methods: Bayesian Optimization (BO) utilizing all features ($num\\_cols$) and a classical three-step methodology based on GA for featuring selection:\n",
    "\n",
    "- **Bayesian Optimization with all features (BO):** The column $bo\\_FINAL\\_SCORE\\_TST$ represents the testing fitness value ($J_{tst}$) of a base model trained with all input features ($bo\\_NFS==num\\_cols$). Hyperparameter search with BO used 250 iterations.\n",
    "\n",
    "- **HYB-PARSIMONY:** The columns $hyb\\_NFS$ and $hyb\\_FINAL\\_SCORE\\_TST$ correspond to the number of features (NFS) and the fitness value ($J_{tst}$) obtained with each test dataset using HYB-PARSIMONY. HYB-PARSIMONY was executed with the following parameters: $\\Gamma=0.50$, $nruns=250$, $time\\_limit=120min$, $P=15$, $early\\_{stopping}=35$. Additionally, $ReRank$ was set to $0.001$, representing the maximum allowable difference between the $J$ values of two models to be considered equal.\n",
    "\n",
    "- **SKLEARN-GENETIC-OPT with three steps:** The three-step methodology involves the following: first, performing hyperparameter optimization of base model with BO using all features ($nruns=250$); second, employing Genetic Algorithms from the 'sklearn-genetic-opt' package for feature selection with the hyperparameters obtained in the first step and the following GA hyperparameters: $nruns=250$ and $P=15$; and finally, repeating the hyperparameter tuning with BO but using only the selected variables ($nruns=250$).The columns $ga\\_NFS$ and $ga\\_FINAL\\_SCORE\\_TST$ display the results obtained using $sklearn-genetic-opt$ with the three steps described above.\n",
    "\n",
    "In these experiments, half of the instances from each dataset were used for training/validation, while the remaining half constituted the test dataset to assess the generalization capabilities of the models. The results represent the average values obtained from five runs of each methodology, each with different random seeds. 5-fold cross-validation was performed in all methods.\n",
    "\n",
    "All the results are based on 100 datasets, covering binary ($44$), multiclass ($34$), and regression ($22$) problems, which were sourced from [openml.org](https://www.openml.org/) using the 'Download_Datasets.ipynb' notebook. Base ML algorithms were scikit-learn *KernelRidge* for regression datasets, and scikit-learn *LogisticRegression* for binary and multiclass datasets."
   ]
  },
  {
   "cell_type": "code",
   "execution_count": 26,
   "id": "8c734963",
   "metadata": {
    "ExecuteTime": {
     "end_time": "2023-09-18T20:02:23.841479Z",
     "start_time": "2023-09-18T20:02:23.795608Z"
    }
   },
   "outputs": [],
   "source": [
    "# Obtained with 'SKGENETICSComparative.py'\n",
    "ga_mat = pd.read_csv('./results/sklearn_genetics_opt_2023_08_01_11_51_45_.csv')\n",
    "# Obtained with 'HybComparative.py'\n",
    "hyb_mat = pd.read_csv('./results/hybrid_alone2023_08_01_11_37_47_.csv')\n",
    "# Obtained with 'BOComparative.py'\n",
    "bo_mat = pd.read_csv('./results/bayesian_opt_all_feats2023_07_31_16_38_05_.csv')"
   ]
  },
  {
   "cell_type": "code",
   "execution_count": 27,
   "id": "d23a368c",
   "metadata": {
    "ExecuteTime": {
     "end_time": "2023-09-18T20:02:23.871567Z",
     "start_time": "2023-09-18T20:02:23.843433Z"
    }
   },
   "outputs": [
    {
     "data": {
      "text/html": [
       "<div>\n",
       "<style scoped>\n",
       "    .dataframe tbody tr th:only-of-type {\n",
       "        vertical-align: middle;\n",
       "    }\n",
       "\n",
       "    .dataframe tbody tr th {\n",
       "        vertical-align: top;\n",
       "    }\n",
       "\n",
       "    .dataframe thead th {\n",
       "        text-align: right;\n",
       "    }\n",
       "</style>\n",
       "<table border=\"1\" class=\"dataframe\">\n",
       "  <thead>\n",
       "    <tr style=\"text-align: right;\">\n",
       "      <th></th>\n",
       "      <th>optim</th>\n",
       "      <th>name_db</th>\n",
       "      <th>type_prob</th>\n",
       "      <th>score_type</th>\n",
       "      <th>run_total</th>\n",
       "      <th>time_limit</th>\n",
       "      <th>elapsed_time</th>\n",
       "      <th>num_rows</th>\n",
       "      <th>num_cols</th>\n",
       "      <th>num_classes</th>\n",
       "      <th>train_val_size</th>\n",
       "      <th>test_size</th>\n",
       "      <th>NFS</th>\n",
       "      <th>FINAL_SCORE_VAL</th>\n",
       "      <th>FINAL_SCORE_TST</th>\n",
       "      <th>name_file</th>\n",
       "      <th>model</th>\n",
       "      <th>selec_feats_thr</th>\n",
       "      <th>best_model_parameters</th>\n",
       "      <th>best_model_probsfeats</th>\n",
       "    </tr>\n",
       "  </thead>\n",
       "  <tbody>\n",
       "    <tr>\n",
       "      <th>499</th>\n",
       "      <td>HYB</td>\n",
       "      <td>BachChoralHarmony</td>\n",
       "      <td>multiclass</td>\n",
       "      <td>f1_macro</td>\n",
       "      <td>4</td>\n",
       "      <td>120.0</td>\n",
       "      <td>122.941583</td>\n",
       "      <td>5665</td>\n",
       "      <td>104</td>\n",
       "      <td>102</td>\n",
       "      <td>2832</td>\n",
       "      <td>2833</td>\n",
       "      <td>90</td>\n",
       "      <td>0.468365</td>\n",
       "      <td>0.373867</td>\n",
       "      <td>BachChoralHarmony.csv</td>\n",
       "      <td>LogisticRegression(C=17.915062412004428, max_i...</td>\n",
       "      <td>['V1_  003006b_', 'V1_000106b_', 'V1_000206b_'...</td>\n",
       "      <td>[1.2532183254880023]</td>\n",
       "      <td>[0.4011513482211091 0.5941881747136664 0.88375...</td>\n",
       "    </tr>\n",
       "  </tbody>\n",
       "</table>\n",
       "</div>"
      ],
      "text/plain": [
       "    optim            name_db   type_prob score_type  run_total  time_limit  \\\n",
       "499   HYB  BachChoralHarmony  multiclass   f1_macro          4       120.0   \n",
       "\n",
       "     elapsed_time  num_rows  num_cols  num_classes  train_val_size  test_size  \\\n",
       "499    122.941583      5665       104          102            2832       2833   \n",
       "\n",
       "     NFS  FINAL_SCORE_VAL  FINAL_SCORE_TST              name_file  \\\n",
       "499   90         0.468365         0.373867  BachChoralHarmony.csv   \n",
       "\n",
       "                                                 model  \\\n",
       "499  LogisticRegression(C=17.915062412004428, max_i...   \n",
       "\n",
       "                                       selec_feats_thr best_model_parameters  \\\n",
       "499  ['V1_  003006b_', 'V1_000106b_', 'V1_000206b_'...  [1.2532183254880023]   \n",
       "\n",
       "                                 best_model_probsfeats  \n",
       "499  [0.4011513482211091 0.5941881747136664 0.88375...  "
      ]
     },
     "execution_count": 27,
     "metadata": {},
     "output_type": "execute_result"
    }
   ],
   "source": [
    "hyb_mat.tail(1)"
   ]
  },
  {
   "cell_type": "code",
   "execution_count": 28,
   "id": "b1b762e7",
   "metadata": {
    "ExecuteTime": {
     "end_time": "2023-09-18T20:02:23.887558Z",
     "start_time": "2023-09-18T20:02:23.873585Z"
    }
   },
   "outputs": [
    {
     "data": {
      "text/plain": [
       "type_prob\n",
       "binary        44\n",
       "multiclass    34\n",
       "regression    22\n",
       "Name: count, dtype: int64"
      ]
     },
     "execution_count": 28,
     "metadata": {},
     "output_type": "execute_result"
    }
   ],
   "source": [
    "hyb_mat.type_prob.value_counts()//5"
   ]
  },
  {
   "cell_type": "code",
   "execution_count": 29,
   "id": "1822520a",
   "metadata": {
    "ExecuteTime": {
     "end_time": "2023-09-18T20:02:23.919649Z",
     "start_time": "2023-09-18T20:02:23.890556Z"
    }
   },
   "outputs": [
    {
     "data": {
      "text/html": [
       "<div>\n",
       "<style scoped>\n",
       "    .dataframe tbody tr th:only-of-type {\n",
       "        vertical-align: middle;\n",
       "    }\n",
       "\n",
       "    .dataframe tbody tr th {\n",
       "        vertical-align: top;\n",
       "    }\n",
       "\n",
       "    .dataframe thead th {\n",
       "        text-align: right;\n",
       "    }\n",
       "</style>\n",
       "<table border=\"1\" class=\"dataframe\">\n",
       "  <thead>\n",
       "    <tr style=\"text-align: right;\">\n",
       "      <th></th>\n",
       "      <th>optim</th>\n",
       "      <th>name_db</th>\n",
       "      <th>type_prob</th>\n",
       "      <th>score_type</th>\n",
       "      <th>run_total</th>\n",
       "      <th>time_limit</th>\n",
       "      <th>elapsed_time</th>\n",
       "      <th>num_rows</th>\n",
       "      <th>num_cols</th>\n",
       "      <th>num_classes</th>\n",
       "      <th>train_val_size</th>\n",
       "      <th>test_size</th>\n",
       "      <th>NFS</th>\n",
       "      <th>FINAL_SCORE_VAL</th>\n",
       "      <th>FINAL_SCORE_TST</th>\n",
       "      <th>name_file</th>\n",
       "      <th>model</th>\n",
       "      <th>best_feats</th>\n",
       "    </tr>\n",
       "  </thead>\n",
       "  <tbody>\n",
       "    <tr>\n",
       "      <th>493</th>\n",
       "      <td>SKGENETICSOPT</td>\n",
       "      <td>BachChoralHarmony</td>\n",
       "      <td>multiclass</td>\n",
       "      <td>f1_macro</td>\n",
       "      <td>4</td>\n",
       "      <td>120.0</td>\n",
       "      <td>547.171066</td>\n",
       "      <td>5665</td>\n",
       "      <td>104</td>\n",
       "      <td>102</td>\n",
       "      <td>2832</td>\n",
       "      <td>2833</td>\n",
       "      <td>67</td>\n",
       "      <td>0.467027</td>\n",
       "      <td>0.337267</td>\n",
       "      <td>BachChoralHarmony.csv</td>\n",
       "      <td>LogisticRegression(C=15.844828041760172, max_i...</td>\n",
       "      <td>Index(['V1_    002908ch', 'V1_000306b_', 'V1_0...</td>\n",
       "    </tr>\n",
       "  </tbody>\n",
       "</table>\n",
       "</div>"
      ],
      "text/plain": [
       "             optim            name_db   type_prob score_type  run_total  \\\n",
       "493  SKGENETICSOPT  BachChoralHarmony  multiclass   f1_macro          4   \n",
       "\n",
       "     time_limit  elapsed_time  num_rows  num_cols  num_classes  \\\n",
       "493       120.0    547.171066      5665       104          102   \n",
       "\n",
       "     train_val_size  test_size  NFS  FINAL_SCORE_VAL  FINAL_SCORE_TST  \\\n",
       "493            2832       2833   67         0.467027         0.337267   \n",
       "\n",
       "                 name_file                                              model  \\\n",
       "493  BachChoralHarmony.csv  LogisticRegression(C=15.844828041760172, max_i...   \n",
       "\n",
       "                                            best_feats  \n",
       "493  Index(['V1_    002908ch', 'V1_000306b_', 'V1_0...  "
      ]
     },
     "execution_count": 29,
     "metadata": {},
     "output_type": "execute_result"
    }
   ],
   "source": [
    "ga_mat.tail(1)"
   ]
  },
  {
   "cell_type": "code",
   "execution_count": 30,
   "id": "7b202ef0",
   "metadata": {
    "ExecuteTime": {
     "end_time": "2023-09-18T20:02:23.950685Z",
     "start_time": "2023-09-18T20:02:23.923631Z"
    }
   },
   "outputs": [
    {
     "data": {
      "text/html": [
       "<div>\n",
       "<style scoped>\n",
       "    .dataframe tbody tr th:only-of-type {\n",
       "        vertical-align: middle;\n",
       "    }\n",
       "\n",
       "    .dataframe tbody tr th {\n",
       "        vertical-align: top;\n",
       "    }\n",
       "\n",
       "    .dataframe thead th {\n",
       "        text-align: right;\n",
       "    }\n",
       "</style>\n",
       "<table border=\"1\" class=\"dataframe\">\n",
       "  <thead>\n",
       "    <tr style=\"text-align: right;\">\n",
       "      <th></th>\n",
       "      <th>optim</th>\n",
       "      <th>name_db</th>\n",
       "      <th>type_prob</th>\n",
       "      <th>score_type</th>\n",
       "      <th>run_total</th>\n",
       "      <th>time_limit</th>\n",
       "      <th>elapsed_time</th>\n",
       "      <th>num_rows</th>\n",
       "      <th>num_cols</th>\n",
       "      <th>num_classes</th>\n",
       "      <th>train_val_size</th>\n",
       "      <th>test_size</th>\n",
       "      <th>NFS</th>\n",
       "      <th>FINAL_SCORE_VAL</th>\n",
       "      <th>FINAL_SCORE_TST</th>\n",
       "      <th>name_file</th>\n",
       "      <th>model</th>\n",
       "    </tr>\n",
       "  </thead>\n",
       "  <tbody>\n",
       "    <tr>\n",
       "      <th>493</th>\n",
       "      <td>BO</td>\n",
       "      <td>BachChoralHarmony</td>\n",
       "      <td>multiclass</td>\n",
       "      <td>f1_macro</td>\n",
       "      <td>4</td>\n",
       "      <td>120.0</td>\n",
       "      <td>93.562942</td>\n",
       "      <td>5665</td>\n",
       "      <td>104</td>\n",
       "      <td>102</td>\n",
       "      <td>2832</td>\n",
       "      <td>2833</td>\n",
       "      <td>104</td>\n",
       "      <td>0.465363</td>\n",
       "      <td>0.409244</td>\n",
       "      <td>BachChoralHarmony.csv</td>\n",
       "      <td>LogisticRegression(C=18.638050934611805, max_i...</td>\n",
       "    </tr>\n",
       "  </tbody>\n",
       "</table>\n",
       "</div>"
      ],
      "text/plain": [
       "    optim            name_db   type_prob score_type  run_total  time_limit  \\\n",
       "493    BO  BachChoralHarmony  multiclass   f1_macro          4       120.0   \n",
       "\n",
       "     elapsed_time  num_rows  num_cols  num_classes  train_val_size  test_size  \\\n",
       "493     93.562942      5665       104          102            2832       2833   \n",
       "\n",
       "     NFS  FINAL_SCORE_VAL  FINAL_SCORE_TST              name_file  \\\n",
       "493  104         0.465363         0.409244  BachChoralHarmony.csv   \n",
       "\n",
       "                                                 model  \n",
       "493  LogisticRegression(C=18.638050934611805, max_i...  "
      ]
     },
     "execution_count": 30,
     "metadata": {},
     "output_type": "execute_result"
    }
   ],
   "source": [
    "bo_mat.tail(1)"
   ]
  },
  {
   "cell_type": "code",
   "execution_count": 31,
   "id": "8d76317a",
   "metadata": {
    "ExecuteTime": {
     "end_time": "2023-09-18T20:02:23.980791Z",
     "start_time": "2023-09-18T20:02:23.952683Z"
    }
   },
   "outputs": [],
   "source": [
    "bo_mat_mean = bo_mat[['name_file', 'elapsed_time', 'num_rows', 'num_cols', 'num_classes',\n",
    "       'train_val_size', 'test_size', 'NFS', 'FINAL_SCORE_VAL',\n",
    "       'FINAL_SCORE_TST']].groupby('name_file').mean().reset_index()\n",
    "\n",
    "hyb_mat_mean = hyb_mat[['name_file', 'elapsed_time', 'num_rows', 'num_cols', 'num_classes',\n",
    "       'train_val_size', 'test_size', 'NFS', 'FINAL_SCORE_VAL',\n",
    "       'FINAL_SCORE_TST']].groupby('name_file').mean().reset_index()\n",
    "\n",
    "ga_mat_mean = ga_mat[['name_file', 'elapsed_time', 'num_rows', 'num_cols', 'num_classes',\n",
    "       'train_val_size', 'test_size', 'NFS', 'FINAL_SCORE_VAL',\n",
    "       'FINAL_SCORE_TST']].groupby('name_file').mean().reset_index()"
   ]
  },
  {
   "cell_type": "code",
   "execution_count": 32,
   "id": "be505e42",
   "metadata": {
    "ExecuteTime": {
     "end_time": "2023-09-18T20:02:23.995783Z",
     "start_time": "2023-09-18T20:02:23.986787Z"
    }
   },
   "outputs": [
    {
     "data": {
      "text/plain": [
       "array(['Ailerons.csv', 'BachChoralHarmony.csv', 'COIL2000.csv',\n",
       "       'Contaminant.csv', 'CreditCardSubset.csv', 'ECG5000.csv',\n",
       "       'FICO.csv', 'GesturePhaseSegmentationProcessed.csv',\n",
       "       'IEEE80211aa.csv', 'Indian.csv', 'Insurance.csv',\n",
       "       'Intersectional.csv', 'JapaneseVowels.csv', 'Job.csv',\n",
       "       'Kaggle.csv', 'Long.csv', 'MagicTelescope.csv',\n",
       "       'MiamiHousing2016.csv', 'PhishingWebsites.csv', 'SAT11.csv',\n",
       "       'Satellite.csv', 'Titanic.csv', 'USPS.csv', 'VulNoneVul.csv',\n",
       "       'ada.csv', 'ailerons.csv', 'allbp.csv', 'ames.csv', 'autoUniv.csv',\n",
       "       'avocado.csv', 'bank32nh.csv', 'cardiotocography.csv', 'churn.csv',\n",
       "       'cjs.csv', 'clean2.csv', 'coil2000.csv', 'compas.csv', 'cpu.csv',\n",
       "       'credit.csv', 'dataset.csv', 'default.csv', 'dis.csv', 'dna.csv',\n",
       "       'eeg.csv', 'elevators.csv', 'eye.csv', 'fifa.csv', 'first.csv',\n",
       "       'gas.csv', 'grid.csv', 'health.csv', 'heloc.csv', 'house.csv',\n",
       "       'hypothyroid.csv', 'jasmine.csv', 'jm1.csv', 'jungle.csv',\n",
       "       'kc1.csv', 'kings.csv', 'kr.csv', 'law.csv', 'led24.csv',\n",
       "       'letter.csv', 'madeline.csv', 'mc1.csv', 'miami.csv',\n",
       "       'microaggregation2.csv', 'mtp.csv', 'mushroom.csv', 'national.csv',\n",
       "       'naval.csv', 'optdigits.csv', 'page.csv', 'pc2.csv',\n",
       "       'pendigits.csv', 'philippine.csv', 'pol.csv', 'puma32H.csv',\n",
       "       'ringnorm.csv', 'satimage.csv', 'scene.csv', 'segment.csv',\n",
       "       'shrutime.csv', 'sick.csv', 'spambase.csv', 'splice.csv',\n",
       "       'superconduct.csv', 'sylva.csv', 'test.csv', 'texture.csv',\n",
       "       'thyroid.csv', 'topo.csv', 'turing.csv', 'twonorm.csv', 'wall.csv',\n",
       "       'waveform.csv', 'white.csv', 'wine.csv', 'yeast.csv', 'yprop.csv'],\n",
       "      dtype=object)"
      ]
     },
     "execution_count": 32,
     "metadata": {},
     "output_type": "execute_result"
    }
   ],
   "source": [
    "names_inter = np.intersect1d(bo_mat_mean.name_file, hyb_mat_mean.name_file)\n",
    "names_inter = np.intersect1d(names_inter, ga_mat_mean.name_file)\n",
    "names_inter"
   ]
  },
  {
   "cell_type": "code",
   "execution_count": 33,
   "id": "72fd161a",
   "metadata": {
    "ExecuteTime": {
     "end_time": "2023-09-18T20:02:24.011848Z",
     "start_time": "2023-09-18T20:02:23.998855Z"
    }
   },
   "outputs": [],
   "source": [
    "bo_mat_mean_selec = bo_mat_mean[bo_mat_mean.name_file.isin(names_inter)]\n",
    "hyb_mat_mean_selec = hyb_mat_mean[hyb_mat_mean.name_file.isin(names_inter)]\n",
    "ga_mat_mean_selec = ga_mat_mean[ga_mat_mean.name_file.isin(names_inter)]"
   ]
  },
  {
   "cell_type": "code",
   "execution_count": 34,
   "id": "172b60d4",
   "metadata": {
    "ExecuteTime": {
     "end_time": "2023-09-18T20:02:24.027838Z",
     "start_time": "2023-09-18T20:02:24.013848Z"
    }
   },
   "outputs": [],
   "source": [
    "bo_mat_mean_selec.columns = ['bo_'+i for i in bo_mat_mean_selec.columns]\n",
    "hyb_mat_mean_selec.columns = ['hyb_'+i for i in hyb_mat_mean_selec.columns]\n",
    "ga_mat_mean_selec.columns = ['ga_'+i for i in ga_mat_mean_selec.columns]\n"
   ]
  },
  {
   "cell_type": "code",
   "execution_count": 35,
   "id": "dd983630",
   "metadata": {
    "ExecuteTime": {
     "end_time": "2023-09-18T20:02:24.043915Z",
     "start_time": "2023-09-18T20:02:24.029838Z"
    }
   },
   "outputs": [],
   "source": [
    "bo_mat_mean_selec.columns.values[0] = 'name_file'\n",
    "hyb_mat_mean_selec.columns.values[0] = 'name_file'\n",
    "ga_mat_mean_selec.columns.values[0] = 'name_file'"
   ]
  },
  {
   "cell_type": "code",
   "execution_count": 36,
   "id": "8b609de4",
   "metadata": {
    "ExecuteTime": {
     "end_time": "2023-09-18T20:02:24.059902Z",
     "start_time": "2023-09-18T20:02:24.046911Z"
    }
   },
   "outputs": [],
   "source": [
    "mat_merge = pd.merge(pd.merge(bo_mat_mean_selec, hyb_mat_mean_selec, on='name_file'),ga_mat_mean_selec, on='name_file')"
   ]
  },
  {
   "cell_type": "code",
   "execution_count": 37,
   "id": "51adab90",
   "metadata": {
    "ExecuteTime": {
     "end_time": "2023-09-18T20:02:24.074978Z",
     "start_time": "2023-09-18T20:02:24.061901Z"
    }
   },
   "outputs": [
    {
     "data": {
      "text/plain": [
       "Index(['name_file', 'bo_elapsed_time', 'bo_num_rows', 'bo_num_cols',\n",
       "       'bo_num_classes', 'bo_train_val_size', 'bo_test_size', 'bo_NFS',\n",
       "       'bo_FINAL_SCORE_VAL', 'bo_FINAL_SCORE_TST', 'hyb_elapsed_time',\n",
       "       'hyb_num_rows', 'hyb_num_cols', 'hyb_num_classes', 'hyb_train_val_size',\n",
       "       'hyb_test_size', 'hyb_NFS', 'hyb_FINAL_SCORE_VAL',\n",
       "       'hyb_FINAL_SCORE_TST', 'ga_elapsed_time', 'ga_num_rows', 'ga_num_cols',\n",
       "       'ga_num_classes', 'ga_train_val_size', 'ga_test_size', 'ga_NFS',\n",
       "       'ga_FINAL_SCORE_VAL', 'ga_FINAL_SCORE_TST'],\n",
       "      dtype='object')"
      ]
     },
     "execution_count": 37,
     "metadata": {},
     "output_type": "execute_result"
    }
   ],
   "source": [
    "mat_merge.columns"
   ]
  },
  {
   "cell_type": "code",
   "execution_count": 38,
   "id": "a0f52f60",
   "metadata": {
    "ExecuteTime": {
     "end_time": "2023-09-18T20:02:24.089969Z",
     "start_time": "2023-09-18T20:02:24.077977Z"
    }
   },
   "outputs": [],
   "source": [
    "mat_merge = pd.merge(mat_merge, bo_mat[[ 'name_db', 'type_prob', 'score_type', 'num_rows', 'num_cols', 'num_classes',\n",
    "       'train_val_size', 'test_size', 'name_file']].drop_duplicates(), on='name_file', how='left')"
   ]
  },
  {
   "cell_type": "code",
   "execution_count": 39,
   "id": "805f74fc",
   "metadata": {
    "ExecuteTime": {
     "end_time": "2023-09-18T20:02:24.136158Z",
     "start_time": "2023-09-18T20:02:24.091969Z"
    }
   },
   "outputs": [
    {
     "data": {
      "text/html": [
       "<div>\n",
       "<style scoped>\n",
       "    .dataframe tbody tr th:only-of-type {\n",
       "        vertical-align: middle;\n",
       "    }\n",
       "\n",
       "    .dataframe tbody tr th {\n",
       "        vertical-align: top;\n",
       "    }\n",
       "\n",
       "    .dataframe thead th {\n",
       "        text-align: right;\n",
       "    }\n",
       "</style>\n",
       "<table border=\"1\" class=\"dataframe\">\n",
       "  <thead>\n",
       "    <tr style=\"text-align: right;\">\n",
       "      <th></th>\n",
       "      <th>name_db</th>\n",
       "      <th>train_val_size</th>\n",
       "      <th>score_type</th>\n",
       "      <th>bo_NFS</th>\n",
       "      <th>hyb_NFS</th>\n",
       "      <th>ga_NFS</th>\n",
       "      <th>bo_FINAL_SCORE_TST</th>\n",
       "      <th>hyb_FINAL_SCORE_TST</th>\n",
       "      <th>ga_FINAL_SCORE_TST</th>\n",
       "    </tr>\n",
       "  </thead>\n",
       "  <tbody>\n",
       "    <tr>\n",
       "      <th>42</th>\n",
       "      <td>dna</td>\n",
       "      <td>1593</td>\n",
       "      <td>f1_macro</td>\n",
       "      <td>360.0</td>\n",
       "      <td>156.2</td>\n",
       "      <td>181.4</td>\n",
       "      <td>0.941958</td>\n",
       "      <td>0.944403</td>\n",
       "      <td>0.943414</td>\n",
       "    </tr>\n",
       "    <tr>\n",
       "      <th>27</th>\n",
       "      <td>ames_housing</td>\n",
       "      <td>1465</td>\n",
       "      <td>MSE/RMSE</td>\n",
       "      <td>354.0</td>\n",
       "      <td>178.8</td>\n",
       "      <td>187.0</td>\n",
       "      <td>0.441985</td>\n",
       "      <td>0.520473</td>\n",
       "      <td>0.525417</td>\n",
       "    </tr>\n",
       "    <tr>\n",
       "      <th>75</th>\n",
       "      <td>philippine</td>\n",
       "      <td>2916</td>\n",
       "      <td>logloss</td>\n",
       "      <td>308.0</td>\n",
       "      <td>62.6</td>\n",
       "      <td>151.6</td>\n",
       "      <td>0.556639</td>\n",
       "      <td>0.542137</td>\n",
       "      <td>0.551931</td>\n",
       "    </tr>\n",
       "    <tr>\n",
       "      <th>80</th>\n",
       "      <td>scene</td>\n",
       "      <td>1203</td>\n",
       "      <td>logloss</td>\n",
       "      <td>304.0</td>\n",
       "      <td>49.2</td>\n",
       "      <td>142.6</td>\n",
       "      <td>0.200099</td>\n",
       "      <td>0.060756</td>\n",
       "      <td>0.107927</td>\n",
       "    </tr>\n",
       "    <tr>\n",
       "      <th>85</th>\n",
       "      <td>splice</td>\n",
       "      <td>1595</td>\n",
       "      <td>f1_macro</td>\n",
       "      <td>287.0</td>\n",
       "      <td>146.6</td>\n",
       "      <td>157.4</td>\n",
       "      <td>0.941357</td>\n",
       "      <td>0.943285</td>\n",
       "      <td>0.932967</td>\n",
       "    </tr>\n",
       "    <tr>\n",
       "      <th>54</th>\n",
       "      <td>jasmine</td>\n",
       "      <td>1492</td>\n",
       "      <td>logloss</td>\n",
       "      <td>280.0</td>\n",
       "      <td>71.4</td>\n",
       "      <td>141.0</td>\n",
       "      <td>0.444726</td>\n",
       "      <td>0.447615</td>\n",
       "      <td>0.446151</td>\n",
       "    </tr>\n",
       "    <tr>\n",
       "      <th>91</th>\n",
       "      <td>topo_2_1</td>\n",
       "      <td>4442</td>\n",
       "      <td>MSE/RMSE</td>\n",
       "      <td>266.0</td>\n",
       "      <td>68.8</td>\n",
       "      <td>138.6</td>\n",
       "      <td>0.924924</td>\n",
       "      <td>0.924205</td>\n",
       "      <td>0.923439</td>\n",
       "    </tr>\n",
       "    <tr>\n",
       "      <th>63</th>\n",
       "      <td>madeline</td>\n",
       "      <td>1570</td>\n",
       "      <td>logloss</td>\n",
       "      <td>259.0</td>\n",
       "      <td>54.0</td>\n",
       "      <td>126.8</td>\n",
       "      <td>0.670282</td>\n",
       "      <td>0.680337</td>\n",
       "      <td>0.672189</td>\n",
       "    </tr>\n",
       "    <tr>\n",
       "      <th>22</th>\n",
       "      <td>USPS</td>\n",
       "      <td>4649</td>\n",
       "      <td>f1_macro</td>\n",
       "      <td>256.0</td>\n",
       "      <td>135.8</td>\n",
       "      <td>136.6</td>\n",
       "      <td>0.939930</td>\n",
       "      <td>0.938260</td>\n",
       "      <td>0.937496</td>\n",
       "    </tr>\n",
       "    <tr>\n",
       "      <th>99</th>\n",
       "      <td>yprop_4_1</td>\n",
       "      <td>4442</td>\n",
       "      <td>MSE/RMSE</td>\n",
       "      <td>251.0</td>\n",
       "      <td>84.6</td>\n",
       "      <td>121.4</td>\n",
       "      <td>0.915840</td>\n",
       "      <td>0.924978</td>\n",
       "      <td>0.918469</td>\n",
       "    </tr>\n",
       "    <tr>\n",
       "      <th>28</th>\n",
       "      <td>autoUniv-au4-2500</td>\n",
       "      <td>1250</td>\n",
       "      <td>f1_macro</td>\n",
       "      <td>226.0</td>\n",
       "      <td>93.0</td>\n",
       "      <td>109.8</td>\n",
       "      <td>0.397151</td>\n",
       "      <td>0.401714</td>\n",
       "      <td>0.397066</td>\n",
       "    </tr>\n",
       "    <tr>\n",
       "      <th>9</th>\n",
       "      <td>Indian_pines</td>\n",
       "      <td>4572</td>\n",
       "      <td>f1_macro</td>\n",
       "      <td>220.0</td>\n",
       "      <td>105.2</td>\n",
       "      <td>108.4</td>\n",
       "      <td>0.837844</td>\n",
       "      <td>0.832469</td>\n",
       "      <td>0.826121</td>\n",
       "    </tr>\n",
       "    <tr>\n",
       "      <th>67</th>\n",
       "      <td>mtp</td>\n",
       "      <td>2225</td>\n",
       "      <td>MSE/RMSE</td>\n",
       "      <td>202.0</td>\n",
       "      <td>70.2</td>\n",
       "      <td>110.4</td>\n",
       "      <td>0.694320</td>\n",
       "      <td>0.688403</td>\n",
       "      <td>0.686934</td>\n",
       "    </tr>\n",
       "    <tr>\n",
       "      <th>34</th>\n",
       "      <td>clean2</td>\n",
       "      <td>3299</td>\n",
       "      <td>logloss</td>\n",
       "      <td>168.0</td>\n",
       "      <td>36.0</td>\n",
       "      <td>73.8</td>\n",
       "      <td>0.000009</td>\n",
       "      <td>0.000007</td>\n",
       "      <td>0.000009</td>\n",
       "    </tr>\n",
       "    <tr>\n",
       "      <th>2</th>\n",
       "      <td>COIL2000-train</td>\n",
       "      <td>2911</td>\n",
       "      <td>logloss</td>\n",
       "      <td>150.0</td>\n",
       "      <td>35.6</td>\n",
       "      <td>77.2</td>\n",
       "      <td>0.210128</td>\n",
       "      <td>0.212552</td>\n",
       "      <td>0.211421</td>\n",
       "    </tr>\n",
       "    <tr>\n",
       "      <th>5</th>\n",
       "      <td>ECG5000</td>\n",
       "      <td>2499</td>\n",
       "      <td>logloss</td>\n",
       "      <td>140.0</td>\n",
       "      <td>29.4</td>\n",
       "      <td>68.6</td>\n",
       "      <td>0.044005</td>\n",
       "      <td>0.049573</td>\n",
       "      <td>0.044114</td>\n",
       "    </tr>\n",
       "    <tr>\n",
       "      <th>58</th>\n",
       "      <td>kings_county</td>\n",
       "      <td>10806</td>\n",
       "      <td>MSE/RMSE</td>\n",
       "      <td>132.0</td>\n",
       "      <td>97.0</td>\n",
       "      <td>79.8</td>\n",
       "      <td>0.356660</td>\n",
       "      <td>0.374112</td>\n",
       "      <td>0.370150</td>\n",
       "    </tr>\n",
       "    <tr>\n",
       "      <th>19</th>\n",
       "      <td>SAT11-HAND-runtime-regression</td>\n",
       "      <td>2220</td>\n",
       "      <td>MSE/RMSE</td>\n",
       "      <td>130.0</td>\n",
       "      <td>48.4</td>\n",
       "      <td>77.0</td>\n",
       "      <td>0.517730</td>\n",
       "      <td>0.514349</td>\n",
       "      <td>0.510731</td>\n",
       "    </tr>\n",
       "    <tr>\n",
       "      <th>98</th>\n",
       "      <td>yeast_ml8</td>\n",
       "      <td>1208</td>\n",
       "      <td>logloss</td>\n",
       "      <td>129.0</td>\n",
       "      <td>38.0</td>\n",
       "      <td>66.5</td>\n",
       "      <td>0.066597</td>\n",
       "      <td>0.113988</td>\n",
       "      <td>0.071769</td>\n",
       "    </tr>\n",
       "    <tr>\n",
       "      <th>48</th>\n",
       "      <td>gas-drift</td>\n",
       "      <td>6955</td>\n",
       "      <td>f1_macro</td>\n",
       "      <td>128.0</td>\n",
       "      <td>56.8</td>\n",
       "      <td>67.4</td>\n",
       "      <td>0.988435</td>\n",
       "      <td>0.988515</td>\n",
       "      <td>0.988832</td>\n",
       "    </tr>\n",
       "    <tr>\n",
       "      <th>68</th>\n",
       "      <td>mushroom</td>\n",
       "      <td>4062</td>\n",
       "      <td>logloss</td>\n",
       "      <td>125.0</td>\n",
       "      <td>59.4</td>\n",
       "      <td>70.4</td>\n",
       "      <td>0.000039</td>\n",
       "      <td>0.000053</td>\n",
       "      <td>0.000039</td>\n",
       "    </tr>\n",
       "    <tr>\n",
       "      <th>87</th>\n",
       "      <td>sylva_prior</td>\n",
       "      <td>7197</td>\n",
       "      <td>logloss</td>\n",
       "      <td>108.0</td>\n",
       "      <td>55.8</td>\n",
       "      <td>61.2</td>\n",
       "      <td>0.017647</td>\n",
       "      <td>0.019883</td>\n",
       "      <td>0.019447</td>\n",
       "    </tr>\n",
       "    <tr>\n",
       "      <th>1</th>\n",
       "      <td>BachChoralHarmony</td>\n",
       "      <td>2832</td>\n",
       "      <td>f1_macro</td>\n",
       "      <td>104.0</td>\n",
       "      <td>81.4</td>\n",
       "      <td>61.8</td>\n",
       "      <td>0.404796</td>\n",
       "      <td>0.387750</td>\n",
       "      <td>0.370661</td>\n",
       "    </tr>\n",
       "    <tr>\n",
       "      <th>24</th>\n",
       "      <td>ada_prior</td>\n",
       "      <td>2281</td>\n",
       "      <td>logloss</td>\n",
       "      <td>102.0</td>\n",
       "      <td>43.4</td>\n",
       "      <td>56.6</td>\n",
       "      <td>0.353013</td>\n",
       "      <td>0.355549</td>\n",
       "      <td>0.353059</td>\n",
       "    </tr>\n",
       "  </tbody>\n",
       "</table>\n",
       "</div>"
      ],
      "text/plain": [
       "                          name_db  train_val_size score_type  bo_NFS  hyb_NFS  \\\n",
       "42                            dna            1593   f1_macro   360.0    156.2   \n",
       "27                   ames_housing            1465   MSE/RMSE   354.0    178.8   \n",
       "75                     philippine            2916    logloss   308.0     62.6   \n",
       "80                          scene            1203    logloss   304.0     49.2   \n",
       "85                         splice            1595   f1_macro   287.0    146.6   \n",
       "54                        jasmine            1492    logloss   280.0     71.4   \n",
       "91                       topo_2_1            4442   MSE/RMSE   266.0     68.8   \n",
       "63                       madeline            1570    logloss   259.0     54.0   \n",
       "22                           USPS            4649   f1_macro   256.0    135.8   \n",
       "99                      yprop_4_1            4442   MSE/RMSE   251.0     84.6   \n",
       "28              autoUniv-au4-2500            1250   f1_macro   226.0     93.0   \n",
       "9                    Indian_pines            4572   f1_macro   220.0    105.2   \n",
       "67                            mtp            2225   MSE/RMSE   202.0     70.2   \n",
       "34                         clean2            3299    logloss   168.0     36.0   \n",
       "2                  COIL2000-train            2911    logloss   150.0     35.6   \n",
       "5                         ECG5000            2499    logloss   140.0     29.4   \n",
       "58                   kings_county           10806   MSE/RMSE   132.0     97.0   \n",
       "19  SAT11-HAND-runtime-regression            2220   MSE/RMSE   130.0     48.4   \n",
       "98                      yeast_ml8            1208    logloss   129.0     38.0   \n",
       "48                      gas-drift            6955   f1_macro   128.0     56.8   \n",
       "68                       mushroom            4062    logloss   125.0     59.4   \n",
       "87                    sylva_prior            7197    logloss   108.0     55.8   \n",
       "1               BachChoralHarmony            2832   f1_macro   104.0     81.4   \n",
       "24                      ada_prior            2281    logloss   102.0     43.4   \n",
       "\n",
       "    ga_NFS  bo_FINAL_SCORE_TST  hyb_FINAL_SCORE_TST  ga_FINAL_SCORE_TST  \n",
       "42   181.4            0.941958             0.944403            0.943414  \n",
       "27   187.0            0.441985             0.520473            0.525417  \n",
       "75   151.6            0.556639             0.542137            0.551931  \n",
       "80   142.6            0.200099             0.060756            0.107927  \n",
       "85   157.4            0.941357             0.943285            0.932967  \n",
       "54   141.0            0.444726             0.447615            0.446151  \n",
       "91   138.6            0.924924             0.924205            0.923439  \n",
       "63   126.8            0.670282             0.680337            0.672189  \n",
       "22   136.6            0.939930             0.938260            0.937496  \n",
       "99   121.4            0.915840             0.924978            0.918469  \n",
       "28   109.8            0.397151             0.401714            0.397066  \n",
       "9    108.4            0.837844             0.832469            0.826121  \n",
       "67   110.4            0.694320             0.688403            0.686934  \n",
       "34    73.8            0.000009             0.000007            0.000009  \n",
       "2     77.2            0.210128             0.212552            0.211421  \n",
       "5     68.6            0.044005             0.049573            0.044114  \n",
       "58    79.8            0.356660             0.374112            0.370150  \n",
       "19    77.0            0.517730             0.514349            0.510731  \n",
       "98    66.5            0.066597             0.113988            0.071769  \n",
       "48    67.4            0.988435             0.988515            0.988832  \n",
       "68    70.4            0.000039             0.000053            0.000039  \n",
       "87    61.2            0.017647             0.019883            0.019447  \n",
       "1     61.8            0.404796             0.387750            0.370661  \n",
       "24    56.6            0.353013             0.355549            0.353059  "
      ]
     },
     "execution_count": 39,
     "metadata": {},
     "output_type": "execute_result"
    }
   ],
   "source": [
    "mat_gt100cols = mat_merge.query('num_cols>100')[['name_db', 'train_val_size', 'score_type', 'bo_NFS', 'hyb_NFS', 'ga_NFS', 'bo_FINAL_SCORE_TST','hyb_FINAL_SCORE_TST','ga_FINAL_SCORE_TST']].sort_values('bo_NFS', ascending=False)\n",
    "mat_gt100cols"
   ]
  },
  {
   "cell_type": "code",
   "execution_count": 40,
   "id": "e4c289ad",
   "metadata": {
    "ExecuteTime": {
     "end_time": "2023-09-18T20:02:24.152148Z",
     "start_time": "2023-09-18T20:02:24.138156Z"
    }
   },
   "outputs": [],
   "source": [
    "mat_gt100cols.to_csv('mat_gt100cols.csv', index=False)"
   ]
  },
  {
   "cell_type": "markdown",
   "id": "063a31d2",
   "metadata": {},
   "source": [
    "# Results with Binary Datasets (LogLoss)"
   ]
  },
  {
   "cell_type": "code",
   "execution_count": 41,
   "id": "f885bb97",
   "metadata": {
    "ExecuteTime": {
     "end_time": "2023-09-18T20:02:24.200017Z",
     "start_time": "2023-09-18T20:02:24.154147Z"
    }
   },
   "outputs": [
    {
     "data": {
      "text/html": [
       "<div>\n",
       "<style scoped>\n",
       "    .dataframe tbody tr th:only-of-type {\n",
       "        vertical-align: middle;\n",
       "    }\n",
       "\n",
       "    .dataframe tbody tr th {\n",
       "        vertical-align: top;\n",
       "    }\n",
       "\n",
       "    .dataframe thead th {\n",
       "        text-align: right;\n",
       "    }\n",
       "</style>\n",
       "<table border=\"1\" class=\"dataframe\">\n",
       "  <thead>\n",
       "    <tr style=\"text-align: right;\">\n",
       "      <th></th>\n",
       "      <th>name_file</th>\n",
       "      <th>name_db</th>\n",
       "      <th>score_type</th>\n",
       "      <th>num_rows</th>\n",
       "      <th>num_cols</th>\n",
       "      <th>num_classes</th>\n",
       "      <th>train_val_size</th>\n",
       "      <th>test_size</th>\n",
       "      <th>bo_NFS</th>\n",
       "      <th>bo_FINAL_SCORE_TST</th>\n",
       "      <th>hyb_NFS</th>\n",
       "      <th>hyb_FINAL_SCORE_TST</th>\n",
       "      <th>ga_NFS</th>\n",
       "      <th>ga_FINAL_SCORE_TST</th>\n",
       "    </tr>\n",
       "  </thead>\n",
       "  <tbody>\n",
       "    <tr>\n",
       "      <th>75</th>\n",
       "      <td>philippine.csv</td>\n",
       "      <td>philippine</td>\n",
       "      <td>logloss</td>\n",
       "      <td>5832</td>\n",
       "      <td>308</td>\n",
       "      <td>2</td>\n",
       "      <td>2916</td>\n",
       "      <td>2916</td>\n",
       "      <td>308.0</td>\n",
       "      <td>0.556639</td>\n",
       "      <td>62.6</td>\n",
       "      <td>0.542137</td>\n",
       "      <td>151.60</td>\n",
       "      <td>0.551931</td>\n",
       "    </tr>\n",
       "    <tr>\n",
       "      <th>80</th>\n",
       "      <td>scene.csv</td>\n",
       "      <td>scene</td>\n",
       "      <td>logloss</td>\n",
       "      <td>2407</td>\n",
       "      <td>304</td>\n",
       "      <td>2</td>\n",
       "      <td>1203</td>\n",
       "      <td>1204</td>\n",
       "      <td>304.0</td>\n",
       "      <td>0.200099</td>\n",
       "      <td>49.2</td>\n",
       "      <td>0.060756</td>\n",
       "      <td>142.60</td>\n",
       "      <td>0.107927</td>\n",
       "    </tr>\n",
       "    <tr>\n",
       "      <th>54</th>\n",
       "      <td>jasmine.csv</td>\n",
       "      <td>jasmine</td>\n",
       "      <td>logloss</td>\n",
       "      <td>2984</td>\n",
       "      <td>280</td>\n",
       "      <td>2</td>\n",
       "      <td>1492</td>\n",
       "      <td>1492</td>\n",
       "      <td>280.0</td>\n",
       "      <td>0.444726</td>\n",
       "      <td>71.4</td>\n",
       "      <td>0.447615</td>\n",
       "      <td>141.00</td>\n",
       "      <td>0.446151</td>\n",
       "    </tr>\n",
       "    <tr>\n",
       "      <th>63</th>\n",
       "      <td>madeline.csv</td>\n",
       "      <td>madeline</td>\n",
       "      <td>logloss</td>\n",
       "      <td>3140</td>\n",
       "      <td>259</td>\n",
       "      <td>2</td>\n",
       "      <td>1570</td>\n",
       "      <td>1570</td>\n",
       "      <td>259.0</td>\n",
       "      <td>0.670282</td>\n",
       "      <td>54.0</td>\n",
       "      <td>0.680337</td>\n",
       "      <td>126.80</td>\n",
       "      <td>0.672189</td>\n",
       "    </tr>\n",
       "    <tr>\n",
       "      <th>34</th>\n",
       "      <td>clean2.csv</td>\n",
       "      <td>clean2</td>\n",
       "      <td>logloss</td>\n",
       "      <td>6598</td>\n",
       "      <td>168</td>\n",
       "      <td>2</td>\n",
       "      <td>3299</td>\n",
       "      <td>3299</td>\n",
       "      <td>168.0</td>\n",
       "      <td>0.000009</td>\n",
       "      <td>36.0</td>\n",
       "      <td>0.000007</td>\n",
       "      <td>73.80</td>\n",
       "      <td>0.000009</td>\n",
       "    </tr>\n",
       "    <tr>\n",
       "      <th>2</th>\n",
       "      <td>COIL2000.csv</td>\n",
       "      <td>COIL2000-train</td>\n",
       "      <td>logloss</td>\n",
       "      <td>5822</td>\n",
       "      <td>150</td>\n",
       "      <td>2</td>\n",
       "      <td>2911</td>\n",
       "      <td>2911</td>\n",
       "      <td>150.0</td>\n",
       "      <td>0.210128</td>\n",
       "      <td>35.6</td>\n",
       "      <td>0.212552</td>\n",
       "      <td>77.20</td>\n",
       "      <td>0.211421</td>\n",
       "    </tr>\n",
       "    <tr>\n",
       "      <th>5</th>\n",
       "      <td>ECG5000.csv</td>\n",
       "      <td>ECG5000</td>\n",
       "      <td>logloss</td>\n",
       "      <td>4998</td>\n",
       "      <td>140</td>\n",
       "      <td>2</td>\n",
       "      <td>2499</td>\n",
       "      <td>2499</td>\n",
       "      <td>140.0</td>\n",
       "      <td>0.044005</td>\n",
       "      <td>29.4</td>\n",
       "      <td>0.049573</td>\n",
       "      <td>68.60</td>\n",
       "      <td>0.044114</td>\n",
       "    </tr>\n",
       "    <tr>\n",
       "      <th>98</th>\n",
       "      <td>yeast.csv</td>\n",
       "      <td>yeast_ml8</td>\n",
       "      <td>logloss</td>\n",
       "      <td>2417</td>\n",
       "      <td>129</td>\n",
       "      <td>2</td>\n",
       "      <td>1208</td>\n",
       "      <td>1209</td>\n",
       "      <td>129.0</td>\n",
       "      <td>0.066597</td>\n",
       "      <td>38.0</td>\n",
       "      <td>0.113988</td>\n",
       "      <td>66.50</td>\n",
       "      <td>0.071769</td>\n",
       "    </tr>\n",
       "    <tr>\n",
       "      <th>68</th>\n",
       "      <td>mushroom.csv</td>\n",
       "      <td>mushroom</td>\n",
       "      <td>logloss</td>\n",
       "      <td>8124</td>\n",
       "      <td>125</td>\n",
       "      <td>2</td>\n",
       "      <td>4062</td>\n",
       "      <td>4062</td>\n",
       "      <td>125.0</td>\n",
       "      <td>0.000039</td>\n",
       "      <td>59.4</td>\n",
       "      <td>0.000053</td>\n",
       "      <td>70.40</td>\n",
       "      <td>0.000039</td>\n",
       "    </tr>\n",
       "    <tr>\n",
       "      <th>87</th>\n",
       "      <td>sylva.csv</td>\n",
       "      <td>sylva_prior</td>\n",
       "      <td>logloss</td>\n",
       "      <td>14395</td>\n",
       "      <td>108</td>\n",
       "      <td>2</td>\n",
       "      <td>7197</td>\n",
       "      <td>7198</td>\n",
       "      <td>108.0</td>\n",
       "      <td>0.017647</td>\n",
       "      <td>55.8</td>\n",
       "      <td>0.019883</td>\n",
       "      <td>61.20</td>\n",
       "      <td>0.019447</td>\n",
       "    </tr>\n",
       "    <tr>\n",
       "      <th>24</th>\n",
       "      <td>ada.csv</td>\n",
       "      <td>ada_prior</td>\n",
       "      <td>logloss</td>\n",
       "      <td>4562</td>\n",
       "      <td>102</td>\n",
       "      <td>2</td>\n",
       "      <td>2281</td>\n",
       "      <td>2281</td>\n",
       "      <td>102.0</td>\n",
       "      <td>0.353013</td>\n",
       "      <td>43.4</td>\n",
       "      <td>0.355549</td>\n",
       "      <td>56.60</td>\n",
       "      <td>0.353059</td>\n",
       "    </tr>\n",
       "    <tr>\n",
       "      <th>35</th>\n",
       "      <td>coil2000.csv</td>\n",
       "      <td>coil2000</td>\n",
       "      <td>logloss</td>\n",
       "      <td>9822</td>\n",
       "      <td>85</td>\n",
       "      <td>2</td>\n",
       "      <td>4911</td>\n",
       "      <td>4911</td>\n",
       "      <td>85.0</td>\n",
       "      <td>0.203871</td>\n",
       "      <td>23.0</td>\n",
       "      <td>0.205579</td>\n",
       "      <td>42.20</td>\n",
       "      <td>0.204464</td>\n",
       "    </tr>\n",
       "    <tr>\n",
       "      <th>69</th>\n",
       "      <td>national.csv</td>\n",
       "      <td>national-longitudinal-survey-binary</td>\n",
       "      <td>logloss</td>\n",
       "      <td>4908</td>\n",
       "      <td>80</td>\n",
       "      <td>2</td>\n",
       "      <td>2454</td>\n",
       "      <td>2454</td>\n",
       "      <td>80.0</td>\n",
       "      <td>0.018875</td>\n",
       "      <td>13.4</td>\n",
       "      <td>0.009467</td>\n",
       "      <td>28.80</td>\n",
       "      <td>0.009105</td>\n",
       "    </tr>\n",
       "    <tr>\n",
       "      <th>59</th>\n",
       "      <td>kr.csv</td>\n",
       "      <td>kr-vs-kp</td>\n",
       "      <td>logloss</td>\n",
       "      <td>3196</td>\n",
       "      <td>74</td>\n",
       "      <td>2</td>\n",
       "      <td>1598</td>\n",
       "      <td>1598</td>\n",
       "      <td>74.0</td>\n",
       "      <td>0.101021</td>\n",
       "      <td>33.6</td>\n",
       "      <td>0.099255</td>\n",
       "      <td>42.00</td>\n",
       "      <td>0.102081</td>\n",
       "    </tr>\n",
       "    <tr>\n",
       "      <th>10</th>\n",
       "      <td>Insurance.csv</td>\n",
       "      <td>Insurance</td>\n",
       "      <td>logloss</td>\n",
       "      <td>23548</td>\n",
       "      <td>73</td>\n",
       "      <td>2</td>\n",
       "      <td>11774</td>\n",
       "      <td>11774</td>\n",
       "      <td>73.0</td>\n",
       "      <td>0.557908</td>\n",
       "      <td>11.0</td>\n",
       "      <td>0.558160</td>\n",
       "      <td>36.40</td>\n",
       "      <td>0.558299</td>\n",
       "    </tr>\n",
       "    <tr>\n",
       "      <th>18</th>\n",
       "      <td>PhishingWebsites.csv</td>\n",
       "      <td>PhishingWebsites</td>\n",
       "      <td>logloss</td>\n",
       "      <td>11055</td>\n",
       "      <td>68</td>\n",
       "      <td>2</td>\n",
       "      <td>5527</td>\n",
       "      <td>5528</td>\n",
       "      <td>68.0</td>\n",
       "      <td>0.143090</td>\n",
       "      <td>30.2</td>\n",
       "      <td>0.142518</td>\n",
       "      <td>40.40</td>\n",
       "      <td>0.143271</td>\n",
       "    </tr>\n",
       "    <tr>\n",
       "      <th>88</th>\n",
       "      <td>test.csv</td>\n",
       "      <td>test_dataset</td>\n",
       "      <td>logloss</td>\n",
       "      <td>15547</td>\n",
       "      <td>60</td>\n",
       "      <td>2</td>\n",
       "      <td>7773</td>\n",
       "      <td>7774</td>\n",
       "      <td>60.0</td>\n",
       "      <td>0.455193</td>\n",
       "      <td>43.4</td>\n",
       "      <td>0.457574</td>\n",
       "      <td>43.00</td>\n",
       "      <td>0.458803</td>\n",
       "    </tr>\n",
       "    <tr>\n",
       "      <th>84</th>\n",
       "      <td>spambase.csv</td>\n",
       "      <td>spambase</td>\n",
       "      <td>logloss</td>\n",
       "      <td>4601</td>\n",
       "      <td>57</td>\n",
       "      <td>2</td>\n",
       "      <td>2300</td>\n",
       "      <td>2301</td>\n",
       "      <td>57.0</td>\n",
       "      <td>0.234615</td>\n",
       "      <td>31.0</td>\n",
       "      <td>0.239605</td>\n",
       "      <td>34.80</td>\n",
       "      <td>0.249814</td>\n",
       "    </tr>\n",
       "    <tr>\n",
       "      <th>41</th>\n",
       "      <td>dis.csv</td>\n",
       "      <td>dis</td>\n",
       "      <td>logloss</td>\n",
       "      <td>3772</td>\n",
       "      <td>54</td>\n",
       "      <td>2</td>\n",
       "      <td>1886</td>\n",
       "      <td>1886</td>\n",
       "      <td>54.0</td>\n",
       "      <td>0.068885</td>\n",
       "      <td>19.2</td>\n",
       "      <td>0.066323</td>\n",
       "      <td>30.80</td>\n",
       "      <td>0.067474</td>\n",
       "    </tr>\n",
       "    <tr>\n",
       "      <th>83</th>\n",
       "      <td>sick.csv</td>\n",
       "      <td>sick</td>\n",
       "      <td>logloss</td>\n",
       "      <td>3772</td>\n",
       "      <td>52</td>\n",
       "      <td>2</td>\n",
       "      <td>1886</td>\n",
       "      <td>1886</td>\n",
       "      <td>52.0</td>\n",
       "      <td>0.108127</td>\n",
       "      <td>10.2</td>\n",
       "      <td>0.108940</td>\n",
       "      <td>21.80</td>\n",
       "      <td>0.108727</td>\n",
       "    </tr>\n",
       "    <tr>\n",
       "      <th>6</th>\n",
       "      <td>FICO.csv</td>\n",
       "      <td>FICO-HELOC-cleaned</td>\n",
       "      <td>logloss</td>\n",
       "      <td>9871</td>\n",
       "      <td>39</td>\n",
       "      <td>2</td>\n",
       "      <td>4935</td>\n",
       "      <td>4936</td>\n",
       "      <td>39.0</td>\n",
       "      <td>0.559016</td>\n",
       "      <td>19.0</td>\n",
       "      <td>0.560456</td>\n",
       "      <td>25.00</td>\n",
       "      <td>0.559820</td>\n",
       "    </tr>\n",
       "    <tr>\n",
       "      <th>64</th>\n",
       "      <td>mc1.csv</td>\n",
       "      <td>mc1</td>\n",
       "      <td>logloss</td>\n",
       "      <td>9466</td>\n",
       "      <td>38</td>\n",
       "      <td>2</td>\n",
       "      <td>4733</td>\n",
       "      <td>4733</td>\n",
       "      <td>38.0</td>\n",
       "      <td>0.029953</td>\n",
       "      <td>11.4</td>\n",
       "      <td>0.029431</td>\n",
       "      <td>18.00</td>\n",
       "      <td>0.030064</td>\n",
       "    </tr>\n",
       "    <tr>\n",
       "      <th>20</th>\n",
       "      <td>Satellite.csv</td>\n",
       "      <td>Satellite</td>\n",
       "      <td>logloss</td>\n",
       "      <td>5100</td>\n",
       "      <td>36</td>\n",
       "      <td>2</td>\n",
       "      <td>2550</td>\n",
       "      <td>2550</td>\n",
       "      <td>36.0</td>\n",
       "      <td>0.020326</td>\n",
       "      <td>11.0</td>\n",
       "      <td>0.023673</td>\n",
       "      <td>17.80</td>\n",
       "      <td>0.022820</td>\n",
       "    </tr>\n",
       "    <tr>\n",
       "      <th>73</th>\n",
       "      <td>pc2.csv</td>\n",
       "      <td>pc2</td>\n",
       "      <td>logloss</td>\n",
       "      <td>5589</td>\n",
       "      <td>36</td>\n",
       "      <td>2</td>\n",
       "      <td>2794</td>\n",
       "      <td>2795</td>\n",
       "      <td>36.0</td>\n",
       "      <td>0.025007</td>\n",
       "      <td>3.4</td>\n",
       "      <td>0.025097</td>\n",
       "      <td>19.25</td>\n",
       "      <td>0.033857</td>\n",
       "    </tr>\n",
       "    <tr>\n",
       "      <th>32</th>\n",
       "      <td>churn.csv</td>\n",
       "      <td>churn</td>\n",
       "      <td>logloss</td>\n",
       "      <td>5000</td>\n",
       "      <td>33</td>\n",
       "      <td>2</td>\n",
       "      <td>2500</td>\n",
       "      <td>2500</td>\n",
       "      <td>33.0</td>\n",
       "      <td>0.301834</td>\n",
       "      <td>17.0</td>\n",
       "      <td>0.301438</td>\n",
       "      <td>15.80</td>\n",
       "      <td>0.301103</td>\n",
       "    </tr>\n",
       "    <tr>\n",
       "      <th>3</th>\n",
       "      <td>Contaminant.csv</td>\n",
       "      <td>Contaminant-detection-in-packaged-cocoa-hazeln...</td>\n",
       "      <td>logloss</td>\n",
       "      <td>2400</td>\n",
       "      <td>30</td>\n",
       "      <td>2</td>\n",
       "      <td>1200</td>\n",
       "      <td>1200</td>\n",
       "      <td>30.0</td>\n",
       "      <td>0.293697</td>\n",
       "      <td>23.0</td>\n",
       "      <td>0.298562</td>\n",
       "      <td>22.60</td>\n",
       "      <td>0.299730</td>\n",
       "    </tr>\n",
       "    <tr>\n",
       "      <th>4</th>\n",
       "      <td>CreditCardSubset.csv</td>\n",
       "      <td>CreditCardSubset</td>\n",
       "      <td>logloss</td>\n",
       "      <td>14240</td>\n",
       "      <td>30</td>\n",
       "      <td>2</td>\n",
       "      <td>7120</td>\n",
       "      <td>7120</td>\n",
       "      <td>30.0</td>\n",
       "      <td>0.008340</td>\n",
       "      <td>4.8</td>\n",
       "      <td>0.006620</td>\n",
       "      <td>16.00</td>\n",
       "      <td>0.007423</td>\n",
       "    </tr>\n",
       "    <tr>\n",
       "      <th>82</th>\n",
       "      <td>shrutime.csv</td>\n",
       "      <td>shrutime</td>\n",
       "      <td>logloss</td>\n",
       "      <td>10000</td>\n",
       "      <td>28</td>\n",
       "      <td>2</td>\n",
       "      <td>5000</td>\n",
       "      <td>5000</td>\n",
       "      <td>28.0</td>\n",
       "      <td>0.372560</td>\n",
       "      <td>11.8</td>\n",
       "      <td>0.372357</td>\n",
       "      <td>14.20</td>\n",
       "      <td>0.372158</td>\n",
       "    </tr>\n",
       "    <tr>\n",
       "      <th>92</th>\n",
       "      <td>turing.csv</td>\n",
       "      <td>turing_binary</td>\n",
       "      <td>logloss</td>\n",
       "      <td>10000</td>\n",
       "      <td>26</td>\n",
       "      <td>2</td>\n",
       "      <td>5000</td>\n",
       "      <td>5000</td>\n",
       "      <td>26.0</td>\n",
       "      <td>0.574653</td>\n",
       "      <td>8.0</td>\n",
       "      <td>0.573843</td>\n",
       "      <td>11.40</td>\n",
       "      <td>0.573996</td>\n",
       "    </tr>\n",
       "    <tr>\n",
       "      <th>11</th>\n",
       "      <td>Intersectional.csv</td>\n",
       "      <td>Intersectional-Bias-Assessment-(Training-Data)</td>\n",
       "      <td>logloss</td>\n",
       "      <td>10000</td>\n",
       "      <td>24</td>\n",
       "      <td>2</td>\n",
       "      <td>5000</td>\n",
       "      <td>5000</td>\n",
       "      <td>24.0</td>\n",
       "      <td>0.039109</td>\n",
       "      <td>17.2</td>\n",
       "      <td>0.039215</td>\n",
       "      <td>17.80</td>\n",
       "      <td>0.038893</td>\n",
       "    </tr>\n",
       "    <tr>\n",
       "      <th>40</th>\n",
       "      <td>default.csv</td>\n",
       "      <td>default-of-credit-card-clients</td>\n",
       "      <td>logloss</td>\n",
       "      <td>30000</td>\n",
       "      <td>23</td>\n",
       "      <td>2</td>\n",
       "      <td>15000</td>\n",
       "      <td>15000</td>\n",
       "      <td>23.0</td>\n",
       "      <td>0.466400</td>\n",
       "      <td>14.6</td>\n",
       "      <td>0.467113</td>\n",
       "      <td>15.80</td>\n",
       "      <td>0.466502</td>\n",
       "    </tr>\n",
       "    <tr>\n",
       "      <th>51</th>\n",
       "      <td>heloc.csv</td>\n",
       "      <td>heloc</td>\n",
       "      <td>logloss</td>\n",
       "      <td>10000</td>\n",
       "      <td>22</td>\n",
       "      <td>2</td>\n",
       "      <td>5000</td>\n",
       "      <td>5000</td>\n",
       "      <td>22.0</td>\n",
       "      <td>0.572071</td>\n",
       "      <td>14.6</td>\n",
       "      <td>0.572247</td>\n",
       "      <td>16.60</td>\n",
       "      <td>0.572390</td>\n",
       "    </tr>\n",
       "    <tr>\n",
       "      <th>57</th>\n",
       "      <td>kc1.csv</td>\n",
       "      <td>kc1</td>\n",
       "      <td>logloss</td>\n",
       "      <td>2109</td>\n",
       "      <td>21</td>\n",
       "      <td>2</td>\n",
       "      <td>1054</td>\n",
       "      <td>1055</td>\n",
       "      <td>21.0</td>\n",
       "      <td>0.370540</td>\n",
       "      <td>11.2</td>\n",
       "      <td>0.381161</td>\n",
       "      <td>11.80</td>\n",
       "      <td>0.373197</td>\n",
       "    </tr>\n",
       "    <tr>\n",
       "      <th>55</th>\n",
       "      <td>jm1.csv</td>\n",
       "      <td>jm1</td>\n",
       "      <td>logloss</td>\n",
       "      <td>10885</td>\n",
       "      <td>21</td>\n",
       "      <td>2</td>\n",
       "      <td>5442</td>\n",
       "      <td>5443</td>\n",
       "      <td>21.0</td>\n",
       "      <td>0.452246</td>\n",
       "      <td>7.6</td>\n",
       "      <td>0.452778</td>\n",
       "      <td>11.40</td>\n",
       "      <td>0.452798</td>\n",
       "    </tr>\n",
       "    <tr>\n",
       "      <th>93</th>\n",
       "      <td>twonorm.csv</td>\n",
       "      <td>twonorm</td>\n",
       "      <td>logloss</td>\n",
       "      <td>7400</td>\n",
       "      <td>20</td>\n",
       "      <td>2</td>\n",
       "      <td>3700</td>\n",
       "      <td>3700</td>\n",
       "      <td>20.0</td>\n",
       "      <td>0.067184</td>\n",
       "      <td>20.0</td>\n",
       "      <td>0.066979</td>\n",
       "      <td>19.60</td>\n",
       "      <td>0.069298</td>\n",
       "    </tr>\n",
       "    <tr>\n",
       "      <th>78</th>\n",
       "      <td>ringnorm.csv</td>\n",
       "      <td>ringnorm</td>\n",
       "      <td>logloss</td>\n",
       "      <td>7400</td>\n",
       "      <td>20</td>\n",
       "      <td>2</td>\n",
       "      <td>3700</td>\n",
       "      <td>3700</td>\n",
       "      <td>20.0</td>\n",
       "      <td>0.530821</td>\n",
       "      <td>20.0</td>\n",
       "      <td>0.531040</td>\n",
       "      <td>19.80</td>\n",
       "      <td>0.532332</td>\n",
       "    </tr>\n",
       "    <tr>\n",
       "      <th>60</th>\n",
       "      <td>law.csv</td>\n",
       "      <td>law-school-admission-bianry</td>\n",
       "      <td>logloss</td>\n",
       "      <td>20800</td>\n",
       "      <td>19</td>\n",
       "      <td>2</td>\n",
       "      <td>10400</td>\n",
       "      <td>10400</td>\n",
       "      <td>19.0</td>\n",
       "      <td>0.000055</td>\n",
       "      <td>1.0</td>\n",
       "      <td>0.000054</td>\n",
       "      <td>1.80</td>\n",
       "      <td>0.000054</td>\n",
       "    </tr>\n",
       "    <tr>\n",
       "      <th>36</th>\n",
       "      <td>compas.csv</td>\n",
       "      <td>compas-two-years</td>\n",
       "      <td>logloss</td>\n",
       "      <td>5278</td>\n",
       "      <td>19</td>\n",
       "      <td>2</td>\n",
       "      <td>2639</td>\n",
       "      <td>2639</td>\n",
       "      <td>19.0</td>\n",
       "      <td>0.608430</td>\n",
       "      <td>8.0</td>\n",
       "      <td>0.607563</td>\n",
       "      <td>8.20</td>\n",
       "      <td>0.607376</td>\n",
       "    </tr>\n",
       "    <tr>\n",
       "      <th>15</th>\n",
       "      <td>Long.csv</td>\n",
       "      <td>Long</td>\n",
       "      <td>logloss</td>\n",
       "      <td>4477</td>\n",
       "      <td>19</td>\n",
       "      <td>2</td>\n",
       "      <td>2238</td>\n",
       "      <td>2239</td>\n",
       "      <td>19.0</td>\n",
       "      <td>0.008032</td>\n",
       "      <td>4.2</td>\n",
       "      <td>0.007726</td>\n",
       "      <td>5.20</td>\n",
       "      <td>0.007497</td>\n",
       "    </tr>\n",
       "    <tr>\n",
       "      <th>23</th>\n",
       "      <td>VulNoneVul.csv</td>\n",
       "      <td>VulNoneVul</td>\n",
       "      <td>logloss</td>\n",
       "      <td>5692</td>\n",
       "      <td>16</td>\n",
       "      <td>2</td>\n",
       "      <td>2846</td>\n",
       "      <td>2846</td>\n",
       "      <td>16.0</td>\n",
       "      <td>0.049107</td>\n",
       "      <td>4.8</td>\n",
       "      <td>0.047955</td>\n",
       "      <td>8.60</td>\n",
       "      <td>0.047675</td>\n",
       "    </tr>\n",
       "    <tr>\n",
       "      <th>43</th>\n",
       "      <td>eeg.csv</td>\n",
       "      <td>eeg-eye-state</td>\n",
       "      <td>logloss</td>\n",
       "      <td>14980</td>\n",
       "      <td>14</td>\n",
       "      <td>2</td>\n",
       "      <td>7490</td>\n",
       "      <td>7490</td>\n",
       "      <td>14.0</td>\n",
       "      <td>0.635994</td>\n",
       "      <td>10.0</td>\n",
       "      <td>0.636277</td>\n",
       "      <td>10.60</td>\n",
       "      <td>0.636148</td>\n",
       "    </tr>\n",
       "    <tr>\n",
       "      <th>16</th>\n",
       "      <td>MagicTelescope.csv</td>\n",
       "      <td>MagicTelescope</td>\n",
       "      <td>logloss</td>\n",
       "      <td>19020</td>\n",
       "      <td>10</td>\n",
       "      <td>2</td>\n",
       "      <td>9510</td>\n",
       "      <td>9510</td>\n",
       "      <td>10.0</td>\n",
       "      <td>0.459828</td>\n",
       "      <td>6.0</td>\n",
       "      <td>0.459972</td>\n",
       "      <td>6.40</td>\n",
       "      <td>0.459984</td>\n",
       "    </tr>\n",
       "    <tr>\n",
       "      <th>38</th>\n",
       "      <td>credit.csv</td>\n",
       "      <td>credit</td>\n",
       "      <td>logloss</td>\n",
       "      <td>16714</td>\n",
       "      <td>10</td>\n",
       "      <td>2</td>\n",
       "      <td>8357</td>\n",
       "      <td>8357</td>\n",
       "      <td>10.0</td>\n",
       "      <td>0.567551</td>\n",
       "      <td>9.8</td>\n",
       "      <td>0.567530</td>\n",
       "      <td>9.80</td>\n",
       "      <td>0.567530</td>\n",
       "    </tr>\n",
       "    <tr>\n",
       "      <th>21</th>\n",
       "      <td>Titanic.csv</td>\n",
       "      <td>Titanic</td>\n",
       "      <td>logloss</td>\n",
       "      <td>2201</td>\n",
       "      <td>3</td>\n",
       "      <td>2</td>\n",
       "      <td>1100</td>\n",
       "      <td>1101</td>\n",
       "      <td>3.0</td>\n",
       "      <td>0.515998</td>\n",
       "      <td>2.0</td>\n",
       "      <td>0.517367</td>\n",
       "      <td>2.00</td>\n",
       "      <td>0.517346</td>\n",
       "    </tr>\n",
       "  </tbody>\n",
       "</table>\n",
       "</div>"
      ],
      "text/plain": [
       "               name_file                                            name_db  \\\n",
       "75        philippine.csv                                         philippine   \n",
       "80             scene.csv                                              scene   \n",
       "54           jasmine.csv                                            jasmine   \n",
       "63          madeline.csv                                           madeline   \n",
       "34            clean2.csv                                             clean2   \n",
       "2           COIL2000.csv                                     COIL2000-train   \n",
       "5            ECG5000.csv                                            ECG5000   \n",
       "98             yeast.csv                                          yeast_ml8   \n",
       "68          mushroom.csv                                           mushroom   \n",
       "87             sylva.csv                                        sylva_prior   \n",
       "24               ada.csv                                          ada_prior   \n",
       "35          coil2000.csv                                           coil2000   \n",
       "69          national.csv                national-longitudinal-survey-binary   \n",
       "59                kr.csv                                           kr-vs-kp   \n",
       "10         Insurance.csv                                          Insurance   \n",
       "18  PhishingWebsites.csv                                   PhishingWebsites   \n",
       "88              test.csv                                       test_dataset   \n",
       "84          spambase.csv                                           spambase   \n",
       "41               dis.csv                                                dis   \n",
       "83              sick.csv                                               sick   \n",
       "6               FICO.csv                                 FICO-HELOC-cleaned   \n",
       "64               mc1.csv                                                mc1   \n",
       "20         Satellite.csv                                          Satellite   \n",
       "73               pc2.csv                                                pc2   \n",
       "32             churn.csv                                              churn   \n",
       "3        Contaminant.csv  Contaminant-detection-in-packaged-cocoa-hazeln...   \n",
       "4   CreditCardSubset.csv                                   CreditCardSubset   \n",
       "82          shrutime.csv                                           shrutime   \n",
       "92            turing.csv                                      turing_binary   \n",
       "11    Intersectional.csv     Intersectional-Bias-Assessment-(Training-Data)   \n",
       "40           default.csv                     default-of-credit-card-clients   \n",
       "51             heloc.csv                                              heloc   \n",
       "57               kc1.csv                                                kc1   \n",
       "55               jm1.csv                                                jm1   \n",
       "93           twonorm.csv                                            twonorm   \n",
       "78          ringnorm.csv                                           ringnorm   \n",
       "60               law.csv                        law-school-admission-bianry   \n",
       "36            compas.csv                                   compas-two-years   \n",
       "15              Long.csv                                               Long   \n",
       "23        VulNoneVul.csv                                         VulNoneVul   \n",
       "43               eeg.csv                                      eeg-eye-state   \n",
       "16    MagicTelescope.csv                                     MagicTelescope   \n",
       "38            credit.csv                                             credit   \n",
       "21           Titanic.csv                                            Titanic   \n",
       "\n",
       "   score_type  num_rows  num_cols  num_classes  train_val_size  test_size  \\\n",
       "75    logloss      5832       308            2            2916       2916   \n",
       "80    logloss      2407       304            2            1203       1204   \n",
       "54    logloss      2984       280            2            1492       1492   \n",
       "63    logloss      3140       259            2            1570       1570   \n",
       "34    logloss      6598       168            2            3299       3299   \n",
       "2     logloss      5822       150            2            2911       2911   \n",
       "5     logloss      4998       140            2            2499       2499   \n",
       "98    logloss      2417       129            2            1208       1209   \n",
       "68    logloss      8124       125            2            4062       4062   \n",
       "87    logloss     14395       108            2            7197       7198   \n",
       "24    logloss      4562       102            2            2281       2281   \n",
       "35    logloss      9822        85            2            4911       4911   \n",
       "69    logloss      4908        80            2            2454       2454   \n",
       "59    logloss      3196        74            2            1598       1598   \n",
       "10    logloss     23548        73            2           11774      11774   \n",
       "18    logloss     11055        68            2            5527       5528   \n",
       "88    logloss     15547        60            2            7773       7774   \n",
       "84    logloss      4601        57            2            2300       2301   \n",
       "41    logloss      3772        54            2            1886       1886   \n",
       "83    logloss      3772        52            2            1886       1886   \n",
       "6     logloss      9871        39            2            4935       4936   \n",
       "64    logloss      9466        38            2            4733       4733   \n",
       "20    logloss      5100        36            2            2550       2550   \n",
       "73    logloss      5589        36            2            2794       2795   \n",
       "32    logloss      5000        33            2            2500       2500   \n",
       "3     logloss      2400        30            2            1200       1200   \n",
       "4     logloss     14240        30            2            7120       7120   \n",
       "82    logloss     10000        28            2            5000       5000   \n",
       "92    logloss     10000        26            2            5000       5000   \n",
       "11    logloss     10000        24            2            5000       5000   \n",
       "40    logloss     30000        23            2           15000      15000   \n",
       "51    logloss     10000        22            2            5000       5000   \n",
       "57    logloss      2109        21            2            1054       1055   \n",
       "55    logloss     10885        21            2            5442       5443   \n",
       "93    logloss      7400        20            2            3700       3700   \n",
       "78    logloss      7400        20            2            3700       3700   \n",
       "60    logloss     20800        19            2           10400      10400   \n",
       "36    logloss      5278        19            2            2639       2639   \n",
       "15    logloss      4477        19            2            2238       2239   \n",
       "23    logloss      5692        16            2            2846       2846   \n",
       "43    logloss     14980        14            2            7490       7490   \n",
       "16    logloss     19020        10            2            9510       9510   \n",
       "38    logloss     16714        10            2            8357       8357   \n",
       "21    logloss      2201         3            2            1100       1101   \n",
       "\n",
       "    bo_NFS  bo_FINAL_SCORE_TST  hyb_NFS  hyb_FINAL_SCORE_TST  ga_NFS  \\\n",
       "75   308.0            0.556639     62.6             0.542137  151.60   \n",
       "80   304.0            0.200099     49.2             0.060756  142.60   \n",
       "54   280.0            0.444726     71.4             0.447615  141.00   \n",
       "63   259.0            0.670282     54.0             0.680337  126.80   \n",
       "34   168.0            0.000009     36.0             0.000007   73.80   \n",
       "2    150.0            0.210128     35.6             0.212552   77.20   \n",
       "5    140.0            0.044005     29.4             0.049573   68.60   \n",
       "98   129.0            0.066597     38.0             0.113988   66.50   \n",
       "68   125.0            0.000039     59.4             0.000053   70.40   \n",
       "87   108.0            0.017647     55.8             0.019883   61.20   \n",
       "24   102.0            0.353013     43.4             0.355549   56.60   \n",
       "35    85.0            0.203871     23.0             0.205579   42.20   \n",
       "69    80.0            0.018875     13.4             0.009467   28.80   \n",
       "59    74.0            0.101021     33.6             0.099255   42.00   \n",
       "10    73.0            0.557908     11.0             0.558160   36.40   \n",
       "18    68.0            0.143090     30.2             0.142518   40.40   \n",
       "88    60.0            0.455193     43.4             0.457574   43.00   \n",
       "84    57.0            0.234615     31.0             0.239605   34.80   \n",
       "41    54.0            0.068885     19.2             0.066323   30.80   \n",
       "83    52.0            0.108127     10.2             0.108940   21.80   \n",
       "6     39.0            0.559016     19.0             0.560456   25.00   \n",
       "64    38.0            0.029953     11.4             0.029431   18.00   \n",
       "20    36.0            0.020326     11.0             0.023673   17.80   \n",
       "73    36.0            0.025007      3.4             0.025097   19.25   \n",
       "32    33.0            0.301834     17.0             0.301438   15.80   \n",
       "3     30.0            0.293697     23.0             0.298562   22.60   \n",
       "4     30.0            0.008340      4.8             0.006620   16.00   \n",
       "82    28.0            0.372560     11.8             0.372357   14.20   \n",
       "92    26.0            0.574653      8.0             0.573843   11.40   \n",
       "11    24.0            0.039109     17.2             0.039215   17.80   \n",
       "40    23.0            0.466400     14.6             0.467113   15.80   \n",
       "51    22.0            0.572071     14.6             0.572247   16.60   \n",
       "57    21.0            0.370540     11.2             0.381161   11.80   \n",
       "55    21.0            0.452246      7.6             0.452778   11.40   \n",
       "93    20.0            0.067184     20.0             0.066979   19.60   \n",
       "78    20.0            0.530821     20.0             0.531040   19.80   \n",
       "60    19.0            0.000055      1.0             0.000054    1.80   \n",
       "36    19.0            0.608430      8.0             0.607563    8.20   \n",
       "15    19.0            0.008032      4.2             0.007726    5.20   \n",
       "23    16.0            0.049107      4.8             0.047955    8.60   \n",
       "43    14.0            0.635994     10.0             0.636277   10.60   \n",
       "16    10.0            0.459828      6.0             0.459972    6.40   \n",
       "38    10.0            0.567551      9.8             0.567530    9.80   \n",
       "21     3.0            0.515998      2.0             0.517367    2.00   \n",
       "\n",
       "    ga_FINAL_SCORE_TST  \n",
       "75            0.551931  \n",
       "80            0.107927  \n",
       "54            0.446151  \n",
       "63            0.672189  \n",
       "34            0.000009  \n",
       "2             0.211421  \n",
       "5             0.044114  \n",
       "98            0.071769  \n",
       "68            0.000039  \n",
       "87            0.019447  \n",
       "24            0.353059  \n",
       "35            0.204464  \n",
       "69            0.009105  \n",
       "59            0.102081  \n",
       "10            0.558299  \n",
       "18            0.143271  \n",
       "88            0.458803  \n",
       "84            0.249814  \n",
       "41            0.067474  \n",
       "83            0.108727  \n",
       "6             0.559820  \n",
       "64            0.030064  \n",
       "20            0.022820  \n",
       "73            0.033857  \n",
       "32            0.301103  \n",
       "3             0.299730  \n",
       "4             0.007423  \n",
       "82            0.372158  \n",
       "92            0.573996  \n",
       "11            0.038893  \n",
       "40            0.466502  \n",
       "51            0.572390  \n",
       "57            0.373197  \n",
       "55            0.452798  \n",
       "93            0.069298  \n",
       "78            0.532332  \n",
       "60            0.000054  \n",
       "36            0.607376  \n",
       "15            0.007497  \n",
       "23            0.047675  \n",
       "43            0.636148  \n",
       "16            0.459984  \n",
       "38            0.567530  \n",
       "21            0.517346  "
      ]
     },
     "execution_count": 41,
     "metadata": {},
     "output_type": "execute_result"
    }
   ],
   "source": [
    "mat_merge_reduc = mat_merge[['name_file', 'name_db', 'score_type', 'num_rows', 'num_cols', 'num_classes',\n",
    "       'train_val_size', 'test_size', 'bo_NFS', 'bo_FINAL_SCORE_TST', \n",
    "           'hyb_NFS', 'hyb_FINAL_SCORE_TST', \n",
    "           'ga_NFS', 'ga_FINAL_SCORE_TST']].sort_values('bo_NFS', ascending=False)\n",
    "mat_merge_reduc.query('score_type==\"logloss\"')"
   ]
  },
  {
   "cell_type": "code",
   "execution_count": 42,
   "id": "68f66fa4",
   "metadata": {
    "ExecuteTime": {
     "end_time": "2023-09-18T20:02:26.201541Z",
     "start_time": "2023-09-18T20:02:24.202015Z"
    }
   },
   "outputs": [
    {
     "data": {
      "application/vnd.plotly.v1+json": {
       "config": {
        "plotlyServerURL": "https://plot.ly"
       },
       "data": [
        {
         "hovertemplate": "variable=bo_NFS<br>value=%{r}<br>id_ds=%{theta}<extra></extra>",
         "legendgroup": "bo_NFS",
         "line": {
          "color": "#ab63fa",
          "dash": "solid"
         },
         "marker": {
          "symbol": "circle"
         },
         "mode": "lines",
         "name": "bo_NFS",
         "r": [
          308,
          304,
          280,
          259,
          168,
          150,
          140,
          129,
          125,
          108,
          102,
          85,
          80,
          74,
          73,
          68,
          60,
          57,
          54,
          52,
          39,
          38,
          36,
          36,
          33,
          30,
          30,
          28,
          26,
          24,
          23,
          22,
          21,
          21,
          20,
          20,
          19,
          19,
          19,
          16,
          14,
          10,
          10,
          3
         ],
         "showlegend": true,
         "subplot": "polar",
         "theta": [
          "V0",
          "V1",
          "V2",
          "V3",
          "V4",
          "V5",
          "V6",
          "V7",
          "V8",
          "V9",
          "V10",
          "V11",
          "V12",
          "V13",
          "V14",
          "V15",
          "V16",
          "V17",
          "V18",
          "V19",
          "V20",
          "V21",
          "V22",
          "V23",
          "V24",
          "V25",
          "V26",
          "V27",
          "V28",
          "V29",
          "V30",
          "V31",
          "V32",
          "V33",
          "V34",
          "V35",
          "V36",
          "V37",
          "V38",
          "V39",
          "V40",
          "V41",
          "V42",
          "V43"
         ],
         "type": "scatterpolar"
        },
        {
         "hovertemplate": "variable=ga_NFS<br>value=%{r}<br>id_ds=%{theta}<extra></extra>",
         "legendgroup": "ga_NFS",
         "line": {
          "color": "#FFA15A",
          "dash": "solid"
         },
         "marker": {
          "symbol": "circle"
         },
         "mode": "lines",
         "name": "ga_NFS",
         "r": [
          151.6,
          142.6,
          141,
          126.8,
          73.8,
          77.2,
          68.6,
          66.5,
          70.4,
          61.2,
          56.6,
          42.2,
          28.8,
          42,
          36.4,
          40.4,
          43,
          34.8,
          30.8,
          21.8,
          25,
          18,
          17.8,
          19.25,
          15.8,
          22.6,
          16,
          14.2,
          11.4,
          17.8,
          15.8,
          16.6,
          11.8,
          11.4,
          19.8,
          19.6,
          1.8,
          8.2,
          5.2,
          8.6,
          10.6,
          9.8,
          6.4,
          2
         ],
         "showlegend": true,
         "subplot": "polar",
         "theta": [
          "V0",
          "V1",
          "V2",
          "V3",
          "V4",
          "V5",
          "V6",
          "V7",
          "V8",
          "V9",
          "V10",
          "V11",
          "V12",
          "V13",
          "V14",
          "V15",
          "V16",
          "V17",
          "V18",
          "V19",
          "V20",
          "V21",
          "V22",
          "V23",
          "V24",
          "V25",
          "V26",
          "V27",
          "V28",
          "V29",
          "V30",
          "V31",
          "V32",
          "V33",
          "V34",
          "V35",
          "V36",
          "V37",
          "V38",
          "V39",
          "V40",
          "V41",
          "V42",
          "V43"
         ],
         "type": "scatterpolar"
        },
        {
         "hovertemplate": "variable=hyb_NFS<br>value=%{r}<br>id_ds=%{theta}<extra></extra>",
         "legendgroup": "hyb_NFS",
         "line": {
          "color": "#19d3f3",
          "dash": "solid"
         },
         "marker": {
          "symbol": "circle"
         },
         "mode": "lines",
         "name": "hyb_NFS",
         "r": [
          62.6,
          49.2,
          71.4,
          54,
          36,
          35.6,
          29.4,
          38,
          59.4,
          55.8,
          43.4,
          23,
          13.4,
          33.6,
          11,
          30.2,
          43.4,
          31,
          19.2,
          10.2,
          19,
          11.4,
          11,
          3.4,
          17,
          23,
          4.8,
          11.8,
          8,
          17.2,
          14.6,
          14.6,
          11.2,
          7.6,
          20,
          20,
          1,
          8,
          4.2,
          4.8,
          10,
          9.8,
          6,
          2
         ],
         "showlegend": true,
         "subplot": "polar",
         "theta": [
          "V0",
          "V1",
          "V2",
          "V3",
          "V4",
          "V5",
          "V6",
          "V7",
          "V8",
          "V9",
          "V10",
          "V11",
          "V12",
          "V13",
          "V14",
          "V15",
          "V16",
          "V17",
          "V18",
          "V19",
          "V20",
          "V21",
          "V22",
          "V23",
          "V24",
          "V25",
          "V26",
          "V27",
          "V28",
          "V29",
          "V30",
          "V31",
          "V32",
          "V33",
          "V34",
          "V35",
          "V36",
          "V37",
          "V38",
          "V39",
          "V40",
          "V41",
          "V42",
          "V43"
         ],
         "type": "scatterpolar"
        }
       ],
       "layout": {
        "height": 800,
        "legend": {
         "title": {
          "text": "variable"
         },
         "tracegroupgap": 0
        },
        "polar": {
         "angularaxis": {
          "direction": "clockwise",
          "rotation": 90
         },
         "domain": {
          "x": [
           0,
           1
          ],
          "y": [
           0,
           1
          ]
         }
        },
        "template": {
         "data": {
          "bar": [
           {
            "error_x": {
             "color": "#2a3f5f"
            },
            "error_y": {
             "color": "#2a3f5f"
            },
            "marker": {
             "line": {
              "color": "#E5ECF6",
              "width": 0.5
             },
             "pattern": {
              "fillmode": "overlay",
              "size": 10,
              "solidity": 0.2
             }
            },
            "type": "bar"
           }
          ],
          "barpolar": [
           {
            "marker": {
             "line": {
              "color": "#E5ECF6",
              "width": 0.5
             },
             "pattern": {
              "fillmode": "overlay",
              "size": 10,
              "solidity": 0.2
             }
            },
            "type": "barpolar"
           }
          ],
          "carpet": [
           {
            "aaxis": {
             "endlinecolor": "#2a3f5f",
             "gridcolor": "white",
             "linecolor": "white",
             "minorgridcolor": "white",
             "startlinecolor": "#2a3f5f"
            },
            "baxis": {
             "endlinecolor": "#2a3f5f",
             "gridcolor": "white",
             "linecolor": "white",
             "minorgridcolor": "white",
             "startlinecolor": "#2a3f5f"
            },
            "type": "carpet"
           }
          ],
          "choropleth": [
           {
            "colorbar": {
             "outlinewidth": 0,
             "ticks": ""
            },
            "type": "choropleth"
           }
          ],
          "contour": [
           {
            "colorbar": {
             "outlinewidth": 0,
             "ticks": ""
            },
            "colorscale": [
             [
              0,
              "#0d0887"
             ],
             [
              0.1111111111111111,
              "#46039f"
             ],
             [
              0.2222222222222222,
              "#7201a8"
             ],
             [
              0.3333333333333333,
              "#9c179e"
             ],
             [
              0.4444444444444444,
              "#bd3786"
             ],
             [
              0.5555555555555556,
              "#d8576b"
             ],
             [
              0.6666666666666666,
              "#ed7953"
             ],
             [
              0.7777777777777778,
              "#fb9f3a"
             ],
             [
              0.8888888888888888,
              "#fdca26"
             ],
             [
              1,
              "#f0f921"
             ]
            ],
            "type": "contour"
           }
          ],
          "contourcarpet": [
           {
            "colorbar": {
             "outlinewidth": 0,
             "ticks": ""
            },
            "type": "contourcarpet"
           }
          ],
          "heatmap": [
           {
            "colorbar": {
             "outlinewidth": 0,
             "ticks": ""
            },
            "colorscale": [
             [
              0,
              "#0d0887"
             ],
             [
              0.1111111111111111,
              "#46039f"
             ],
             [
              0.2222222222222222,
              "#7201a8"
             ],
             [
              0.3333333333333333,
              "#9c179e"
             ],
             [
              0.4444444444444444,
              "#bd3786"
             ],
             [
              0.5555555555555556,
              "#d8576b"
             ],
             [
              0.6666666666666666,
              "#ed7953"
             ],
             [
              0.7777777777777778,
              "#fb9f3a"
             ],
             [
              0.8888888888888888,
              "#fdca26"
             ],
             [
              1,
              "#f0f921"
             ]
            ],
            "type": "heatmap"
           }
          ],
          "heatmapgl": [
           {
            "colorbar": {
             "outlinewidth": 0,
             "ticks": ""
            },
            "colorscale": [
             [
              0,
              "#0d0887"
             ],
             [
              0.1111111111111111,
              "#46039f"
             ],
             [
              0.2222222222222222,
              "#7201a8"
             ],
             [
              0.3333333333333333,
              "#9c179e"
             ],
             [
              0.4444444444444444,
              "#bd3786"
             ],
             [
              0.5555555555555556,
              "#d8576b"
             ],
             [
              0.6666666666666666,
              "#ed7953"
             ],
             [
              0.7777777777777778,
              "#fb9f3a"
             ],
             [
              0.8888888888888888,
              "#fdca26"
             ],
             [
              1,
              "#f0f921"
             ]
            ],
            "type": "heatmapgl"
           }
          ],
          "histogram": [
           {
            "marker": {
             "pattern": {
              "fillmode": "overlay",
              "size": 10,
              "solidity": 0.2
             }
            },
            "type": "histogram"
           }
          ],
          "histogram2d": [
           {
            "colorbar": {
             "outlinewidth": 0,
             "ticks": ""
            },
            "colorscale": [
             [
              0,
              "#0d0887"
             ],
             [
              0.1111111111111111,
              "#46039f"
             ],
             [
              0.2222222222222222,
              "#7201a8"
             ],
             [
              0.3333333333333333,
              "#9c179e"
             ],
             [
              0.4444444444444444,
              "#bd3786"
             ],
             [
              0.5555555555555556,
              "#d8576b"
             ],
             [
              0.6666666666666666,
              "#ed7953"
             ],
             [
              0.7777777777777778,
              "#fb9f3a"
             ],
             [
              0.8888888888888888,
              "#fdca26"
             ],
             [
              1,
              "#f0f921"
             ]
            ],
            "type": "histogram2d"
           }
          ],
          "histogram2dcontour": [
           {
            "colorbar": {
             "outlinewidth": 0,
             "ticks": ""
            },
            "colorscale": [
             [
              0,
              "#0d0887"
             ],
             [
              0.1111111111111111,
              "#46039f"
             ],
             [
              0.2222222222222222,
              "#7201a8"
             ],
             [
              0.3333333333333333,
              "#9c179e"
             ],
             [
              0.4444444444444444,
              "#bd3786"
             ],
             [
              0.5555555555555556,
              "#d8576b"
             ],
             [
              0.6666666666666666,
              "#ed7953"
             ],
             [
              0.7777777777777778,
              "#fb9f3a"
             ],
             [
              0.8888888888888888,
              "#fdca26"
             ],
             [
              1,
              "#f0f921"
             ]
            ],
            "type": "histogram2dcontour"
           }
          ],
          "mesh3d": [
           {
            "colorbar": {
             "outlinewidth": 0,
             "ticks": ""
            },
            "type": "mesh3d"
           }
          ],
          "parcoords": [
           {
            "line": {
             "colorbar": {
              "outlinewidth": 0,
              "ticks": ""
             }
            },
            "type": "parcoords"
           }
          ],
          "pie": [
           {
            "automargin": true,
            "type": "pie"
           }
          ],
          "scatter": [
           {
            "fillpattern": {
             "fillmode": "overlay",
             "size": 10,
             "solidity": 0.2
            },
            "type": "scatter"
           }
          ],
          "scatter3d": [
           {
            "line": {
             "colorbar": {
              "outlinewidth": 0,
              "ticks": ""
             }
            },
            "marker": {
             "colorbar": {
              "outlinewidth": 0,
              "ticks": ""
             }
            },
            "type": "scatter3d"
           }
          ],
          "scattercarpet": [
           {
            "marker": {
             "colorbar": {
              "outlinewidth": 0,
              "ticks": ""
             }
            },
            "type": "scattercarpet"
           }
          ],
          "scattergeo": [
           {
            "marker": {
             "colorbar": {
              "outlinewidth": 0,
              "ticks": ""
             }
            },
            "type": "scattergeo"
           }
          ],
          "scattergl": [
           {
            "marker": {
             "colorbar": {
              "outlinewidth": 0,
              "ticks": ""
             }
            },
            "type": "scattergl"
           }
          ],
          "scattermapbox": [
           {
            "marker": {
             "colorbar": {
              "outlinewidth": 0,
              "ticks": ""
             }
            },
            "type": "scattermapbox"
           }
          ],
          "scatterpolar": [
           {
            "marker": {
             "colorbar": {
              "outlinewidth": 0,
              "ticks": ""
             }
            },
            "type": "scatterpolar"
           }
          ],
          "scatterpolargl": [
           {
            "marker": {
             "colorbar": {
              "outlinewidth": 0,
              "ticks": ""
             }
            },
            "type": "scatterpolargl"
           }
          ],
          "scatterternary": [
           {
            "marker": {
             "colorbar": {
              "outlinewidth": 0,
              "ticks": ""
             }
            },
            "type": "scatterternary"
           }
          ],
          "surface": [
           {
            "colorbar": {
             "outlinewidth": 0,
             "ticks": ""
            },
            "colorscale": [
             [
              0,
              "#0d0887"
             ],
             [
              0.1111111111111111,
              "#46039f"
             ],
             [
              0.2222222222222222,
              "#7201a8"
             ],
             [
              0.3333333333333333,
              "#9c179e"
             ],
             [
              0.4444444444444444,
              "#bd3786"
             ],
             [
              0.5555555555555556,
              "#d8576b"
             ],
             [
              0.6666666666666666,
              "#ed7953"
             ],
             [
              0.7777777777777778,
              "#fb9f3a"
             ],
             [
              0.8888888888888888,
              "#fdca26"
             ],
             [
              1,
              "#f0f921"
             ]
            ],
            "type": "surface"
           }
          ],
          "table": [
           {
            "cells": {
             "fill": {
              "color": "#EBF0F8"
             },
             "line": {
              "color": "white"
             }
            },
            "header": {
             "fill": {
              "color": "#C8D4E3"
             },
             "line": {
              "color": "white"
             }
            },
            "type": "table"
           }
          ]
         },
         "layout": {
          "annotationdefaults": {
           "arrowcolor": "#2a3f5f",
           "arrowhead": 0,
           "arrowwidth": 1
          },
          "autotypenumbers": "strict",
          "coloraxis": {
           "colorbar": {
            "outlinewidth": 0,
            "ticks": ""
           }
          },
          "colorscale": {
           "diverging": [
            [
             0,
             "#8e0152"
            ],
            [
             0.1,
             "#c51b7d"
            ],
            [
             0.2,
             "#de77ae"
            ],
            [
             0.3,
             "#f1b6da"
            ],
            [
             0.4,
             "#fde0ef"
            ],
            [
             0.5,
             "#f7f7f7"
            ],
            [
             0.6,
             "#e6f5d0"
            ],
            [
             0.7,
             "#b8e186"
            ],
            [
             0.8,
             "#7fbc41"
            ],
            [
             0.9,
             "#4d9221"
            ],
            [
             1,
             "#276419"
            ]
           ],
           "sequential": [
            [
             0,
             "#0d0887"
            ],
            [
             0.1111111111111111,
             "#46039f"
            ],
            [
             0.2222222222222222,
             "#7201a8"
            ],
            [
             0.3333333333333333,
             "#9c179e"
            ],
            [
             0.4444444444444444,
             "#bd3786"
            ],
            [
             0.5555555555555556,
             "#d8576b"
            ],
            [
             0.6666666666666666,
             "#ed7953"
            ],
            [
             0.7777777777777778,
             "#fb9f3a"
            ],
            [
             0.8888888888888888,
             "#fdca26"
            ],
            [
             1,
             "#f0f921"
            ]
           ],
           "sequentialminus": [
            [
             0,
             "#0d0887"
            ],
            [
             0.1111111111111111,
             "#46039f"
            ],
            [
             0.2222222222222222,
             "#7201a8"
            ],
            [
             0.3333333333333333,
             "#9c179e"
            ],
            [
             0.4444444444444444,
             "#bd3786"
            ],
            [
             0.5555555555555556,
             "#d8576b"
            ],
            [
             0.6666666666666666,
             "#ed7953"
            ],
            [
             0.7777777777777778,
             "#fb9f3a"
            ],
            [
             0.8888888888888888,
             "#fdca26"
            ],
            [
             1,
             "#f0f921"
            ]
           ]
          },
          "colorway": [
           "#636efa",
           "#EF553B",
           "#00cc96",
           "#ab63fa",
           "#FFA15A",
           "#19d3f3",
           "#FF6692",
           "#B6E880",
           "#FF97FF",
           "#FECB52"
          ],
          "font": {
           "color": "#2a3f5f"
          },
          "geo": {
           "bgcolor": "white",
           "lakecolor": "white",
           "landcolor": "#E5ECF6",
           "showlakes": true,
           "showland": true,
           "subunitcolor": "white"
          },
          "hoverlabel": {
           "align": "left"
          },
          "hovermode": "closest",
          "mapbox": {
           "style": "light"
          },
          "paper_bgcolor": "white",
          "plot_bgcolor": "#E5ECF6",
          "polar": {
           "angularaxis": {
            "gridcolor": "white",
            "linecolor": "white",
            "ticks": ""
           },
           "bgcolor": "#E5ECF6",
           "radialaxis": {
            "gridcolor": "white",
            "linecolor": "white",
            "ticks": ""
           }
          },
          "scene": {
           "xaxis": {
            "backgroundcolor": "#E5ECF6",
            "gridcolor": "white",
            "gridwidth": 2,
            "linecolor": "white",
            "showbackground": true,
            "ticks": "",
            "zerolinecolor": "white"
           },
           "yaxis": {
            "backgroundcolor": "#E5ECF6",
            "gridcolor": "white",
            "gridwidth": 2,
            "linecolor": "white",
            "showbackground": true,
            "ticks": "",
            "zerolinecolor": "white"
           },
           "zaxis": {
            "backgroundcolor": "#E5ECF6",
            "gridcolor": "white",
            "gridwidth": 2,
            "linecolor": "white",
            "showbackground": true,
            "ticks": "",
            "zerolinecolor": "white"
           }
          },
          "shapedefaults": {
           "line": {
            "color": "#2a3f5f"
           }
          },
          "ternary": {
           "aaxis": {
            "gridcolor": "white",
            "linecolor": "white",
            "ticks": ""
           },
           "baxis": {
            "gridcolor": "white",
            "linecolor": "white",
            "ticks": ""
           },
           "bgcolor": "#E5ECF6",
           "caxis": {
            "gridcolor": "white",
            "linecolor": "white",
            "ticks": ""
           }
          },
          "title": {
           "x": 0.05
          },
          "xaxis": {
           "automargin": true,
           "gridcolor": "white",
           "linecolor": "white",
           "ticks": "",
           "title": {
            "standoff": 15
           },
           "zerolinecolor": "white",
           "zerolinewidth": 2
          },
          "yaxis": {
           "automargin": true,
           "gridcolor": "white",
           "linecolor": "white",
           "ticks": "",
           "title": {
            "standoff": 15
           },
           "zerolinecolor": "white",
           "zerolinewidth": 2
          }
         }
        },
        "title": {
         "text": "Number of Features Selected (NFS) in Binary Classification Problems"
        },
        "width": 800
       }
      }
     },
     "metadata": {},
     "output_type": "display_data"
    },
    {
     "data": {
      "application/vnd.plotly.v1+json": {
       "config": {
        "plotlyServerURL": "https://plot.ly"
       },
       "data": [
        {
         "hovertemplate": "variable=bo_FINAL_SCORE_TST<br>value=%{r}<br>id_ds=%{theta}<extra></extra>",
         "legendgroup": "bo_FINAL_SCORE_TST",
         "line": {
          "color": "#ab63fa",
          "dash": "solid"
         },
         "marker": {
          "symbol": "circle"
         },
         "mode": "lines",
         "name": "bo_FINAL_SCORE_TST",
         "r": [
          0.556639,
          0.20009939999999998,
          0.444726,
          0.6702818,
          0.000009,
          0.2101276,
          0.0440046,
          0.066597,
          0.0000386,
          0.017647200000000002,
          0.35301299999999997,
          0.20387079999999996,
          0.0188748,
          0.1010208,
          0.5579078,
          0.1430896,
          0.4551928,
          0.23461479999999998,
          0.06888520000000001,
          0.1081272,
          0.5590158,
          0.029953,
          0.0203264,
          0.02500675,
          0.30183400000000005,
          0.293697,
          0.00834,
          0.37256,
          0.574653,
          0.0391088,
          0.4664,
          0.5720714,
          0.37054,
          0.4522462,
          0.5308208,
          0.06718379999999999,
          0.000055,
          0.6084296,
          0.008032,
          0.0491068,
          0.6359937999999999,
          0.567551,
          0.4598282,
          0.5159976000000001
         ],
         "showlegend": true,
         "subplot": "polar",
         "theta": [
          "V0",
          "V1",
          "V2",
          "V3",
          "V4",
          "V5",
          "V6",
          "V7",
          "V8",
          "V9",
          "V10",
          "V11",
          "V12",
          "V13",
          "V14",
          "V15",
          "V16",
          "V17",
          "V18",
          "V19",
          "V20",
          "V21",
          "V22",
          "V23",
          "V24",
          "V25",
          "V26",
          "V27",
          "V28",
          "V29",
          "V30",
          "V31",
          "V32",
          "V33",
          "V34",
          "V35",
          "V36",
          "V37",
          "V38",
          "V39",
          "V40",
          "V41",
          "V42",
          "V43"
         ],
         "type": "scatterpolar"
        },
        {
         "hovertemplate": "variable=ga_FINAL_SCORE_TST<br>value=%{r}<br>id_ds=%{theta}<extra></extra>",
         "legendgroup": "ga_FINAL_SCORE_TST",
         "line": {
          "color": "#FFA15A",
          "dash": "solid"
         },
         "marker": {
          "symbol": "circle"
         },
         "mode": "lines",
         "name": "ga_FINAL_SCORE_TST",
         "r": [
          0.5519308,
          0.10792679999999999,
          0.44615140000000003,
          0.6721885999999999,
          0.000009400000000000001,
          0.2114214,
          0.044114,
          0.0717695,
          0.0000392,
          0.019447399999999997,
          0.353059,
          0.20446360000000002,
          0.009104600000000001,
          0.1020806,
          0.5582994,
          0.14327099999999998,
          0.45880340000000003,
          0.24981360000000002,
          0.0674742,
          0.1087266,
          0.5598198,
          0.030064200000000003,
          0.022820200000000002,
          0.03385675,
          0.3011032,
          0.2997304,
          0.007423,
          0.37215760000000003,
          0.573996,
          0.038893,
          0.46650159999999996,
          0.5723902,
          0.3731966,
          0.45279759999999997,
          0.532332,
          0.0692982,
          0.000054,
          0.6073762,
          0.007496600000000001,
          0.0476748,
          0.6361482,
          0.5675302,
          0.4599844,
          0.5173464
         ],
         "showlegend": true,
         "subplot": "polar",
         "theta": [
          "V0",
          "V1",
          "V2",
          "V3",
          "V4",
          "V5",
          "V6",
          "V7",
          "V8",
          "V9",
          "V10",
          "V11",
          "V12",
          "V13",
          "V14",
          "V15",
          "V16",
          "V17",
          "V18",
          "V19",
          "V20",
          "V21",
          "V22",
          "V23",
          "V24",
          "V25",
          "V26",
          "V27",
          "V28",
          "V29",
          "V30",
          "V31",
          "V32",
          "V33",
          "V34",
          "V35",
          "V36",
          "V37",
          "V38",
          "V39",
          "V40",
          "V41",
          "V42",
          "V43"
         ],
         "type": "scatterpolar"
        },
        {
         "hovertemplate": "variable=hyb_FINAL_SCORE_TST<br>value=%{r}<br>id_ds=%{theta}<extra></extra>",
         "legendgroup": "hyb_FINAL_SCORE_TST",
         "line": {
          "color": "#19d3f3",
          "dash": "solid"
         },
         "marker": {
          "symbol": "circle"
         },
         "mode": "lines",
         "name": "hyb_FINAL_SCORE_TST",
         "r": [
          0.5421366,
          0.0607564,
          0.44761480000000003,
          0.6803372,
          0.0000072000000000000005,
          0.21255220000000002,
          0.0495732,
          0.1139878,
          0.0000528,
          0.0198826,
          0.3555488,
          0.205579,
          0.0094672,
          0.09925500000000001,
          0.5581598,
          0.14251819999999998,
          0.4575736,
          0.2396054,
          0.066323,
          0.1089396,
          0.5604564,
          0.0294308,
          0.0236728,
          0.025096799999999996,
          0.3014382,
          0.2985624,
          0.0066204,
          0.372357,
          0.5738432,
          0.0392152,
          0.46711279999999994,
          0.5722468,
          0.38116120000000003,
          0.4527776,
          0.5310402,
          0.0669792,
          0.000054,
          0.6075626,
          0.0077264,
          0.047955399999999995,
          0.6362766000000001,
          0.5675304000000001,
          0.4599724,
          0.5173668
         ],
         "showlegend": true,
         "subplot": "polar",
         "theta": [
          "V0",
          "V1",
          "V2",
          "V3",
          "V4",
          "V5",
          "V6",
          "V7",
          "V8",
          "V9",
          "V10",
          "V11",
          "V12",
          "V13",
          "V14",
          "V15",
          "V16",
          "V17",
          "V18",
          "V19",
          "V20",
          "V21",
          "V22",
          "V23",
          "V24",
          "V25",
          "V26",
          "V27",
          "V28",
          "V29",
          "V30",
          "V31",
          "V32",
          "V33",
          "V34",
          "V35",
          "V36",
          "V37",
          "V38",
          "V39",
          "V40",
          "V41",
          "V42",
          "V43"
         ],
         "type": "scatterpolar"
        }
       ],
       "layout": {
        "height": 800,
        "legend": {
         "title": {
          "text": "variable"
         },
         "tracegroupgap": 0
        },
        "polar": {
         "angularaxis": {
          "direction": "clockwise",
          "rotation": 90
         },
         "domain": {
          "x": [
           0,
           1
          ],
          "y": [
           0,
           1
          ]
         }
        },
        "template": {
         "data": {
          "bar": [
           {
            "error_x": {
             "color": "#2a3f5f"
            },
            "error_y": {
             "color": "#2a3f5f"
            },
            "marker": {
             "line": {
              "color": "#E5ECF6",
              "width": 0.5
             },
             "pattern": {
              "fillmode": "overlay",
              "size": 10,
              "solidity": 0.2
             }
            },
            "type": "bar"
           }
          ],
          "barpolar": [
           {
            "marker": {
             "line": {
              "color": "#E5ECF6",
              "width": 0.5
             },
             "pattern": {
              "fillmode": "overlay",
              "size": 10,
              "solidity": 0.2
             }
            },
            "type": "barpolar"
           }
          ],
          "carpet": [
           {
            "aaxis": {
             "endlinecolor": "#2a3f5f",
             "gridcolor": "white",
             "linecolor": "white",
             "minorgridcolor": "white",
             "startlinecolor": "#2a3f5f"
            },
            "baxis": {
             "endlinecolor": "#2a3f5f",
             "gridcolor": "white",
             "linecolor": "white",
             "minorgridcolor": "white",
             "startlinecolor": "#2a3f5f"
            },
            "type": "carpet"
           }
          ],
          "choropleth": [
           {
            "colorbar": {
             "outlinewidth": 0,
             "ticks": ""
            },
            "type": "choropleth"
           }
          ],
          "contour": [
           {
            "colorbar": {
             "outlinewidth": 0,
             "ticks": ""
            },
            "colorscale": [
             [
              0,
              "#0d0887"
             ],
             [
              0.1111111111111111,
              "#46039f"
             ],
             [
              0.2222222222222222,
              "#7201a8"
             ],
             [
              0.3333333333333333,
              "#9c179e"
             ],
             [
              0.4444444444444444,
              "#bd3786"
             ],
             [
              0.5555555555555556,
              "#d8576b"
             ],
             [
              0.6666666666666666,
              "#ed7953"
             ],
             [
              0.7777777777777778,
              "#fb9f3a"
             ],
             [
              0.8888888888888888,
              "#fdca26"
             ],
             [
              1,
              "#f0f921"
             ]
            ],
            "type": "contour"
           }
          ],
          "contourcarpet": [
           {
            "colorbar": {
             "outlinewidth": 0,
             "ticks": ""
            },
            "type": "contourcarpet"
           }
          ],
          "heatmap": [
           {
            "colorbar": {
             "outlinewidth": 0,
             "ticks": ""
            },
            "colorscale": [
             [
              0,
              "#0d0887"
             ],
             [
              0.1111111111111111,
              "#46039f"
             ],
             [
              0.2222222222222222,
              "#7201a8"
             ],
             [
              0.3333333333333333,
              "#9c179e"
             ],
             [
              0.4444444444444444,
              "#bd3786"
             ],
             [
              0.5555555555555556,
              "#d8576b"
             ],
             [
              0.6666666666666666,
              "#ed7953"
             ],
             [
              0.7777777777777778,
              "#fb9f3a"
             ],
             [
              0.8888888888888888,
              "#fdca26"
             ],
             [
              1,
              "#f0f921"
             ]
            ],
            "type": "heatmap"
           }
          ],
          "heatmapgl": [
           {
            "colorbar": {
             "outlinewidth": 0,
             "ticks": ""
            },
            "colorscale": [
             [
              0,
              "#0d0887"
             ],
             [
              0.1111111111111111,
              "#46039f"
             ],
             [
              0.2222222222222222,
              "#7201a8"
             ],
             [
              0.3333333333333333,
              "#9c179e"
             ],
             [
              0.4444444444444444,
              "#bd3786"
             ],
             [
              0.5555555555555556,
              "#d8576b"
             ],
             [
              0.6666666666666666,
              "#ed7953"
             ],
             [
              0.7777777777777778,
              "#fb9f3a"
             ],
             [
              0.8888888888888888,
              "#fdca26"
             ],
             [
              1,
              "#f0f921"
             ]
            ],
            "type": "heatmapgl"
           }
          ],
          "histogram": [
           {
            "marker": {
             "pattern": {
              "fillmode": "overlay",
              "size": 10,
              "solidity": 0.2
             }
            },
            "type": "histogram"
           }
          ],
          "histogram2d": [
           {
            "colorbar": {
             "outlinewidth": 0,
             "ticks": ""
            },
            "colorscale": [
             [
              0,
              "#0d0887"
             ],
             [
              0.1111111111111111,
              "#46039f"
             ],
             [
              0.2222222222222222,
              "#7201a8"
             ],
             [
              0.3333333333333333,
              "#9c179e"
             ],
             [
              0.4444444444444444,
              "#bd3786"
             ],
             [
              0.5555555555555556,
              "#d8576b"
             ],
             [
              0.6666666666666666,
              "#ed7953"
             ],
             [
              0.7777777777777778,
              "#fb9f3a"
             ],
             [
              0.8888888888888888,
              "#fdca26"
             ],
             [
              1,
              "#f0f921"
             ]
            ],
            "type": "histogram2d"
           }
          ],
          "histogram2dcontour": [
           {
            "colorbar": {
             "outlinewidth": 0,
             "ticks": ""
            },
            "colorscale": [
             [
              0,
              "#0d0887"
             ],
             [
              0.1111111111111111,
              "#46039f"
             ],
             [
              0.2222222222222222,
              "#7201a8"
             ],
             [
              0.3333333333333333,
              "#9c179e"
             ],
             [
              0.4444444444444444,
              "#bd3786"
             ],
             [
              0.5555555555555556,
              "#d8576b"
             ],
             [
              0.6666666666666666,
              "#ed7953"
             ],
             [
              0.7777777777777778,
              "#fb9f3a"
             ],
             [
              0.8888888888888888,
              "#fdca26"
             ],
             [
              1,
              "#f0f921"
             ]
            ],
            "type": "histogram2dcontour"
           }
          ],
          "mesh3d": [
           {
            "colorbar": {
             "outlinewidth": 0,
             "ticks": ""
            },
            "type": "mesh3d"
           }
          ],
          "parcoords": [
           {
            "line": {
             "colorbar": {
              "outlinewidth": 0,
              "ticks": ""
             }
            },
            "type": "parcoords"
           }
          ],
          "pie": [
           {
            "automargin": true,
            "type": "pie"
           }
          ],
          "scatter": [
           {
            "fillpattern": {
             "fillmode": "overlay",
             "size": 10,
             "solidity": 0.2
            },
            "type": "scatter"
           }
          ],
          "scatter3d": [
           {
            "line": {
             "colorbar": {
              "outlinewidth": 0,
              "ticks": ""
             }
            },
            "marker": {
             "colorbar": {
              "outlinewidth": 0,
              "ticks": ""
             }
            },
            "type": "scatter3d"
           }
          ],
          "scattercarpet": [
           {
            "marker": {
             "colorbar": {
              "outlinewidth": 0,
              "ticks": ""
             }
            },
            "type": "scattercarpet"
           }
          ],
          "scattergeo": [
           {
            "marker": {
             "colorbar": {
              "outlinewidth": 0,
              "ticks": ""
             }
            },
            "type": "scattergeo"
           }
          ],
          "scattergl": [
           {
            "marker": {
             "colorbar": {
              "outlinewidth": 0,
              "ticks": ""
             }
            },
            "type": "scattergl"
           }
          ],
          "scattermapbox": [
           {
            "marker": {
             "colorbar": {
              "outlinewidth": 0,
              "ticks": ""
             }
            },
            "type": "scattermapbox"
           }
          ],
          "scatterpolar": [
           {
            "marker": {
             "colorbar": {
              "outlinewidth": 0,
              "ticks": ""
             }
            },
            "type": "scatterpolar"
           }
          ],
          "scatterpolargl": [
           {
            "marker": {
             "colorbar": {
              "outlinewidth": 0,
              "ticks": ""
             }
            },
            "type": "scatterpolargl"
           }
          ],
          "scatterternary": [
           {
            "marker": {
             "colorbar": {
              "outlinewidth": 0,
              "ticks": ""
             }
            },
            "type": "scatterternary"
           }
          ],
          "surface": [
           {
            "colorbar": {
             "outlinewidth": 0,
             "ticks": ""
            },
            "colorscale": [
             [
              0,
              "#0d0887"
             ],
             [
              0.1111111111111111,
              "#46039f"
             ],
             [
              0.2222222222222222,
              "#7201a8"
             ],
             [
              0.3333333333333333,
              "#9c179e"
             ],
             [
              0.4444444444444444,
              "#bd3786"
             ],
             [
              0.5555555555555556,
              "#d8576b"
             ],
             [
              0.6666666666666666,
              "#ed7953"
             ],
             [
              0.7777777777777778,
              "#fb9f3a"
             ],
             [
              0.8888888888888888,
              "#fdca26"
             ],
             [
              1,
              "#f0f921"
             ]
            ],
            "type": "surface"
           }
          ],
          "table": [
           {
            "cells": {
             "fill": {
              "color": "#EBF0F8"
             },
             "line": {
              "color": "white"
             }
            },
            "header": {
             "fill": {
              "color": "#C8D4E3"
             },
             "line": {
              "color": "white"
             }
            },
            "type": "table"
           }
          ]
         },
         "layout": {
          "annotationdefaults": {
           "arrowcolor": "#2a3f5f",
           "arrowhead": 0,
           "arrowwidth": 1
          },
          "autotypenumbers": "strict",
          "coloraxis": {
           "colorbar": {
            "outlinewidth": 0,
            "ticks": ""
           }
          },
          "colorscale": {
           "diverging": [
            [
             0,
             "#8e0152"
            ],
            [
             0.1,
             "#c51b7d"
            ],
            [
             0.2,
             "#de77ae"
            ],
            [
             0.3,
             "#f1b6da"
            ],
            [
             0.4,
             "#fde0ef"
            ],
            [
             0.5,
             "#f7f7f7"
            ],
            [
             0.6,
             "#e6f5d0"
            ],
            [
             0.7,
             "#b8e186"
            ],
            [
             0.8,
             "#7fbc41"
            ],
            [
             0.9,
             "#4d9221"
            ],
            [
             1,
             "#276419"
            ]
           ],
           "sequential": [
            [
             0,
             "#0d0887"
            ],
            [
             0.1111111111111111,
             "#46039f"
            ],
            [
             0.2222222222222222,
             "#7201a8"
            ],
            [
             0.3333333333333333,
             "#9c179e"
            ],
            [
             0.4444444444444444,
             "#bd3786"
            ],
            [
             0.5555555555555556,
             "#d8576b"
            ],
            [
             0.6666666666666666,
             "#ed7953"
            ],
            [
             0.7777777777777778,
             "#fb9f3a"
            ],
            [
             0.8888888888888888,
             "#fdca26"
            ],
            [
             1,
             "#f0f921"
            ]
           ],
           "sequentialminus": [
            [
             0,
             "#0d0887"
            ],
            [
             0.1111111111111111,
             "#46039f"
            ],
            [
             0.2222222222222222,
             "#7201a8"
            ],
            [
             0.3333333333333333,
             "#9c179e"
            ],
            [
             0.4444444444444444,
             "#bd3786"
            ],
            [
             0.5555555555555556,
             "#d8576b"
            ],
            [
             0.6666666666666666,
             "#ed7953"
            ],
            [
             0.7777777777777778,
             "#fb9f3a"
            ],
            [
             0.8888888888888888,
             "#fdca26"
            ],
            [
             1,
             "#f0f921"
            ]
           ]
          },
          "colorway": [
           "#636efa",
           "#EF553B",
           "#00cc96",
           "#ab63fa",
           "#FFA15A",
           "#19d3f3",
           "#FF6692",
           "#B6E880",
           "#FF97FF",
           "#FECB52"
          ],
          "font": {
           "color": "#2a3f5f"
          },
          "geo": {
           "bgcolor": "white",
           "lakecolor": "white",
           "landcolor": "#E5ECF6",
           "showlakes": true,
           "showland": true,
           "subunitcolor": "white"
          },
          "hoverlabel": {
           "align": "left"
          },
          "hovermode": "closest",
          "mapbox": {
           "style": "light"
          },
          "paper_bgcolor": "white",
          "plot_bgcolor": "#E5ECF6",
          "polar": {
           "angularaxis": {
            "gridcolor": "white",
            "linecolor": "white",
            "ticks": ""
           },
           "bgcolor": "#E5ECF6",
           "radialaxis": {
            "gridcolor": "white",
            "linecolor": "white",
            "ticks": ""
           }
          },
          "scene": {
           "xaxis": {
            "backgroundcolor": "#E5ECF6",
            "gridcolor": "white",
            "gridwidth": 2,
            "linecolor": "white",
            "showbackground": true,
            "ticks": "",
            "zerolinecolor": "white"
           },
           "yaxis": {
            "backgroundcolor": "#E5ECF6",
            "gridcolor": "white",
            "gridwidth": 2,
            "linecolor": "white",
            "showbackground": true,
            "ticks": "",
            "zerolinecolor": "white"
           },
           "zaxis": {
            "backgroundcolor": "#E5ECF6",
            "gridcolor": "white",
            "gridwidth": 2,
            "linecolor": "white",
            "showbackground": true,
            "ticks": "",
            "zerolinecolor": "white"
           }
          },
          "shapedefaults": {
           "line": {
            "color": "#2a3f5f"
           }
          },
          "ternary": {
           "aaxis": {
            "gridcolor": "white",
            "linecolor": "white",
            "ticks": ""
           },
           "baxis": {
            "gridcolor": "white",
            "linecolor": "white",
            "ticks": ""
           },
           "bgcolor": "#E5ECF6",
           "caxis": {
            "gridcolor": "white",
            "linecolor": "white",
            "ticks": ""
           }
          },
          "title": {
           "x": 0.05
          },
          "xaxis": {
           "automargin": true,
           "gridcolor": "white",
           "linecolor": "white",
           "ticks": "",
           "title": {
            "standoff": 15
           },
           "zerolinecolor": "white",
           "zerolinewidth": 2
          },
          "yaxis": {
           "automargin": true,
           "gridcolor": "white",
           "linecolor": "white",
           "ticks": "",
           "title": {
            "standoff": 15
           },
           "zerolinecolor": "white",
           "zerolinewidth": 2
          }
         }
        },
        "title": {
         "text": "Logloss in Binary Classification Problems (smaller better)"
        },
        "width": 800
       }
      }
     },
     "metadata": {},
     "output_type": "display_data"
    }
   ],
   "source": [
    "import matplotlib.pyplot as plt\n",
    "import plotly.express as px\n",
    "mat_merge_melt = mat_merge.query('score_type==\"logloss\"').sort_values('bo_NFS', ascending=False).melt(id_vars=['name_file'], value_vars=['bo_NFS', 'ga_NFS', 'hyb_NFS'])\n",
    "mat_merge_melt['id_ds'] = mat_merge_melt['name_file'].map(dict(zip(mat_merge_melt['name_file'].unique(), ['V'+str(i) for i in range(len(mat_merge_melt['name_file'].unique()))])))\n",
    "mat_merge_melt.head()\n",
    "\n",
    "fig = px.line_polar(mat_merge_melt, r = 'value', theta = 'id_ds', \n",
    "#                     line_close = True,\n",
    "                    color = 'variable', color_discrete_map = {'A': 'dodgerblue', 'B': 'gold', 'C': 'green'},\n",
    "                    title='Number of Features Selected (NFS) in Binary Classification Problems',\n",
    "#                    line_dash='variable'\n",
    "                   )\n",
    "# fig.update_traces(fill = 'toself')\n",
    "fig.update_layout(width=800, height=800)\n",
    "fig.show() \n",
    "\n",
    "\n",
    "mat_merge_melt = mat_merge.query('score_type==\"logloss\"').sort_values('bo_NFS', ascending=False).melt(id_vars=['name_file'], value_vars=['bo_FINAL_SCORE_TST', 'ga_FINAL_SCORE_TST', 'hyb_FINAL_SCORE_TST'])\n",
    "mat_merge_melt['id_ds'] = mat_merge_melt['name_file'].map(dict(zip(mat_merge_melt['name_file'].unique(), ['V'+str(i) for i in range(len(mat_merge_melt['name_file'].unique()))])))\n",
    "mat_merge_melt.head()\n",
    "\n",
    "fig = px.line_polar(mat_merge_melt, r = 'value', theta = 'id_ds', \n",
    "#                     line_close = True,\n",
    "                    color = 'variable', \n",
    "                    color_discrete_map = {'A': 'dodgerblue', 'B': 'gold', 'C': 'green'},\n",
    "                    title='Logloss in Binary Classification Problems (smaller better)',\n",
    "                    \n",
    "#                     line_dash='variable'\n",
    "                   )\n",
    "# fig.update_traces(fill = 'toself')\n",
    "fig.update_layout(width=800, height=800)\n",
    "fig.show() \n"
   ]
  },
  {
   "cell_type": "markdown",
   "id": "d17912cb",
   "metadata": {},
   "source": [
    "# Results with Regression Datasets (RMSE in Test)"
   ]
  },
  {
   "cell_type": "code",
   "execution_count": 43,
   "id": "25801181",
   "metadata": {
    "ExecuteTime": {
     "end_time": "2023-09-18T20:02:26.248302Z",
     "start_time": "2023-09-18T20:02:26.201541Z"
    }
   },
   "outputs": [
    {
     "data": {
      "text/html": [
       "<div>\n",
       "<style scoped>\n",
       "    .dataframe tbody tr th:only-of-type {\n",
       "        vertical-align: middle;\n",
       "    }\n",
       "\n",
       "    .dataframe tbody tr th {\n",
       "        vertical-align: top;\n",
       "    }\n",
       "\n",
       "    .dataframe thead th {\n",
       "        text-align: right;\n",
       "    }\n",
       "</style>\n",
       "<table border=\"1\" class=\"dataframe\">\n",
       "  <thead>\n",
       "    <tr style=\"text-align: right;\">\n",
       "      <th></th>\n",
       "      <th>name_file</th>\n",
       "      <th>name_db</th>\n",
       "      <th>score_type</th>\n",
       "      <th>num_rows</th>\n",
       "      <th>num_cols</th>\n",
       "      <th>num_classes</th>\n",
       "      <th>train_val_size</th>\n",
       "      <th>test_size</th>\n",
       "      <th>bo_NFS</th>\n",
       "      <th>bo_FINAL_SCORE_TST</th>\n",
       "      <th>hyb_NFS</th>\n",
       "      <th>hyb_FINAL_SCORE_TST</th>\n",
       "      <th>ga_NFS</th>\n",
       "      <th>ga_FINAL_SCORE_TST</th>\n",
       "    </tr>\n",
       "  </thead>\n",
       "  <tbody>\n",
       "    <tr>\n",
       "      <th>27</th>\n",
       "      <td>ames.csv</td>\n",
       "      <td>ames_housing</td>\n",
       "      <td>MSE/RMSE</td>\n",
       "      <td>2930</td>\n",
       "      <td>354</td>\n",
       "      <td>1032</td>\n",
       "      <td>1465</td>\n",
       "      <td>1465</td>\n",
       "      <td>354.0</td>\n",
       "      <td>0.441985</td>\n",
       "      <td>178.8</td>\n",
       "      <td>0.520473</td>\n",
       "      <td>187.0</td>\n",
       "      <td>0.525417</td>\n",
       "    </tr>\n",
       "    <tr>\n",
       "      <th>91</th>\n",
       "      <td>topo.csv</td>\n",
       "      <td>topo_2_1</td>\n",
       "      <td>MSE/RMSE</td>\n",
       "      <td>8885</td>\n",
       "      <td>266</td>\n",
       "      <td>1336</td>\n",
       "      <td>4442</td>\n",
       "      <td>4443</td>\n",
       "      <td>266.0</td>\n",
       "      <td>0.924924</td>\n",
       "      <td>68.8</td>\n",
       "      <td>0.924205</td>\n",
       "      <td>138.6</td>\n",
       "      <td>0.923439</td>\n",
       "    </tr>\n",
       "    <tr>\n",
       "      <th>99</th>\n",
       "      <td>yprop.csv</td>\n",
       "      <td>yprop_4_1</td>\n",
       "      <td>MSE/RMSE</td>\n",
       "      <td>8885</td>\n",
       "      <td>251</td>\n",
       "      <td>1336</td>\n",
       "      <td>4442</td>\n",
       "      <td>4443</td>\n",
       "      <td>251.0</td>\n",
       "      <td>0.915840</td>\n",
       "      <td>84.6</td>\n",
       "      <td>0.924978</td>\n",
       "      <td>121.4</td>\n",
       "      <td>0.918469</td>\n",
       "    </tr>\n",
       "    <tr>\n",
       "      <th>67</th>\n",
       "      <td>mtp.csv</td>\n",
       "      <td>mtp</td>\n",
       "      <td>MSE/RMSE</td>\n",
       "      <td>4450</td>\n",
       "      <td>202</td>\n",
       "      <td>800</td>\n",
       "      <td>2225</td>\n",
       "      <td>2225</td>\n",
       "      <td>202.0</td>\n",
       "      <td>0.694320</td>\n",
       "      <td>70.2</td>\n",
       "      <td>0.688403</td>\n",
       "      <td>110.4</td>\n",
       "      <td>0.686934</td>\n",
       "    </tr>\n",
       "    <tr>\n",
       "      <th>58</th>\n",
       "      <td>kings.csv</td>\n",
       "      <td>kings_county</td>\n",
       "      <td>MSE/RMSE</td>\n",
       "      <td>21613</td>\n",
       "      <td>132</td>\n",
       "      <td>4028</td>\n",
       "      <td>10806</td>\n",
       "      <td>10807</td>\n",
       "      <td>132.0</td>\n",
       "      <td>0.356660</td>\n",
       "      <td>97.0</td>\n",
       "      <td>0.374112</td>\n",
       "      <td>79.8</td>\n",
       "      <td>0.370150</td>\n",
       "    </tr>\n",
       "    <tr>\n",
       "      <th>19</th>\n",
       "      <td>SAT11.csv</td>\n",
       "      <td>SAT11-HAND-runtime-regression</td>\n",
       "      <td>MSE/RMSE</td>\n",
       "      <td>4440</td>\n",
       "      <td>130</td>\n",
       "      <td>1945</td>\n",
       "      <td>2220</td>\n",
       "      <td>2220</td>\n",
       "      <td>130.0</td>\n",
       "      <td>0.517730</td>\n",
       "      <td>48.4</td>\n",
       "      <td>0.514349</td>\n",
       "      <td>77.0</td>\n",
       "      <td>0.510731</td>\n",
       "    </tr>\n",
       "    <tr>\n",
       "      <th>86</th>\n",
       "      <td>superconduct.csv</td>\n",
       "      <td>superconduct</td>\n",
       "      <td>MSE/RMSE</td>\n",
       "      <td>21263</td>\n",
       "      <td>81</td>\n",
       "      <td>3007</td>\n",
       "      <td>10631</td>\n",
       "      <td>10632</td>\n",
       "      <td>81.0</td>\n",
       "      <td>0.342878</td>\n",
       "      <td>42.8</td>\n",
       "      <td>0.343731</td>\n",
       "      <td>57.0</td>\n",
       "      <td>0.341291</td>\n",
       "    </tr>\n",
       "    <tr>\n",
       "      <th>29</th>\n",
       "      <td>avocado.csv</td>\n",
       "      <td>avocado_sales</td>\n",
       "      <td>MSE/RMSE</td>\n",
       "      <td>18249</td>\n",
       "      <td>67</td>\n",
       "      <td>259</td>\n",
       "      <td>9124</td>\n",
       "      <td>9125</td>\n",
       "      <td>67.0</td>\n",
       "      <td>0.386954</td>\n",
       "      <td>55.2</td>\n",
       "      <td>0.369856</td>\n",
       "      <td>48.8</td>\n",
       "      <td>0.397194</td>\n",
       "    </tr>\n",
       "    <tr>\n",
       "      <th>14</th>\n",
       "      <td>Kaggle.csv</td>\n",
       "      <td>Kaggle_bike_sharing_demand_challange</td>\n",
       "      <td>MSE/RMSE</td>\n",
       "      <td>10886</td>\n",
       "      <td>47</td>\n",
       "      <td>822</td>\n",
       "      <td>5443</td>\n",
       "      <td>5443</td>\n",
       "      <td>47.0</td>\n",
       "      <td>0.387462</td>\n",
       "      <td>39.8</td>\n",
       "      <td>0.395841</td>\n",
       "      <td>37.4</td>\n",
       "      <td>0.398907</td>\n",
       "    </tr>\n",
       "    <tr>\n",
       "      <th>0</th>\n",
       "      <td>Ailerons.csv</td>\n",
       "      <td>Ailerons</td>\n",
       "      <td>MSE/RMSE</td>\n",
       "      <td>13750</td>\n",
       "      <td>40</td>\n",
       "      <td>35</td>\n",
       "      <td>6875</td>\n",
       "      <td>6875</td>\n",
       "      <td>40.0</td>\n",
       "      <td>0.394334</td>\n",
       "      <td>12.0</td>\n",
       "      <td>0.389376</td>\n",
       "      <td>25.6</td>\n",
       "      <td>0.393468</td>\n",
       "    </tr>\n",
       "    <tr>\n",
       "      <th>25</th>\n",
       "      <td>ailerons.csv</td>\n",
       "      <td>ailerons</td>\n",
       "      <td>MSE/RMSE</td>\n",
       "      <td>13750</td>\n",
       "      <td>40</td>\n",
       "      <td>35</td>\n",
       "      <td>6875</td>\n",
       "      <td>6875</td>\n",
       "      <td>40.0</td>\n",
       "      <td>0.394334</td>\n",
       "      <td>11.8</td>\n",
       "      <td>0.389204</td>\n",
       "      <td>25.6</td>\n",
       "      <td>0.393469</td>\n",
       "    </tr>\n",
       "    <tr>\n",
       "      <th>8</th>\n",
       "      <td>IEEE80211aa.csv</td>\n",
       "      <td>IEEE80211aa-GATS</td>\n",
       "      <td>MSE/RMSE</td>\n",
       "      <td>4046</td>\n",
       "      <td>35</td>\n",
       "      <td>3415</td>\n",
       "      <td>2023</td>\n",
       "      <td>2023</td>\n",
       "      <td>35.0</td>\n",
       "      <td>0.108215</td>\n",
       "      <td>13.2</td>\n",
       "      <td>0.076831</td>\n",
       "      <td>20.8</td>\n",
       "      <td>0.090153</td>\n",
       "    </tr>\n",
       "    <tr>\n",
       "      <th>77</th>\n",
       "      <td>puma32H.csv</td>\n",
       "      <td>puma32H</td>\n",
       "      <td>MSE/RMSE</td>\n",
       "      <td>8192</td>\n",
       "      <td>32</td>\n",
       "      <td>7861</td>\n",
       "      <td>4096</td>\n",
       "      <td>4096</td>\n",
       "      <td>32.0</td>\n",
       "      <td>0.856018</td>\n",
       "      <td>5.0</td>\n",
       "      <td>0.192057</td>\n",
       "      <td>11.0</td>\n",
       "      <td>0.246543</td>\n",
       "    </tr>\n",
       "    <tr>\n",
       "      <th>13</th>\n",
       "      <td>Job.csv</td>\n",
       "      <td>Job_Profitability</td>\n",
       "      <td>MSE/RMSE</td>\n",
       "      <td>14480</td>\n",
       "      <td>32</td>\n",
       "      <td>7275</td>\n",
       "      <td>7240</td>\n",
       "      <td>7240</td>\n",
       "      <td>32.0</td>\n",
       "      <td>0.748188</td>\n",
       "      <td>16.8</td>\n",
       "      <td>0.788845</td>\n",
       "      <td>21.8</td>\n",
       "      <td>0.752830</td>\n",
       "    </tr>\n",
       "    <tr>\n",
       "      <th>30</th>\n",
       "      <td>bank32nh.csv</td>\n",
       "      <td>bank32nh</td>\n",
       "      <td>MSE/RMSE</td>\n",
       "      <td>8192</td>\n",
       "      <td>32</td>\n",
       "      <td>6284</td>\n",
       "      <td>4096</td>\n",
       "      <td>4096</td>\n",
       "      <td>32.0</td>\n",
       "      <td>0.663218</td>\n",
       "      <td>22.4</td>\n",
       "      <td>0.665681</td>\n",
       "      <td>22.4</td>\n",
       "      <td>0.664354</td>\n",
       "    </tr>\n",
       "    <tr>\n",
       "      <th>44</th>\n",
       "      <td>elevators.csv</td>\n",
       "      <td>elevators</td>\n",
       "      <td>MSE/RMSE</td>\n",
       "      <td>16599</td>\n",
       "      <td>18</td>\n",
       "      <td>61</td>\n",
       "      <td>8299</td>\n",
       "      <td>8300</td>\n",
       "      <td>18.0</td>\n",
       "      <td>0.314609</td>\n",
       "      <td>10.0</td>\n",
       "      <td>0.302816</td>\n",
       "      <td>13.0</td>\n",
       "      <td>0.304883</td>\n",
       "    </tr>\n",
       "    <tr>\n",
       "      <th>17</th>\n",
       "      <td>MiamiHousing2016.csv</td>\n",
       "      <td>MiamiHousing2016</td>\n",
       "      <td>MSE/RMSE</td>\n",
       "      <td>13932</td>\n",
       "      <td>16</td>\n",
       "      <td>2111</td>\n",
       "      <td>6966</td>\n",
       "      <td>6966</td>\n",
       "      <td>16.0</td>\n",
       "      <td>0.309769</td>\n",
       "      <td>13.4</td>\n",
       "      <td>0.296638</td>\n",
       "      <td>13.8</td>\n",
       "      <td>0.295551</td>\n",
       "    </tr>\n",
       "    <tr>\n",
       "      <th>52</th>\n",
       "      <td>house.csv</td>\n",
       "      <td>house_16H</td>\n",
       "      <td>MSE/RMSE</td>\n",
       "      <td>22784</td>\n",
       "      <td>16</td>\n",
       "      <td>2045</td>\n",
       "      <td>11392</td>\n",
       "      <td>11392</td>\n",
       "      <td>16.0</td>\n",
       "      <td>0.649235</td>\n",
       "      <td>13.0</td>\n",
       "      <td>0.660208</td>\n",
       "      <td>14.0</td>\n",
       "      <td>0.654467</td>\n",
       "    </tr>\n",
       "    <tr>\n",
       "      <th>65</th>\n",
       "      <td>miami.csv</td>\n",
       "      <td>miami_housing</td>\n",
       "      <td>MSE/RMSE</td>\n",
       "      <td>13932</td>\n",
       "      <td>15</td>\n",
       "      <td>2111</td>\n",
       "      <td>6966</td>\n",
       "      <td>6966</td>\n",
       "      <td>15.0</td>\n",
       "      <td>0.316016</td>\n",
       "      <td>12.6</td>\n",
       "      <td>0.301306</td>\n",
       "      <td>13.0</td>\n",
       "      <td>0.299542</td>\n",
       "    </tr>\n",
       "    <tr>\n",
       "      <th>70</th>\n",
       "      <td>naval.csv</td>\n",
       "      <td>naval_propulsion_plant</td>\n",
       "      <td>MSE/RMSE</td>\n",
       "      <td>11934</td>\n",
       "      <td>14</td>\n",
       "      <td>51</td>\n",
       "      <td>5967</td>\n",
       "      <td>5967</td>\n",
       "      <td>14.0</td>\n",
       "      <td>0.001479</td>\n",
       "      <td>5.2</td>\n",
       "      <td>0.001175</td>\n",
       "      <td>8.2</td>\n",
       "      <td>0.001124</td>\n",
       "    </tr>\n",
       "    <tr>\n",
       "      <th>49</th>\n",
       "      <td>grid.csv</td>\n",
       "      <td>grid_stability</td>\n",
       "      <td>MSE/RMSE</td>\n",
       "      <td>10000</td>\n",
       "      <td>12</td>\n",
       "      <td>10000</td>\n",
       "      <td>5000</td>\n",
       "      <td>5000</td>\n",
       "      <td>12.0</td>\n",
       "      <td>0.211454</td>\n",
       "      <td>8.0</td>\n",
       "      <td>0.174695</td>\n",
       "      <td>8.0</td>\n",
       "      <td>0.174559</td>\n",
       "    </tr>\n",
       "    <tr>\n",
       "      <th>46</th>\n",
       "      <td>fifa.csv</td>\n",
       "      <td>fifa</td>\n",
       "      <td>MSE/RMSE</td>\n",
       "      <td>18063</td>\n",
       "      <td>5</td>\n",
       "      <td>133</td>\n",
       "      <td>9031</td>\n",
       "      <td>9032</td>\n",
       "      <td>5.0</td>\n",
       "      <td>0.602698</td>\n",
       "      <td>2.2</td>\n",
       "      <td>0.585835</td>\n",
       "      <td>3.0</td>\n",
       "      <td>0.592891</td>\n",
       "    </tr>\n",
       "  </tbody>\n",
       "</table>\n",
       "</div>"
      ],
      "text/plain": [
       "               name_file                               name_db score_type  \\\n",
       "27              ames.csv                          ames_housing   MSE/RMSE   \n",
       "91              topo.csv                              topo_2_1   MSE/RMSE   \n",
       "99             yprop.csv                             yprop_4_1   MSE/RMSE   \n",
       "67               mtp.csv                                   mtp   MSE/RMSE   \n",
       "58             kings.csv                          kings_county   MSE/RMSE   \n",
       "19             SAT11.csv         SAT11-HAND-runtime-regression   MSE/RMSE   \n",
       "86      superconduct.csv                          superconduct   MSE/RMSE   \n",
       "29           avocado.csv                         avocado_sales   MSE/RMSE   \n",
       "14            Kaggle.csv  Kaggle_bike_sharing_demand_challange   MSE/RMSE   \n",
       "0           Ailerons.csv                              Ailerons   MSE/RMSE   \n",
       "25          ailerons.csv                              ailerons   MSE/RMSE   \n",
       "8        IEEE80211aa.csv                      IEEE80211aa-GATS   MSE/RMSE   \n",
       "77           puma32H.csv                               puma32H   MSE/RMSE   \n",
       "13               Job.csv                     Job_Profitability   MSE/RMSE   \n",
       "30          bank32nh.csv                              bank32nh   MSE/RMSE   \n",
       "44         elevators.csv                             elevators   MSE/RMSE   \n",
       "17  MiamiHousing2016.csv                      MiamiHousing2016   MSE/RMSE   \n",
       "52             house.csv                             house_16H   MSE/RMSE   \n",
       "65             miami.csv                         miami_housing   MSE/RMSE   \n",
       "70             naval.csv                naval_propulsion_plant   MSE/RMSE   \n",
       "49              grid.csv                        grid_stability   MSE/RMSE   \n",
       "46              fifa.csv                                  fifa   MSE/RMSE   \n",
       "\n",
       "    num_rows  num_cols  num_classes  train_val_size  test_size  bo_NFS  \\\n",
       "27      2930       354         1032            1465       1465   354.0   \n",
       "91      8885       266         1336            4442       4443   266.0   \n",
       "99      8885       251         1336            4442       4443   251.0   \n",
       "67      4450       202          800            2225       2225   202.0   \n",
       "58     21613       132         4028           10806      10807   132.0   \n",
       "19      4440       130         1945            2220       2220   130.0   \n",
       "86     21263        81         3007           10631      10632    81.0   \n",
       "29     18249        67          259            9124       9125    67.0   \n",
       "14     10886        47          822            5443       5443    47.0   \n",
       "0      13750        40           35            6875       6875    40.0   \n",
       "25     13750        40           35            6875       6875    40.0   \n",
       "8       4046        35         3415            2023       2023    35.0   \n",
       "77      8192        32         7861            4096       4096    32.0   \n",
       "13     14480        32         7275            7240       7240    32.0   \n",
       "30      8192        32         6284            4096       4096    32.0   \n",
       "44     16599        18           61            8299       8300    18.0   \n",
       "17     13932        16         2111            6966       6966    16.0   \n",
       "52     22784        16         2045           11392      11392    16.0   \n",
       "65     13932        15         2111            6966       6966    15.0   \n",
       "70     11934        14           51            5967       5967    14.0   \n",
       "49     10000        12        10000            5000       5000    12.0   \n",
       "46     18063         5          133            9031       9032     5.0   \n",
       "\n",
       "    bo_FINAL_SCORE_TST  hyb_NFS  hyb_FINAL_SCORE_TST  ga_NFS  \\\n",
       "27            0.441985    178.8             0.520473   187.0   \n",
       "91            0.924924     68.8             0.924205   138.6   \n",
       "99            0.915840     84.6             0.924978   121.4   \n",
       "67            0.694320     70.2             0.688403   110.4   \n",
       "58            0.356660     97.0             0.374112    79.8   \n",
       "19            0.517730     48.4             0.514349    77.0   \n",
       "86            0.342878     42.8             0.343731    57.0   \n",
       "29            0.386954     55.2             0.369856    48.8   \n",
       "14            0.387462     39.8             0.395841    37.4   \n",
       "0             0.394334     12.0             0.389376    25.6   \n",
       "25            0.394334     11.8             0.389204    25.6   \n",
       "8             0.108215     13.2             0.076831    20.8   \n",
       "77            0.856018      5.0             0.192057    11.0   \n",
       "13            0.748188     16.8             0.788845    21.8   \n",
       "30            0.663218     22.4             0.665681    22.4   \n",
       "44            0.314609     10.0             0.302816    13.0   \n",
       "17            0.309769     13.4             0.296638    13.8   \n",
       "52            0.649235     13.0             0.660208    14.0   \n",
       "65            0.316016     12.6             0.301306    13.0   \n",
       "70            0.001479      5.2             0.001175     8.2   \n",
       "49            0.211454      8.0             0.174695     8.0   \n",
       "46            0.602698      2.2             0.585835     3.0   \n",
       "\n",
       "    ga_FINAL_SCORE_TST  \n",
       "27            0.525417  \n",
       "91            0.923439  \n",
       "99            0.918469  \n",
       "67            0.686934  \n",
       "58            0.370150  \n",
       "19            0.510731  \n",
       "86            0.341291  \n",
       "29            0.397194  \n",
       "14            0.398907  \n",
       "0             0.393468  \n",
       "25            0.393469  \n",
       "8             0.090153  \n",
       "77            0.246543  \n",
       "13            0.752830  \n",
       "30            0.664354  \n",
       "44            0.304883  \n",
       "17            0.295551  \n",
       "52            0.654467  \n",
       "65            0.299542  \n",
       "70            0.001124  \n",
       "49            0.174559  \n",
       "46            0.592891  "
      ]
     },
     "execution_count": 43,
     "metadata": {},
     "output_type": "execute_result"
    }
   ],
   "source": [
    "mat_merge_reduc = mat_merge[['name_file', 'name_db', 'score_type', 'num_rows', 'num_cols', 'num_classes',\n",
    "       'train_val_size', 'test_size', 'bo_NFS', 'bo_FINAL_SCORE_TST', \n",
    "           'hyb_NFS', 'hyb_FINAL_SCORE_TST', \n",
    "           'ga_NFS', 'ga_FINAL_SCORE_TST']].sort_values('bo_NFS', ascending=False)\n",
    "mat_merge_reduc.query('score_type==\"MSE/RMSE\"')"
   ]
  },
  {
   "cell_type": "code",
   "execution_count": 44,
   "id": "b82a7051",
   "metadata": {
    "ExecuteTime": {
     "end_time": "2023-09-18T20:02:26.371433Z",
     "start_time": "2023-09-18T20:02:26.248302Z"
    }
   },
   "outputs": [
    {
     "data": {
      "application/vnd.plotly.v1+json": {
       "config": {
        "plotlyServerURL": "https://plot.ly"
       },
       "data": [
        {
         "hovertemplate": "variable=bo_NFS<br>value=%{r}<br>id_ds=%{theta}<extra></extra>",
         "legendgroup": "bo_NFS",
         "line": {
          "color": "#ab63fa",
          "dash": "solid"
         },
         "marker": {
          "symbol": "circle"
         },
         "mode": "lines",
         "name": "bo_NFS",
         "r": [
          354,
          266,
          251,
          202,
          132,
          130,
          81,
          67,
          47,
          40,
          40,
          35,
          32,
          32,
          32,
          18,
          16,
          16,
          15,
          14,
          12,
          5
         ],
         "showlegend": true,
         "subplot": "polar",
         "theta": [
          "V0",
          "V1",
          "V2",
          "V3",
          "V4",
          "V5",
          "V6",
          "V7",
          "V8",
          "V9",
          "V10",
          "V11",
          "V12",
          "V13",
          "V14",
          "V15",
          "V16",
          "V17",
          "V18",
          "V19",
          "V20",
          "V21"
         ],
         "type": "scatterpolar"
        },
        {
         "hovertemplate": "variable=ga_NFS<br>value=%{r}<br>id_ds=%{theta}<extra></extra>",
         "legendgroup": "ga_NFS",
         "line": {
          "color": "#FFA15A",
          "dash": "solid"
         },
         "marker": {
          "symbol": "circle"
         },
         "mode": "lines",
         "name": "ga_NFS",
         "r": [
          187,
          138.6,
          121.4,
          110.4,
          79.8,
          77,
          57,
          48.8,
          37.4,
          25.6,
          25.6,
          20.8,
          22.4,
          11,
          21.8,
          13,
          14,
          13.8,
          13,
          8.2,
          8,
          3
         ],
         "showlegend": true,
         "subplot": "polar",
         "theta": [
          "V0",
          "V1",
          "V2",
          "V3",
          "V4",
          "V5",
          "V6",
          "V7",
          "V8",
          "V9",
          "V10",
          "V11",
          "V12",
          "V13",
          "V14",
          "V15",
          "V16",
          "V17",
          "V18",
          "V19",
          "V20",
          "V21"
         ],
         "type": "scatterpolar"
        },
        {
         "hovertemplate": "variable=hyb_NFS<br>value=%{r}<br>id_ds=%{theta}<extra></extra>",
         "legendgroup": "hyb_NFS",
         "line": {
          "color": "#19d3f3",
          "dash": "solid"
         },
         "marker": {
          "symbol": "circle"
         },
         "mode": "lines",
         "name": "hyb_NFS",
         "r": [
          178.8,
          68.8,
          84.6,
          70.2,
          97,
          48.4,
          42.8,
          55.2,
          39.8,
          12,
          11.8,
          13.2,
          22.4,
          5,
          16.8,
          10,
          13,
          13.4,
          12.6,
          5.2,
          8,
          2.2
         ],
         "showlegend": true,
         "subplot": "polar",
         "theta": [
          "V0",
          "V1",
          "V2",
          "V3",
          "V4",
          "V5",
          "V6",
          "V7",
          "V8",
          "V9",
          "V10",
          "V11",
          "V12",
          "V13",
          "V14",
          "V15",
          "V16",
          "V17",
          "V18",
          "V19",
          "V20",
          "V21"
         ],
         "type": "scatterpolar"
        }
       ],
       "layout": {
        "height": 800,
        "legend": {
         "title": {
          "text": "variable"
         },
         "tracegroupgap": 0
        },
        "polar": {
         "angularaxis": {
          "direction": "clockwise",
          "rotation": 90
         },
         "domain": {
          "x": [
           0,
           1
          ],
          "y": [
           0,
           1
          ]
         }
        },
        "template": {
         "data": {
          "bar": [
           {
            "error_x": {
             "color": "#2a3f5f"
            },
            "error_y": {
             "color": "#2a3f5f"
            },
            "marker": {
             "line": {
              "color": "#E5ECF6",
              "width": 0.5
             },
             "pattern": {
              "fillmode": "overlay",
              "size": 10,
              "solidity": 0.2
             }
            },
            "type": "bar"
           }
          ],
          "barpolar": [
           {
            "marker": {
             "line": {
              "color": "#E5ECF6",
              "width": 0.5
             },
             "pattern": {
              "fillmode": "overlay",
              "size": 10,
              "solidity": 0.2
             }
            },
            "type": "barpolar"
           }
          ],
          "carpet": [
           {
            "aaxis": {
             "endlinecolor": "#2a3f5f",
             "gridcolor": "white",
             "linecolor": "white",
             "minorgridcolor": "white",
             "startlinecolor": "#2a3f5f"
            },
            "baxis": {
             "endlinecolor": "#2a3f5f",
             "gridcolor": "white",
             "linecolor": "white",
             "minorgridcolor": "white",
             "startlinecolor": "#2a3f5f"
            },
            "type": "carpet"
           }
          ],
          "choropleth": [
           {
            "colorbar": {
             "outlinewidth": 0,
             "ticks": ""
            },
            "type": "choropleth"
           }
          ],
          "contour": [
           {
            "colorbar": {
             "outlinewidth": 0,
             "ticks": ""
            },
            "colorscale": [
             [
              0,
              "#0d0887"
             ],
             [
              0.1111111111111111,
              "#46039f"
             ],
             [
              0.2222222222222222,
              "#7201a8"
             ],
             [
              0.3333333333333333,
              "#9c179e"
             ],
             [
              0.4444444444444444,
              "#bd3786"
             ],
             [
              0.5555555555555556,
              "#d8576b"
             ],
             [
              0.6666666666666666,
              "#ed7953"
             ],
             [
              0.7777777777777778,
              "#fb9f3a"
             ],
             [
              0.8888888888888888,
              "#fdca26"
             ],
             [
              1,
              "#f0f921"
             ]
            ],
            "type": "contour"
           }
          ],
          "contourcarpet": [
           {
            "colorbar": {
             "outlinewidth": 0,
             "ticks": ""
            },
            "type": "contourcarpet"
           }
          ],
          "heatmap": [
           {
            "colorbar": {
             "outlinewidth": 0,
             "ticks": ""
            },
            "colorscale": [
             [
              0,
              "#0d0887"
             ],
             [
              0.1111111111111111,
              "#46039f"
             ],
             [
              0.2222222222222222,
              "#7201a8"
             ],
             [
              0.3333333333333333,
              "#9c179e"
             ],
             [
              0.4444444444444444,
              "#bd3786"
             ],
             [
              0.5555555555555556,
              "#d8576b"
             ],
             [
              0.6666666666666666,
              "#ed7953"
             ],
             [
              0.7777777777777778,
              "#fb9f3a"
             ],
             [
              0.8888888888888888,
              "#fdca26"
             ],
             [
              1,
              "#f0f921"
             ]
            ],
            "type": "heatmap"
           }
          ],
          "heatmapgl": [
           {
            "colorbar": {
             "outlinewidth": 0,
             "ticks": ""
            },
            "colorscale": [
             [
              0,
              "#0d0887"
             ],
             [
              0.1111111111111111,
              "#46039f"
             ],
             [
              0.2222222222222222,
              "#7201a8"
             ],
             [
              0.3333333333333333,
              "#9c179e"
             ],
             [
              0.4444444444444444,
              "#bd3786"
             ],
             [
              0.5555555555555556,
              "#d8576b"
             ],
             [
              0.6666666666666666,
              "#ed7953"
             ],
             [
              0.7777777777777778,
              "#fb9f3a"
             ],
             [
              0.8888888888888888,
              "#fdca26"
             ],
             [
              1,
              "#f0f921"
             ]
            ],
            "type": "heatmapgl"
           }
          ],
          "histogram": [
           {
            "marker": {
             "pattern": {
              "fillmode": "overlay",
              "size": 10,
              "solidity": 0.2
             }
            },
            "type": "histogram"
           }
          ],
          "histogram2d": [
           {
            "colorbar": {
             "outlinewidth": 0,
             "ticks": ""
            },
            "colorscale": [
             [
              0,
              "#0d0887"
             ],
             [
              0.1111111111111111,
              "#46039f"
             ],
             [
              0.2222222222222222,
              "#7201a8"
             ],
             [
              0.3333333333333333,
              "#9c179e"
             ],
             [
              0.4444444444444444,
              "#bd3786"
             ],
             [
              0.5555555555555556,
              "#d8576b"
             ],
             [
              0.6666666666666666,
              "#ed7953"
             ],
             [
              0.7777777777777778,
              "#fb9f3a"
             ],
             [
              0.8888888888888888,
              "#fdca26"
             ],
             [
              1,
              "#f0f921"
             ]
            ],
            "type": "histogram2d"
           }
          ],
          "histogram2dcontour": [
           {
            "colorbar": {
             "outlinewidth": 0,
             "ticks": ""
            },
            "colorscale": [
             [
              0,
              "#0d0887"
             ],
             [
              0.1111111111111111,
              "#46039f"
             ],
             [
              0.2222222222222222,
              "#7201a8"
             ],
             [
              0.3333333333333333,
              "#9c179e"
             ],
             [
              0.4444444444444444,
              "#bd3786"
             ],
             [
              0.5555555555555556,
              "#d8576b"
             ],
             [
              0.6666666666666666,
              "#ed7953"
             ],
             [
              0.7777777777777778,
              "#fb9f3a"
             ],
             [
              0.8888888888888888,
              "#fdca26"
             ],
             [
              1,
              "#f0f921"
             ]
            ],
            "type": "histogram2dcontour"
           }
          ],
          "mesh3d": [
           {
            "colorbar": {
             "outlinewidth": 0,
             "ticks": ""
            },
            "type": "mesh3d"
           }
          ],
          "parcoords": [
           {
            "line": {
             "colorbar": {
              "outlinewidth": 0,
              "ticks": ""
             }
            },
            "type": "parcoords"
           }
          ],
          "pie": [
           {
            "automargin": true,
            "type": "pie"
           }
          ],
          "scatter": [
           {
            "fillpattern": {
             "fillmode": "overlay",
             "size": 10,
             "solidity": 0.2
            },
            "type": "scatter"
           }
          ],
          "scatter3d": [
           {
            "line": {
             "colorbar": {
              "outlinewidth": 0,
              "ticks": ""
             }
            },
            "marker": {
             "colorbar": {
              "outlinewidth": 0,
              "ticks": ""
             }
            },
            "type": "scatter3d"
           }
          ],
          "scattercarpet": [
           {
            "marker": {
             "colorbar": {
              "outlinewidth": 0,
              "ticks": ""
             }
            },
            "type": "scattercarpet"
           }
          ],
          "scattergeo": [
           {
            "marker": {
             "colorbar": {
              "outlinewidth": 0,
              "ticks": ""
             }
            },
            "type": "scattergeo"
           }
          ],
          "scattergl": [
           {
            "marker": {
             "colorbar": {
              "outlinewidth": 0,
              "ticks": ""
             }
            },
            "type": "scattergl"
           }
          ],
          "scattermapbox": [
           {
            "marker": {
             "colorbar": {
              "outlinewidth": 0,
              "ticks": ""
             }
            },
            "type": "scattermapbox"
           }
          ],
          "scatterpolar": [
           {
            "marker": {
             "colorbar": {
              "outlinewidth": 0,
              "ticks": ""
             }
            },
            "type": "scatterpolar"
           }
          ],
          "scatterpolargl": [
           {
            "marker": {
             "colorbar": {
              "outlinewidth": 0,
              "ticks": ""
             }
            },
            "type": "scatterpolargl"
           }
          ],
          "scatterternary": [
           {
            "marker": {
             "colorbar": {
              "outlinewidth": 0,
              "ticks": ""
             }
            },
            "type": "scatterternary"
           }
          ],
          "surface": [
           {
            "colorbar": {
             "outlinewidth": 0,
             "ticks": ""
            },
            "colorscale": [
             [
              0,
              "#0d0887"
             ],
             [
              0.1111111111111111,
              "#46039f"
             ],
             [
              0.2222222222222222,
              "#7201a8"
             ],
             [
              0.3333333333333333,
              "#9c179e"
             ],
             [
              0.4444444444444444,
              "#bd3786"
             ],
             [
              0.5555555555555556,
              "#d8576b"
             ],
             [
              0.6666666666666666,
              "#ed7953"
             ],
             [
              0.7777777777777778,
              "#fb9f3a"
             ],
             [
              0.8888888888888888,
              "#fdca26"
             ],
             [
              1,
              "#f0f921"
             ]
            ],
            "type": "surface"
           }
          ],
          "table": [
           {
            "cells": {
             "fill": {
              "color": "#EBF0F8"
             },
             "line": {
              "color": "white"
             }
            },
            "header": {
             "fill": {
              "color": "#C8D4E3"
             },
             "line": {
              "color": "white"
             }
            },
            "type": "table"
           }
          ]
         },
         "layout": {
          "annotationdefaults": {
           "arrowcolor": "#2a3f5f",
           "arrowhead": 0,
           "arrowwidth": 1
          },
          "autotypenumbers": "strict",
          "coloraxis": {
           "colorbar": {
            "outlinewidth": 0,
            "ticks": ""
           }
          },
          "colorscale": {
           "diverging": [
            [
             0,
             "#8e0152"
            ],
            [
             0.1,
             "#c51b7d"
            ],
            [
             0.2,
             "#de77ae"
            ],
            [
             0.3,
             "#f1b6da"
            ],
            [
             0.4,
             "#fde0ef"
            ],
            [
             0.5,
             "#f7f7f7"
            ],
            [
             0.6,
             "#e6f5d0"
            ],
            [
             0.7,
             "#b8e186"
            ],
            [
             0.8,
             "#7fbc41"
            ],
            [
             0.9,
             "#4d9221"
            ],
            [
             1,
             "#276419"
            ]
           ],
           "sequential": [
            [
             0,
             "#0d0887"
            ],
            [
             0.1111111111111111,
             "#46039f"
            ],
            [
             0.2222222222222222,
             "#7201a8"
            ],
            [
             0.3333333333333333,
             "#9c179e"
            ],
            [
             0.4444444444444444,
             "#bd3786"
            ],
            [
             0.5555555555555556,
             "#d8576b"
            ],
            [
             0.6666666666666666,
             "#ed7953"
            ],
            [
             0.7777777777777778,
             "#fb9f3a"
            ],
            [
             0.8888888888888888,
             "#fdca26"
            ],
            [
             1,
             "#f0f921"
            ]
           ],
           "sequentialminus": [
            [
             0,
             "#0d0887"
            ],
            [
             0.1111111111111111,
             "#46039f"
            ],
            [
             0.2222222222222222,
             "#7201a8"
            ],
            [
             0.3333333333333333,
             "#9c179e"
            ],
            [
             0.4444444444444444,
             "#bd3786"
            ],
            [
             0.5555555555555556,
             "#d8576b"
            ],
            [
             0.6666666666666666,
             "#ed7953"
            ],
            [
             0.7777777777777778,
             "#fb9f3a"
            ],
            [
             0.8888888888888888,
             "#fdca26"
            ],
            [
             1,
             "#f0f921"
            ]
           ]
          },
          "colorway": [
           "#636efa",
           "#EF553B",
           "#00cc96",
           "#ab63fa",
           "#FFA15A",
           "#19d3f3",
           "#FF6692",
           "#B6E880",
           "#FF97FF",
           "#FECB52"
          ],
          "font": {
           "color": "#2a3f5f"
          },
          "geo": {
           "bgcolor": "white",
           "lakecolor": "white",
           "landcolor": "#E5ECF6",
           "showlakes": true,
           "showland": true,
           "subunitcolor": "white"
          },
          "hoverlabel": {
           "align": "left"
          },
          "hovermode": "closest",
          "mapbox": {
           "style": "light"
          },
          "paper_bgcolor": "white",
          "plot_bgcolor": "#E5ECF6",
          "polar": {
           "angularaxis": {
            "gridcolor": "white",
            "linecolor": "white",
            "ticks": ""
           },
           "bgcolor": "#E5ECF6",
           "radialaxis": {
            "gridcolor": "white",
            "linecolor": "white",
            "ticks": ""
           }
          },
          "scene": {
           "xaxis": {
            "backgroundcolor": "#E5ECF6",
            "gridcolor": "white",
            "gridwidth": 2,
            "linecolor": "white",
            "showbackground": true,
            "ticks": "",
            "zerolinecolor": "white"
           },
           "yaxis": {
            "backgroundcolor": "#E5ECF6",
            "gridcolor": "white",
            "gridwidth": 2,
            "linecolor": "white",
            "showbackground": true,
            "ticks": "",
            "zerolinecolor": "white"
           },
           "zaxis": {
            "backgroundcolor": "#E5ECF6",
            "gridcolor": "white",
            "gridwidth": 2,
            "linecolor": "white",
            "showbackground": true,
            "ticks": "",
            "zerolinecolor": "white"
           }
          },
          "shapedefaults": {
           "line": {
            "color": "#2a3f5f"
           }
          },
          "ternary": {
           "aaxis": {
            "gridcolor": "white",
            "linecolor": "white",
            "ticks": ""
           },
           "baxis": {
            "gridcolor": "white",
            "linecolor": "white",
            "ticks": ""
           },
           "bgcolor": "#E5ECF6",
           "caxis": {
            "gridcolor": "white",
            "linecolor": "white",
            "ticks": ""
           }
          },
          "title": {
           "x": 0.05
          },
          "xaxis": {
           "automargin": true,
           "gridcolor": "white",
           "linecolor": "white",
           "ticks": "",
           "title": {
            "standoff": 15
           },
           "zerolinecolor": "white",
           "zerolinewidth": 2
          },
          "yaxis": {
           "automargin": true,
           "gridcolor": "white",
           "linecolor": "white",
           "ticks": "",
           "title": {
            "standoff": 15
           },
           "zerolinecolor": "white",
           "zerolinewidth": 2
          }
         }
        },
        "title": {
         "text": "Number of Features Selected (NFS) in Regression Problems"
        },
        "width": 800
       }
      }
     },
     "metadata": {},
     "output_type": "display_data"
    },
    {
     "data": {
      "application/vnd.plotly.v1+json": {
       "config": {
        "plotlyServerURL": "https://plot.ly"
       },
       "data": [
        {
         "hovertemplate": "variable=bo_FINAL_SCORE_TST<br>value=%{r}<br>id_ds=%{theta}<extra></extra>",
         "legendgroup": "bo_FINAL_SCORE_TST",
         "line": {
          "color": "#ab63fa",
          "dash": "solid"
         },
         "marker": {
          "symbol": "circle"
         },
         "mode": "lines",
         "name": "bo_FINAL_SCORE_TST",
         "r": [
          0.441985,
          0.9249242000000001,
          0.9158396,
          0.6943204,
          0.3566596,
          0.5177296,
          0.3428782,
          0.38695440000000003,
          0.3874616,
          0.3943338,
          0.3943338,
          0.10821499999999999,
          0.663218,
          0.8560176,
          0.7481876,
          0.31460940000000004,
          0.6492352,
          0.30976919999999997,
          0.31601619999999997,
          0.0014792,
          0.2114544,
          0.6026978
         ],
         "showlegend": true,
         "subplot": "polar",
         "theta": [
          "V0",
          "V1",
          "V2",
          "V3",
          "V4",
          "V5",
          "V6",
          "V7",
          "V8",
          "V9",
          "V10",
          "V11",
          "V12",
          "V13",
          "V14",
          "V15",
          "V16",
          "V17",
          "V18",
          "V19",
          "V20",
          "V21"
         ],
         "type": "scatterpolar"
        },
        {
         "hovertemplate": "variable=ga_FINAL_SCORE_TST<br>value=%{r}<br>id_ds=%{theta}<extra></extra>",
         "legendgroup": "ga_FINAL_SCORE_TST",
         "line": {
          "color": "#FFA15A",
          "dash": "solid"
         },
         "marker": {
          "symbol": "circle"
         },
         "mode": "lines",
         "name": "ga_FINAL_SCORE_TST",
         "r": [
          0.525417,
          0.9234394,
          0.9184694,
          0.6869338,
          0.3701498,
          0.5107307999999999,
          0.3412912,
          0.3971938,
          0.3989068,
          0.3934682,
          0.3934692,
          0.0901532,
          0.6643544,
          0.2465426,
          0.75283,
          0.30488299999999996,
          0.6544674,
          0.295551,
          0.29954179999999997,
          0.001124,
          0.1745594,
          0.5928910000000001
         ],
         "showlegend": true,
         "subplot": "polar",
         "theta": [
          "V0",
          "V1",
          "V2",
          "V3",
          "V4",
          "V5",
          "V6",
          "V7",
          "V8",
          "V9",
          "V10",
          "V11",
          "V12",
          "V13",
          "V14",
          "V15",
          "V16",
          "V17",
          "V18",
          "V19",
          "V20",
          "V21"
         ],
         "type": "scatterpolar"
        },
        {
         "hovertemplate": "variable=hyb_FINAL_SCORE_TST<br>value=%{r}<br>id_ds=%{theta}<extra></extra>",
         "legendgroup": "hyb_FINAL_SCORE_TST",
         "line": {
          "color": "#19d3f3",
          "dash": "solid"
         },
         "marker": {
          "symbol": "circle"
         },
         "mode": "lines",
         "name": "hyb_FINAL_SCORE_TST",
         "r": [
          0.520473,
          0.9242054,
          0.9249778000000001,
          0.6884034,
          0.3741124,
          0.5143487999999999,
          0.34373139999999996,
          0.3698556,
          0.3958408,
          0.3893762,
          0.3892036,
          0.0768312,
          0.665681,
          0.192057,
          0.7888454,
          0.3028156,
          0.6602078,
          0.2966384,
          0.3013058,
          0.001175,
          0.174695,
          0.5858348
         ],
         "showlegend": true,
         "subplot": "polar",
         "theta": [
          "V0",
          "V1",
          "V2",
          "V3",
          "V4",
          "V5",
          "V6",
          "V7",
          "V8",
          "V9",
          "V10",
          "V11",
          "V12",
          "V13",
          "V14",
          "V15",
          "V16",
          "V17",
          "V18",
          "V19",
          "V20",
          "V21"
         ],
         "type": "scatterpolar"
        }
       ],
       "layout": {
        "height": 800,
        "legend": {
         "title": {
          "text": "variable"
         },
         "tracegroupgap": 0
        },
        "polar": {
         "angularaxis": {
          "direction": "clockwise",
          "rotation": 90
         },
         "domain": {
          "x": [
           0,
           1
          ],
          "y": [
           0,
           1
          ]
         }
        },
        "template": {
         "data": {
          "bar": [
           {
            "error_x": {
             "color": "#2a3f5f"
            },
            "error_y": {
             "color": "#2a3f5f"
            },
            "marker": {
             "line": {
              "color": "#E5ECF6",
              "width": 0.5
             },
             "pattern": {
              "fillmode": "overlay",
              "size": 10,
              "solidity": 0.2
             }
            },
            "type": "bar"
           }
          ],
          "barpolar": [
           {
            "marker": {
             "line": {
              "color": "#E5ECF6",
              "width": 0.5
             },
             "pattern": {
              "fillmode": "overlay",
              "size": 10,
              "solidity": 0.2
             }
            },
            "type": "barpolar"
           }
          ],
          "carpet": [
           {
            "aaxis": {
             "endlinecolor": "#2a3f5f",
             "gridcolor": "white",
             "linecolor": "white",
             "minorgridcolor": "white",
             "startlinecolor": "#2a3f5f"
            },
            "baxis": {
             "endlinecolor": "#2a3f5f",
             "gridcolor": "white",
             "linecolor": "white",
             "minorgridcolor": "white",
             "startlinecolor": "#2a3f5f"
            },
            "type": "carpet"
           }
          ],
          "choropleth": [
           {
            "colorbar": {
             "outlinewidth": 0,
             "ticks": ""
            },
            "type": "choropleth"
           }
          ],
          "contour": [
           {
            "colorbar": {
             "outlinewidth": 0,
             "ticks": ""
            },
            "colorscale": [
             [
              0,
              "#0d0887"
             ],
             [
              0.1111111111111111,
              "#46039f"
             ],
             [
              0.2222222222222222,
              "#7201a8"
             ],
             [
              0.3333333333333333,
              "#9c179e"
             ],
             [
              0.4444444444444444,
              "#bd3786"
             ],
             [
              0.5555555555555556,
              "#d8576b"
             ],
             [
              0.6666666666666666,
              "#ed7953"
             ],
             [
              0.7777777777777778,
              "#fb9f3a"
             ],
             [
              0.8888888888888888,
              "#fdca26"
             ],
             [
              1,
              "#f0f921"
             ]
            ],
            "type": "contour"
           }
          ],
          "contourcarpet": [
           {
            "colorbar": {
             "outlinewidth": 0,
             "ticks": ""
            },
            "type": "contourcarpet"
           }
          ],
          "heatmap": [
           {
            "colorbar": {
             "outlinewidth": 0,
             "ticks": ""
            },
            "colorscale": [
             [
              0,
              "#0d0887"
             ],
             [
              0.1111111111111111,
              "#46039f"
             ],
             [
              0.2222222222222222,
              "#7201a8"
             ],
             [
              0.3333333333333333,
              "#9c179e"
             ],
             [
              0.4444444444444444,
              "#bd3786"
             ],
             [
              0.5555555555555556,
              "#d8576b"
             ],
             [
              0.6666666666666666,
              "#ed7953"
             ],
             [
              0.7777777777777778,
              "#fb9f3a"
             ],
             [
              0.8888888888888888,
              "#fdca26"
             ],
             [
              1,
              "#f0f921"
             ]
            ],
            "type": "heatmap"
           }
          ],
          "heatmapgl": [
           {
            "colorbar": {
             "outlinewidth": 0,
             "ticks": ""
            },
            "colorscale": [
             [
              0,
              "#0d0887"
             ],
             [
              0.1111111111111111,
              "#46039f"
             ],
             [
              0.2222222222222222,
              "#7201a8"
             ],
             [
              0.3333333333333333,
              "#9c179e"
             ],
             [
              0.4444444444444444,
              "#bd3786"
             ],
             [
              0.5555555555555556,
              "#d8576b"
             ],
             [
              0.6666666666666666,
              "#ed7953"
             ],
             [
              0.7777777777777778,
              "#fb9f3a"
             ],
             [
              0.8888888888888888,
              "#fdca26"
             ],
             [
              1,
              "#f0f921"
             ]
            ],
            "type": "heatmapgl"
           }
          ],
          "histogram": [
           {
            "marker": {
             "pattern": {
              "fillmode": "overlay",
              "size": 10,
              "solidity": 0.2
             }
            },
            "type": "histogram"
           }
          ],
          "histogram2d": [
           {
            "colorbar": {
             "outlinewidth": 0,
             "ticks": ""
            },
            "colorscale": [
             [
              0,
              "#0d0887"
             ],
             [
              0.1111111111111111,
              "#46039f"
             ],
             [
              0.2222222222222222,
              "#7201a8"
             ],
             [
              0.3333333333333333,
              "#9c179e"
             ],
             [
              0.4444444444444444,
              "#bd3786"
             ],
             [
              0.5555555555555556,
              "#d8576b"
             ],
             [
              0.6666666666666666,
              "#ed7953"
             ],
             [
              0.7777777777777778,
              "#fb9f3a"
             ],
             [
              0.8888888888888888,
              "#fdca26"
             ],
             [
              1,
              "#f0f921"
             ]
            ],
            "type": "histogram2d"
           }
          ],
          "histogram2dcontour": [
           {
            "colorbar": {
             "outlinewidth": 0,
             "ticks": ""
            },
            "colorscale": [
             [
              0,
              "#0d0887"
             ],
             [
              0.1111111111111111,
              "#46039f"
             ],
             [
              0.2222222222222222,
              "#7201a8"
             ],
             [
              0.3333333333333333,
              "#9c179e"
             ],
             [
              0.4444444444444444,
              "#bd3786"
             ],
             [
              0.5555555555555556,
              "#d8576b"
             ],
             [
              0.6666666666666666,
              "#ed7953"
             ],
             [
              0.7777777777777778,
              "#fb9f3a"
             ],
             [
              0.8888888888888888,
              "#fdca26"
             ],
             [
              1,
              "#f0f921"
             ]
            ],
            "type": "histogram2dcontour"
           }
          ],
          "mesh3d": [
           {
            "colorbar": {
             "outlinewidth": 0,
             "ticks": ""
            },
            "type": "mesh3d"
           }
          ],
          "parcoords": [
           {
            "line": {
             "colorbar": {
              "outlinewidth": 0,
              "ticks": ""
             }
            },
            "type": "parcoords"
           }
          ],
          "pie": [
           {
            "automargin": true,
            "type": "pie"
           }
          ],
          "scatter": [
           {
            "fillpattern": {
             "fillmode": "overlay",
             "size": 10,
             "solidity": 0.2
            },
            "type": "scatter"
           }
          ],
          "scatter3d": [
           {
            "line": {
             "colorbar": {
              "outlinewidth": 0,
              "ticks": ""
             }
            },
            "marker": {
             "colorbar": {
              "outlinewidth": 0,
              "ticks": ""
             }
            },
            "type": "scatter3d"
           }
          ],
          "scattercarpet": [
           {
            "marker": {
             "colorbar": {
              "outlinewidth": 0,
              "ticks": ""
             }
            },
            "type": "scattercarpet"
           }
          ],
          "scattergeo": [
           {
            "marker": {
             "colorbar": {
              "outlinewidth": 0,
              "ticks": ""
             }
            },
            "type": "scattergeo"
           }
          ],
          "scattergl": [
           {
            "marker": {
             "colorbar": {
              "outlinewidth": 0,
              "ticks": ""
             }
            },
            "type": "scattergl"
           }
          ],
          "scattermapbox": [
           {
            "marker": {
             "colorbar": {
              "outlinewidth": 0,
              "ticks": ""
             }
            },
            "type": "scattermapbox"
           }
          ],
          "scatterpolar": [
           {
            "marker": {
             "colorbar": {
              "outlinewidth": 0,
              "ticks": ""
             }
            },
            "type": "scatterpolar"
           }
          ],
          "scatterpolargl": [
           {
            "marker": {
             "colorbar": {
              "outlinewidth": 0,
              "ticks": ""
             }
            },
            "type": "scatterpolargl"
           }
          ],
          "scatterternary": [
           {
            "marker": {
             "colorbar": {
              "outlinewidth": 0,
              "ticks": ""
             }
            },
            "type": "scatterternary"
           }
          ],
          "surface": [
           {
            "colorbar": {
             "outlinewidth": 0,
             "ticks": ""
            },
            "colorscale": [
             [
              0,
              "#0d0887"
             ],
             [
              0.1111111111111111,
              "#46039f"
             ],
             [
              0.2222222222222222,
              "#7201a8"
             ],
             [
              0.3333333333333333,
              "#9c179e"
             ],
             [
              0.4444444444444444,
              "#bd3786"
             ],
             [
              0.5555555555555556,
              "#d8576b"
             ],
             [
              0.6666666666666666,
              "#ed7953"
             ],
             [
              0.7777777777777778,
              "#fb9f3a"
             ],
             [
              0.8888888888888888,
              "#fdca26"
             ],
             [
              1,
              "#f0f921"
             ]
            ],
            "type": "surface"
           }
          ],
          "table": [
           {
            "cells": {
             "fill": {
              "color": "#EBF0F8"
             },
             "line": {
              "color": "white"
             }
            },
            "header": {
             "fill": {
              "color": "#C8D4E3"
             },
             "line": {
              "color": "white"
             }
            },
            "type": "table"
           }
          ]
         },
         "layout": {
          "annotationdefaults": {
           "arrowcolor": "#2a3f5f",
           "arrowhead": 0,
           "arrowwidth": 1
          },
          "autotypenumbers": "strict",
          "coloraxis": {
           "colorbar": {
            "outlinewidth": 0,
            "ticks": ""
           }
          },
          "colorscale": {
           "diverging": [
            [
             0,
             "#8e0152"
            ],
            [
             0.1,
             "#c51b7d"
            ],
            [
             0.2,
             "#de77ae"
            ],
            [
             0.3,
             "#f1b6da"
            ],
            [
             0.4,
             "#fde0ef"
            ],
            [
             0.5,
             "#f7f7f7"
            ],
            [
             0.6,
             "#e6f5d0"
            ],
            [
             0.7,
             "#b8e186"
            ],
            [
             0.8,
             "#7fbc41"
            ],
            [
             0.9,
             "#4d9221"
            ],
            [
             1,
             "#276419"
            ]
           ],
           "sequential": [
            [
             0,
             "#0d0887"
            ],
            [
             0.1111111111111111,
             "#46039f"
            ],
            [
             0.2222222222222222,
             "#7201a8"
            ],
            [
             0.3333333333333333,
             "#9c179e"
            ],
            [
             0.4444444444444444,
             "#bd3786"
            ],
            [
             0.5555555555555556,
             "#d8576b"
            ],
            [
             0.6666666666666666,
             "#ed7953"
            ],
            [
             0.7777777777777778,
             "#fb9f3a"
            ],
            [
             0.8888888888888888,
             "#fdca26"
            ],
            [
             1,
             "#f0f921"
            ]
           ],
           "sequentialminus": [
            [
             0,
             "#0d0887"
            ],
            [
             0.1111111111111111,
             "#46039f"
            ],
            [
             0.2222222222222222,
             "#7201a8"
            ],
            [
             0.3333333333333333,
             "#9c179e"
            ],
            [
             0.4444444444444444,
             "#bd3786"
            ],
            [
             0.5555555555555556,
             "#d8576b"
            ],
            [
             0.6666666666666666,
             "#ed7953"
            ],
            [
             0.7777777777777778,
             "#fb9f3a"
            ],
            [
             0.8888888888888888,
             "#fdca26"
            ],
            [
             1,
             "#f0f921"
            ]
           ]
          },
          "colorway": [
           "#636efa",
           "#EF553B",
           "#00cc96",
           "#ab63fa",
           "#FFA15A",
           "#19d3f3",
           "#FF6692",
           "#B6E880",
           "#FF97FF",
           "#FECB52"
          ],
          "font": {
           "color": "#2a3f5f"
          },
          "geo": {
           "bgcolor": "white",
           "lakecolor": "white",
           "landcolor": "#E5ECF6",
           "showlakes": true,
           "showland": true,
           "subunitcolor": "white"
          },
          "hoverlabel": {
           "align": "left"
          },
          "hovermode": "closest",
          "mapbox": {
           "style": "light"
          },
          "paper_bgcolor": "white",
          "plot_bgcolor": "#E5ECF6",
          "polar": {
           "angularaxis": {
            "gridcolor": "white",
            "linecolor": "white",
            "ticks": ""
           },
           "bgcolor": "#E5ECF6",
           "radialaxis": {
            "gridcolor": "white",
            "linecolor": "white",
            "ticks": ""
           }
          },
          "scene": {
           "xaxis": {
            "backgroundcolor": "#E5ECF6",
            "gridcolor": "white",
            "gridwidth": 2,
            "linecolor": "white",
            "showbackground": true,
            "ticks": "",
            "zerolinecolor": "white"
           },
           "yaxis": {
            "backgroundcolor": "#E5ECF6",
            "gridcolor": "white",
            "gridwidth": 2,
            "linecolor": "white",
            "showbackground": true,
            "ticks": "",
            "zerolinecolor": "white"
           },
           "zaxis": {
            "backgroundcolor": "#E5ECF6",
            "gridcolor": "white",
            "gridwidth": 2,
            "linecolor": "white",
            "showbackground": true,
            "ticks": "",
            "zerolinecolor": "white"
           }
          },
          "shapedefaults": {
           "line": {
            "color": "#2a3f5f"
           }
          },
          "ternary": {
           "aaxis": {
            "gridcolor": "white",
            "linecolor": "white",
            "ticks": ""
           },
           "baxis": {
            "gridcolor": "white",
            "linecolor": "white",
            "ticks": ""
           },
           "bgcolor": "#E5ECF6",
           "caxis": {
            "gridcolor": "white",
            "linecolor": "white",
            "ticks": ""
           }
          },
          "title": {
           "x": 0.05
          },
          "xaxis": {
           "automargin": true,
           "gridcolor": "white",
           "linecolor": "white",
           "ticks": "",
           "title": {
            "standoff": 15
           },
           "zerolinecolor": "white",
           "zerolinewidth": 2
          },
          "yaxis": {
           "automargin": true,
           "gridcolor": "white",
           "linecolor": "white",
           "ticks": "",
           "title": {
            "standoff": 15
           },
           "zerolinecolor": "white",
           "zerolinewidth": 2
          }
         }
        },
        "title": {
         "text": "RMSE in Regression Problems (smaller better)"
        },
        "width": 800
       }
      }
     },
     "metadata": {},
     "output_type": "display_data"
    }
   ],
   "source": [
    "mat_merge_melt = mat_merge.query('score_type==\"MSE/RMSE\"').sort_values('bo_NFS', ascending=False).melt(id_vars=['name_file'], value_vars=['bo_NFS', 'ga_NFS', 'hyb_NFS'])\n",
    "mat_merge_melt['id_ds'] = mat_merge_melt['name_file'].map(dict(zip(mat_merge_melt['name_file'].unique(), ['V'+str(i) for i in range(len(mat_merge_melt['name_file'].unique()))])))\n",
    "mat_merge_melt.head()\n",
    "\n",
    "fig = px.line_polar(mat_merge_melt, r = 'value', theta = 'id_ds', \n",
    "#                     line_close = True,\n",
    "                    color = 'variable', color_discrete_map = {'A': 'dodgerblue', 'B': 'gold', 'C': 'green'},\n",
    "                     title='Number of Features Selected (NFS) in Regression Problems',\n",
    "#                    line_dash='variable'\n",
    "                   )\n",
    "# fig.update_traces(fill = 'toself')\n",
    "fig.update_layout(width=800, height=800)\n",
    "fig.show() \n",
    "\n",
    "mat_merge_melt = mat_merge.query('score_type==\"MSE/RMSE\"').sort_values('bo_NFS', ascending=False).melt(id_vars=['name_file'], value_vars=['bo_FINAL_SCORE_TST', 'ga_FINAL_SCORE_TST', 'hyb_FINAL_SCORE_TST'])\n",
    "mat_merge_melt['id_ds'] = mat_merge_melt['name_file'].map(dict(zip(mat_merge_melt['name_file'].unique(), ['V'+str(i) for i in range(len(mat_merge_melt['name_file'].unique()))])))\n",
    "mat_merge_melt.head()\n",
    "\n",
    "fig = px.line_polar(mat_merge_melt, r = 'value', theta = 'id_ds', \n",
    "#                     line_close = True,\n",
    "                    color = 'variable', color_discrete_map = {'A': 'dodgerblue', 'B': 'gold', 'C': 'green'},\n",
    "                     title='RMSE in Regression Problems (smaller better)',\n",
    "#                    line_dash='variable'\n",
    "                   )\n",
    "fig.update_layout(width=800, height=800)\n",
    "fig.show() \n"
   ]
  },
  {
   "cell_type": "markdown",
   "id": "e3548d25",
   "metadata": {},
   "source": [
    "# Results with MultiClass Datasets (F1Macro)"
   ]
  },
  {
   "cell_type": "code",
   "execution_count": 45,
   "id": "bf9c5e2b",
   "metadata": {
    "ExecuteTime": {
     "end_time": "2023-09-18T20:02:26.404574Z",
     "start_time": "2023-09-18T20:02:26.373438Z"
    }
   },
   "outputs": [
    {
     "data": {
      "text/html": [
       "<div>\n",
       "<style scoped>\n",
       "    .dataframe tbody tr th:only-of-type {\n",
       "        vertical-align: middle;\n",
       "    }\n",
       "\n",
       "    .dataframe tbody tr th {\n",
       "        vertical-align: top;\n",
       "    }\n",
       "\n",
       "    .dataframe thead th {\n",
       "        text-align: right;\n",
       "    }\n",
       "</style>\n",
       "<table border=\"1\" class=\"dataframe\">\n",
       "  <thead>\n",
       "    <tr style=\"text-align: right;\">\n",
       "      <th></th>\n",
       "      <th>name_file</th>\n",
       "      <th>name_db</th>\n",
       "      <th>score_type</th>\n",
       "      <th>num_rows</th>\n",
       "      <th>num_cols</th>\n",
       "      <th>num_classes</th>\n",
       "      <th>train_val_size</th>\n",
       "      <th>test_size</th>\n",
       "      <th>bo_NFS</th>\n",
       "      <th>bo_FINAL_SCORE_TST</th>\n",
       "      <th>hyb_NFS</th>\n",
       "      <th>hyb_FINAL_SCORE_TST</th>\n",
       "      <th>ga_NFS</th>\n",
       "      <th>ga_FINAL_SCORE_TST</th>\n",
       "    </tr>\n",
       "  </thead>\n",
       "  <tbody>\n",
       "    <tr>\n",
       "      <th>42</th>\n",
       "      <td>dna.csv</td>\n",
       "      <td>dna</td>\n",
       "      <td>f1_macro</td>\n",
       "      <td>3186</td>\n",
       "      <td>360</td>\n",
       "      <td>3</td>\n",
       "      <td>1593</td>\n",
       "      <td>1593</td>\n",
       "      <td>360.0</td>\n",
       "      <td>0.941958</td>\n",
       "      <td>156.2</td>\n",
       "      <td>0.944403</td>\n",
       "      <td>181.4</td>\n",
       "      <td>0.943414</td>\n",
       "    </tr>\n",
       "    <tr>\n",
       "      <th>85</th>\n",
       "      <td>splice.csv</td>\n",
       "      <td>splice</td>\n",
       "      <td>f1_macro</td>\n",
       "      <td>3190</td>\n",
       "      <td>287</td>\n",
       "      <td>3</td>\n",
       "      <td>1595</td>\n",
       "      <td>1595</td>\n",
       "      <td>287.0</td>\n",
       "      <td>0.941357</td>\n",
       "      <td>146.6</td>\n",
       "      <td>0.943285</td>\n",
       "      <td>157.4</td>\n",
       "      <td>0.932967</td>\n",
       "    </tr>\n",
       "    <tr>\n",
       "      <th>22</th>\n",
       "      <td>USPS.csv</td>\n",
       "      <td>USPS</td>\n",
       "      <td>f1_macro</td>\n",
       "      <td>9298</td>\n",
       "      <td>256</td>\n",
       "      <td>10</td>\n",
       "      <td>4649</td>\n",
       "      <td>4649</td>\n",
       "      <td>256.0</td>\n",
       "      <td>0.939930</td>\n",
       "      <td>135.8</td>\n",
       "      <td>0.938260</td>\n",
       "      <td>136.6</td>\n",
       "      <td>0.937496</td>\n",
       "    </tr>\n",
       "    <tr>\n",
       "      <th>28</th>\n",
       "      <td>autoUniv.csv</td>\n",
       "      <td>autoUniv-au4-2500</td>\n",
       "      <td>f1_macro</td>\n",
       "      <td>2500</td>\n",
       "      <td>226</td>\n",
       "      <td>3</td>\n",
       "      <td>1250</td>\n",
       "      <td>1250</td>\n",
       "      <td>226.0</td>\n",
       "      <td>0.397151</td>\n",
       "      <td>93.0</td>\n",
       "      <td>0.401714</td>\n",
       "      <td>109.8</td>\n",
       "      <td>0.397066</td>\n",
       "    </tr>\n",
       "    <tr>\n",
       "      <th>9</th>\n",
       "      <td>Indian.csv</td>\n",
       "      <td>Indian_pines</td>\n",
       "      <td>f1_macro</td>\n",
       "      <td>9144</td>\n",
       "      <td>220</td>\n",
       "      <td>8</td>\n",
       "      <td>4572</td>\n",
       "      <td>4572</td>\n",
       "      <td>220.0</td>\n",
       "      <td>0.837844</td>\n",
       "      <td>105.2</td>\n",
       "      <td>0.832469</td>\n",
       "      <td>108.4</td>\n",
       "      <td>0.826121</td>\n",
       "    </tr>\n",
       "    <tr>\n",
       "      <th>48</th>\n",
       "      <td>gas.csv</td>\n",
       "      <td>gas-drift</td>\n",
       "      <td>f1_macro</td>\n",
       "      <td>13910</td>\n",
       "      <td>128</td>\n",
       "      <td>6</td>\n",
       "      <td>6955</td>\n",
       "      <td>6955</td>\n",
       "      <td>128.0</td>\n",
       "      <td>0.988435</td>\n",
       "      <td>56.8</td>\n",
       "      <td>0.988515</td>\n",
       "      <td>67.4</td>\n",
       "      <td>0.988832</td>\n",
       "    </tr>\n",
       "    <tr>\n",
       "      <th>1</th>\n",
       "      <td>BachChoralHarmony.csv</td>\n",
       "      <td>BachChoralHarmony</td>\n",
       "      <td>f1_macro</td>\n",
       "      <td>5665</td>\n",
       "      <td>104</td>\n",
       "      <td>102</td>\n",
       "      <td>2832</td>\n",
       "      <td>2833</td>\n",
       "      <td>104.0</td>\n",
       "      <td>0.404796</td>\n",
       "      <td>81.4</td>\n",
       "      <td>0.387750</td>\n",
       "      <td>61.8</td>\n",
       "      <td>0.370661</td>\n",
       "    </tr>\n",
       "    <tr>\n",
       "      <th>33</th>\n",
       "      <td>cjs.csv</td>\n",
       "      <td>cjs</td>\n",
       "      <td>f1_macro</td>\n",
       "      <td>2796</td>\n",
       "      <td>99</td>\n",
       "      <td>6</td>\n",
       "      <td>1398</td>\n",
       "      <td>1398</td>\n",
       "      <td>99.0</td>\n",
       "      <td>0.996998</td>\n",
       "      <td>31.8</td>\n",
       "      <td>0.998292</td>\n",
       "      <td>44.8</td>\n",
       "      <td>0.997249</td>\n",
       "    </tr>\n",
       "    <tr>\n",
       "      <th>56</th>\n",
       "      <td>jungle.csv</td>\n",
       "      <td>jungle_chess_2pcs_endgame_panther_lion</td>\n",
       "      <td>f1_macro</td>\n",
       "      <td>4704</td>\n",
       "      <td>75</td>\n",
       "      <td>3</td>\n",
       "      <td>2352</td>\n",
       "      <td>2352</td>\n",
       "      <td>75.0</td>\n",
       "      <td>0.963891</td>\n",
       "      <td>43.0</td>\n",
       "      <td>0.965465</td>\n",
       "      <td>39.8</td>\n",
       "      <td>0.967923</td>\n",
       "    </tr>\n",
       "    <tr>\n",
       "      <th>71</th>\n",
       "      <td>optdigits.csv</td>\n",
       "      <td>optdigits</td>\n",
       "      <td>f1_macro</td>\n",
       "      <td>5620</td>\n",
       "      <td>64</td>\n",
       "      <td>10</td>\n",
       "      <td>2810</td>\n",
       "      <td>2810</td>\n",
       "      <td>64.0</td>\n",
       "      <td>0.971251</td>\n",
       "      <td>48.8</td>\n",
       "      <td>0.969996</td>\n",
       "      <td>43.6</td>\n",
       "      <td>0.964035</td>\n",
       "    </tr>\n",
       "    <tr>\n",
       "      <th>26</th>\n",
       "      <td>allbp.csv</td>\n",
       "      <td>allbp</td>\n",
       "      <td>f1_macro</td>\n",
       "      <td>3772</td>\n",
       "      <td>54</td>\n",
       "      <td>3</td>\n",
       "      <td>1886</td>\n",
       "      <td>1886</td>\n",
       "      <td>54.0</td>\n",
       "      <td>0.671252</td>\n",
       "      <td>15.4</td>\n",
       "      <td>0.606336</td>\n",
       "      <td>25.0</td>\n",
       "      <td>0.657209</td>\n",
       "    </tr>\n",
       "    <tr>\n",
       "      <th>53</th>\n",
       "      <td>hypothyroid.csv</td>\n",
       "      <td>hypothyroid</td>\n",
       "      <td>f1_macro</td>\n",
       "      <td>3772</td>\n",
       "      <td>52</td>\n",
       "      <td>4</td>\n",
       "      <td>1886</td>\n",
       "      <td>1886</td>\n",
       "      <td>52.0</td>\n",
       "      <td>0.625184</td>\n",
       "      <td>16.6</td>\n",
       "      <td>0.811934</td>\n",
       "      <td>22.8</td>\n",
       "      <td>0.648590</td>\n",
       "    </tr>\n",
       "    <tr>\n",
       "      <th>47</th>\n",
       "      <td>first.csv</td>\n",
       "      <td>first-order-theorem-proving</td>\n",
       "      <td>f1_macro</td>\n",
       "      <td>6118</td>\n",
       "      <td>51</td>\n",
       "      <td>6</td>\n",
       "      <td>3059</td>\n",
       "      <td>3059</td>\n",
       "      <td>51.0</td>\n",
       "      <td>0.322616</td>\n",
       "      <td>39.2</td>\n",
       "      <td>0.318210</td>\n",
       "      <td>30.6</td>\n",
       "      <td>0.315137</td>\n",
       "    </tr>\n",
       "    <tr>\n",
       "      <th>76</th>\n",
       "      <td>pol.csv</td>\n",
       "      <td>pol</td>\n",
       "      <td>f1_macro</td>\n",
       "      <td>15000</td>\n",
       "      <td>48</td>\n",
       "      <td>11</td>\n",
       "      <td>7500</td>\n",
       "      <td>7500</td>\n",
       "      <td>48.0</td>\n",
       "      <td>0.169532</td>\n",
       "      <td>29.2</td>\n",
       "      <td>0.168386</td>\n",
       "      <td>28.8</td>\n",
       "      <td>0.167988</td>\n",
       "    </tr>\n",
       "    <tr>\n",
       "      <th>61</th>\n",
       "      <td>led24.csv</td>\n",
       "      <td>led24</td>\n",
       "      <td>f1_macro</td>\n",
       "      <td>3200</td>\n",
       "      <td>48</td>\n",
       "      <td>10</td>\n",
       "      <td>1600</td>\n",
       "      <td>1600</td>\n",
       "      <td>48.0</td>\n",
       "      <td>0.711520</td>\n",
       "      <td>27.0</td>\n",
       "      <td>0.710185</td>\n",
       "      <td>23.4</td>\n",
       "      <td>0.710152</td>\n",
       "    </tr>\n",
       "    <tr>\n",
       "      <th>90</th>\n",
       "      <td>thyroid.csv</td>\n",
       "      <td>thyroid-allbp</td>\n",
       "      <td>f1_macro</td>\n",
       "      <td>2800</td>\n",
       "      <td>46</td>\n",
       "      <td>5</td>\n",
       "      <td>1400</td>\n",
       "      <td>1400</td>\n",
       "      <td>46.0</td>\n",
       "      <td>0.493214</td>\n",
       "      <td>22.2</td>\n",
       "      <td>0.484633</td>\n",
       "      <td>24.0</td>\n",
       "      <td>0.470441</td>\n",
       "    </tr>\n",
       "    <tr>\n",
       "      <th>95</th>\n",
       "      <td>waveform.csv</td>\n",
       "      <td>waveform-5000</td>\n",
       "      <td>f1_macro</td>\n",
       "      <td>5000</td>\n",
       "      <td>40</td>\n",
       "      <td>3</td>\n",
       "      <td>2500</td>\n",
       "      <td>2500</td>\n",
       "      <td>40.0</td>\n",
       "      <td>0.864642</td>\n",
       "      <td>22.0</td>\n",
       "      <td>0.861598</td>\n",
       "      <td>25.4</td>\n",
       "      <td>0.860880</td>\n",
       "    </tr>\n",
       "    <tr>\n",
       "      <th>89</th>\n",
       "      <td>texture.csv</td>\n",
       "      <td>texture</td>\n",
       "      <td>f1_macro</td>\n",
       "      <td>5500</td>\n",
       "      <td>40</td>\n",
       "      <td>11</td>\n",
       "      <td>2750</td>\n",
       "      <td>2750</td>\n",
       "      <td>40.0</td>\n",
       "      <td>0.997395</td>\n",
       "      <td>21.4</td>\n",
       "      <td>0.996552</td>\n",
       "      <td>23.8</td>\n",
       "      <td>0.996627</td>\n",
       "    </tr>\n",
       "    <tr>\n",
       "      <th>79</th>\n",
       "      <td>satimage.csv</td>\n",
       "      <td>satimage</td>\n",
       "      <td>f1_macro</td>\n",
       "      <td>6430</td>\n",
       "      <td>36</td>\n",
       "      <td>6</td>\n",
       "      <td>3215</td>\n",
       "      <td>3215</td>\n",
       "      <td>36.0</td>\n",
       "      <td>0.804891</td>\n",
       "      <td>22.6</td>\n",
       "      <td>0.805631</td>\n",
       "      <td>22.2</td>\n",
       "      <td>0.801943</td>\n",
       "    </tr>\n",
       "    <tr>\n",
       "      <th>31</th>\n",
       "      <td>cardiotocography.csv</td>\n",
       "      <td>cardiotocography</td>\n",
       "      <td>f1_macro</td>\n",
       "      <td>2126</td>\n",
       "      <td>35</td>\n",
       "      <td>10</td>\n",
       "      <td>1063</td>\n",
       "      <td>1063</td>\n",
       "      <td>35.0</td>\n",
       "      <td>1.000000</td>\n",
       "      <td>16.4</td>\n",
       "      <td>1.000000</td>\n",
       "      <td>12.0</td>\n",
       "      <td>0.999452</td>\n",
       "    </tr>\n",
       "    <tr>\n",
       "      <th>7</th>\n",
       "      <td>GesturePhaseSegmentationProcessed.csv</td>\n",
       "      <td>GesturePhaseSegmentationProcessed</td>\n",
       "      <td>f1_macro</td>\n",
       "      <td>9873</td>\n",
       "      <td>32</td>\n",
       "      <td>5</td>\n",
       "      <td>4936</td>\n",
       "      <td>4937</td>\n",
       "      <td>32.0</td>\n",
       "      <td>0.348015</td>\n",
       "      <td>21.8</td>\n",
       "      <td>0.347318</td>\n",
       "      <td>22.0</td>\n",
       "      <td>0.346109</td>\n",
       "    </tr>\n",
       "    <tr>\n",
       "      <th>45</th>\n",
       "      <td>eye.csv</td>\n",
       "      <td>eye_movements</td>\n",
       "      <td>f1_macro</td>\n",
       "      <td>10936</td>\n",
       "      <td>30</td>\n",
       "      <td>3</td>\n",
       "      <td>5468</td>\n",
       "      <td>5468</td>\n",
       "      <td>30.0</td>\n",
       "      <td>0.512035</td>\n",
       "      <td>22.0</td>\n",
       "      <td>0.512278</td>\n",
       "      <td>21.8</td>\n",
       "      <td>0.512513</td>\n",
       "    </tr>\n",
       "    <tr>\n",
       "      <th>50</th>\n",
       "      <td>health.csv</td>\n",
       "      <td>health_insurance</td>\n",
       "      <td>f1_macro</td>\n",
       "      <td>22272</td>\n",
       "      <td>25</td>\n",
       "      <td>75</td>\n",
       "      <td>11136</td>\n",
       "      <td>11136</td>\n",
       "      <td>25.0</td>\n",
       "      <td>0.017778</td>\n",
       "      <td>21.6</td>\n",
       "      <td>0.017780</td>\n",
       "      <td>16.4</td>\n",
       "      <td>0.017788</td>\n",
       "    </tr>\n",
       "    <tr>\n",
       "      <th>94</th>\n",
       "      <td>wall.csv</td>\n",
       "      <td>wall-robot-navigation</td>\n",
       "      <td>f1_macro</td>\n",
       "      <td>5456</td>\n",
       "      <td>24</td>\n",
       "      <td>4</td>\n",
       "      <td>2728</td>\n",
       "      <td>2728</td>\n",
       "      <td>24.0</td>\n",
       "      <td>0.678062</td>\n",
       "      <td>16.0</td>\n",
       "      <td>0.689436</td>\n",
       "      <td>16.0</td>\n",
       "      <td>0.690701</td>\n",
       "    </tr>\n",
       "    <tr>\n",
       "      <th>37</th>\n",
       "      <td>cpu.csv</td>\n",
       "      <td>cpu_act</td>\n",
       "      <td>f1_macro</td>\n",
       "      <td>8192</td>\n",
       "      <td>21</td>\n",
       "      <td>56</td>\n",
       "      <td>4096</td>\n",
       "      <td>4096</td>\n",
       "      <td>21.0</td>\n",
       "      <td>0.139512</td>\n",
       "      <td>12.8</td>\n",
       "      <td>0.142465</td>\n",
       "      <td>14.0</td>\n",
       "      <td>0.139382</td>\n",
       "    </tr>\n",
       "    <tr>\n",
       "      <th>66</th>\n",
       "      <td>microaggregation2.csv</td>\n",
       "      <td>microaggregation2</td>\n",
       "      <td>f1_macro</td>\n",
       "      <td>20000</td>\n",
       "      <td>20</td>\n",
       "      <td>5</td>\n",
       "      <td>10000</td>\n",
       "      <td>10000</td>\n",
       "      <td>20.0</td>\n",
       "      <td>0.239677</td>\n",
       "      <td>14.0</td>\n",
       "      <td>0.238973</td>\n",
       "      <td>15.0</td>\n",
       "      <td>0.239934</td>\n",
       "    </tr>\n",
       "    <tr>\n",
       "      <th>81</th>\n",
       "      <td>segment.csv</td>\n",
       "      <td>segment</td>\n",
       "      <td>f1_macro</td>\n",
       "      <td>2310</td>\n",
       "      <td>19</td>\n",
       "      <td>7</td>\n",
       "      <td>1155</td>\n",
       "      <td>1155</td>\n",
       "      <td>19.0</td>\n",
       "      <td>0.949184</td>\n",
       "      <td>9.8</td>\n",
       "      <td>0.952230</td>\n",
       "      <td>9.4</td>\n",
       "      <td>0.952796</td>\n",
       "    </tr>\n",
       "    <tr>\n",
       "      <th>74</th>\n",
       "      <td>pendigits.csv</td>\n",
       "      <td>pendigits</td>\n",
       "      <td>f1_macro</td>\n",
       "      <td>10992</td>\n",
       "      <td>16</td>\n",
       "      <td>10</td>\n",
       "      <td>5496</td>\n",
       "      <td>5496</td>\n",
       "      <td>16.0</td>\n",
       "      <td>0.949352</td>\n",
       "      <td>16.0</td>\n",
       "      <td>0.949862</td>\n",
       "      <td>15.6</td>\n",
       "      <td>0.950227</td>\n",
       "    </tr>\n",
       "    <tr>\n",
       "      <th>62</th>\n",
       "      <td>letter.csv</td>\n",
       "      <td>letter</td>\n",
       "      <td>f1_macro</td>\n",
       "      <td>20000</td>\n",
       "      <td>16</td>\n",
       "      <td>26</td>\n",
       "      <td>10000</td>\n",
       "      <td>10000</td>\n",
       "      <td>16.0</td>\n",
       "      <td>0.769050</td>\n",
       "      <td>16.0</td>\n",
       "      <td>0.768879</td>\n",
       "      <td>16.0</td>\n",
       "      <td>0.769143</td>\n",
       "    </tr>\n",
       "    <tr>\n",
       "      <th>12</th>\n",
       "      <td>JapaneseVowels.csv</td>\n",
       "      <td>JapaneseVowels</td>\n",
       "      <td>f1_macro</td>\n",
       "      <td>9961</td>\n",
       "      <td>14</td>\n",
       "      <td>9</td>\n",
       "      <td>4980</td>\n",
       "      <td>4981</td>\n",
       "      <td>14.0</td>\n",
       "      <td>0.935628</td>\n",
       "      <td>14.0</td>\n",
       "      <td>0.935952</td>\n",
       "      <td>14.0</td>\n",
       "      <td>0.935623</td>\n",
       "    </tr>\n",
       "    <tr>\n",
       "      <th>39</th>\n",
       "      <td>dataset.csv</td>\n",
       "      <td>dataset_sales</td>\n",
       "      <td>f1_macro</td>\n",
       "      <td>10738</td>\n",
       "      <td>14</td>\n",
       "      <td>51</td>\n",
       "      <td>5369</td>\n",
       "      <td>5369</td>\n",
       "      <td>14.0</td>\n",
       "      <td>0.083910</td>\n",
       "      <td>11.0</td>\n",
       "      <td>0.079776</td>\n",
       "      <td>9.4</td>\n",
       "      <td>0.075094</td>\n",
       "    </tr>\n",
       "    <tr>\n",
       "      <th>96</th>\n",
       "      <td>white.csv</td>\n",
       "      <td>white_wine</td>\n",
       "      <td>f1_macro</td>\n",
       "      <td>4898</td>\n",
       "      <td>11</td>\n",
       "      <td>7</td>\n",
       "      <td>2449</td>\n",
       "      <td>2449</td>\n",
       "      <td>11.0</td>\n",
       "      <td>0.222697</td>\n",
       "      <td>8.4</td>\n",
       "      <td>0.221153</td>\n",
       "      <td>8.6</td>\n",
       "      <td>0.218341</td>\n",
       "    </tr>\n",
       "    <tr>\n",
       "      <th>97</th>\n",
       "      <td>wine.csv</td>\n",
       "      <td>wine_quality</td>\n",
       "      <td>f1_macro</td>\n",
       "      <td>6497</td>\n",
       "      <td>11</td>\n",
       "      <td>7</td>\n",
       "      <td>3248</td>\n",
       "      <td>3249</td>\n",
       "      <td>11.0</td>\n",
       "      <td>0.234353</td>\n",
       "      <td>9.0</td>\n",
       "      <td>0.234602</td>\n",
       "      <td>9.8</td>\n",
       "      <td>0.226342</td>\n",
       "    </tr>\n",
       "    <tr>\n",
       "      <th>72</th>\n",
       "      <td>page.csv</td>\n",
       "      <td>page-blocks</td>\n",
       "      <td>f1_macro</td>\n",
       "      <td>5473</td>\n",
       "      <td>10</td>\n",
       "      <td>5</td>\n",
       "      <td>2736</td>\n",
       "      <td>2737</td>\n",
       "      <td>10.0</td>\n",
       "      <td>0.797241</td>\n",
       "      <td>7.0</td>\n",
       "      <td>0.831810</td>\n",
       "      <td>8.4</td>\n",
       "      <td>0.824672</td>\n",
       "    </tr>\n",
       "  </tbody>\n",
       "</table>\n",
       "</div>"
      ],
      "text/plain": [
       "                                name_file  \\\n",
       "42                                dna.csv   \n",
       "85                             splice.csv   \n",
       "22                               USPS.csv   \n",
       "28                           autoUniv.csv   \n",
       "9                              Indian.csv   \n",
       "48                                gas.csv   \n",
       "1                   BachChoralHarmony.csv   \n",
       "33                                cjs.csv   \n",
       "56                             jungle.csv   \n",
       "71                          optdigits.csv   \n",
       "26                              allbp.csv   \n",
       "53                        hypothyroid.csv   \n",
       "47                              first.csv   \n",
       "76                                pol.csv   \n",
       "61                              led24.csv   \n",
       "90                            thyroid.csv   \n",
       "95                           waveform.csv   \n",
       "89                            texture.csv   \n",
       "79                           satimage.csv   \n",
       "31                   cardiotocography.csv   \n",
       "7   GesturePhaseSegmentationProcessed.csv   \n",
       "45                                eye.csv   \n",
       "50                             health.csv   \n",
       "94                               wall.csv   \n",
       "37                                cpu.csv   \n",
       "66                  microaggregation2.csv   \n",
       "81                            segment.csv   \n",
       "74                          pendigits.csv   \n",
       "62                             letter.csv   \n",
       "12                     JapaneseVowels.csv   \n",
       "39                            dataset.csv   \n",
       "96                              white.csv   \n",
       "97                               wine.csv   \n",
       "72                               page.csv   \n",
       "\n",
       "                                   name_db score_type  num_rows  num_cols  \\\n",
       "42                                     dna   f1_macro      3186       360   \n",
       "85                                  splice   f1_macro      3190       287   \n",
       "22                                    USPS   f1_macro      9298       256   \n",
       "28                       autoUniv-au4-2500   f1_macro      2500       226   \n",
       "9                             Indian_pines   f1_macro      9144       220   \n",
       "48                               gas-drift   f1_macro     13910       128   \n",
       "1                        BachChoralHarmony   f1_macro      5665       104   \n",
       "33                                     cjs   f1_macro      2796        99   \n",
       "56  jungle_chess_2pcs_endgame_panther_lion   f1_macro      4704        75   \n",
       "71                               optdigits   f1_macro      5620        64   \n",
       "26                                   allbp   f1_macro      3772        54   \n",
       "53                             hypothyroid   f1_macro      3772        52   \n",
       "47             first-order-theorem-proving   f1_macro      6118        51   \n",
       "76                                     pol   f1_macro     15000        48   \n",
       "61                                   led24   f1_macro      3200        48   \n",
       "90                           thyroid-allbp   f1_macro      2800        46   \n",
       "95                           waveform-5000   f1_macro      5000        40   \n",
       "89                                 texture   f1_macro      5500        40   \n",
       "79                                satimage   f1_macro      6430        36   \n",
       "31                        cardiotocography   f1_macro      2126        35   \n",
       "7        GesturePhaseSegmentationProcessed   f1_macro      9873        32   \n",
       "45                           eye_movements   f1_macro     10936        30   \n",
       "50                        health_insurance   f1_macro     22272        25   \n",
       "94                   wall-robot-navigation   f1_macro      5456        24   \n",
       "37                                 cpu_act   f1_macro      8192        21   \n",
       "66                       microaggregation2   f1_macro     20000        20   \n",
       "81                                 segment   f1_macro      2310        19   \n",
       "74                               pendigits   f1_macro     10992        16   \n",
       "62                                  letter   f1_macro     20000        16   \n",
       "12                          JapaneseVowels   f1_macro      9961        14   \n",
       "39                           dataset_sales   f1_macro     10738        14   \n",
       "96                              white_wine   f1_macro      4898        11   \n",
       "97                            wine_quality   f1_macro      6497        11   \n",
       "72                             page-blocks   f1_macro      5473        10   \n",
       "\n",
       "    num_classes  train_val_size  test_size  bo_NFS  bo_FINAL_SCORE_TST  \\\n",
       "42            3            1593       1593   360.0            0.941958   \n",
       "85            3            1595       1595   287.0            0.941357   \n",
       "22           10            4649       4649   256.0            0.939930   \n",
       "28            3            1250       1250   226.0            0.397151   \n",
       "9             8            4572       4572   220.0            0.837844   \n",
       "48            6            6955       6955   128.0            0.988435   \n",
       "1           102            2832       2833   104.0            0.404796   \n",
       "33            6            1398       1398    99.0            0.996998   \n",
       "56            3            2352       2352    75.0            0.963891   \n",
       "71           10            2810       2810    64.0            0.971251   \n",
       "26            3            1886       1886    54.0            0.671252   \n",
       "53            4            1886       1886    52.0            0.625184   \n",
       "47            6            3059       3059    51.0            0.322616   \n",
       "76           11            7500       7500    48.0            0.169532   \n",
       "61           10            1600       1600    48.0            0.711520   \n",
       "90            5            1400       1400    46.0            0.493214   \n",
       "95            3            2500       2500    40.0            0.864642   \n",
       "89           11            2750       2750    40.0            0.997395   \n",
       "79            6            3215       3215    36.0            0.804891   \n",
       "31           10            1063       1063    35.0            1.000000   \n",
       "7             5            4936       4937    32.0            0.348015   \n",
       "45            3            5468       5468    30.0            0.512035   \n",
       "50           75           11136      11136    25.0            0.017778   \n",
       "94            4            2728       2728    24.0            0.678062   \n",
       "37           56            4096       4096    21.0            0.139512   \n",
       "66            5           10000      10000    20.0            0.239677   \n",
       "81            7            1155       1155    19.0            0.949184   \n",
       "74           10            5496       5496    16.0            0.949352   \n",
       "62           26           10000      10000    16.0            0.769050   \n",
       "12            9            4980       4981    14.0            0.935628   \n",
       "39           51            5369       5369    14.0            0.083910   \n",
       "96            7            2449       2449    11.0            0.222697   \n",
       "97            7            3248       3249    11.0            0.234353   \n",
       "72            5            2736       2737    10.0            0.797241   \n",
       "\n",
       "    hyb_NFS  hyb_FINAL_SCORE_TST  ga_NFS  ga_FINAL_SCORE_TST  \n",
       "42    156.2             0.944403   181.4            0.943414  \n",
       "85    146.6             0.943285   157.4            0.932967  \n",
       "22    135.8             0.938260   136.6            0.937496  \n",
       "28     93.0             0.401714   109.8            0.397066  \n",
       "9     105.2             0.832469   108.4            0.826121  \n",
       "48     56.8             0.988515    67.4            0.988832  \n",
       "1      81.4             0.387750    61.8            0.370661  \n",
       "33     31.8             0.998292    44.8            0.997249  \n",
       "56     43.0             0.965465    39.8            0.967923  \n",
       "71     48.8             0.969996    43.6            0.964035  \n",
       "26     15.4             0.606336    25.0            0.657209  \n",
       "53     16.6             0.811934    22.8            0.648590  \n",
       "47     39.2             0.318210    30.6            0.315137  \n",
       "76     29.2             0.168386    28.8            0.167988  \n",
       "61     27.0             0.710185    23.4            0.710152  \n",
       "90     22.2             0.484633    24.0            0.470441  \n",
       "95     22.0             0.861598    25.4            0.860880  \n",
       "89     21.4             0.996552    23.8            0.996627  \n",
       "79     22.6             0.805631    22.2            0.801943  \n",
       "31     16.4             1.000000    12.0            0.999452  \n",
       "7      21.8             0.347318    22.0            0.346109  \n",
       "45     22.0             0.512278    21.8            0.512513  \n",
       "50     21.6             0.017780    16.4            0.017788  \n",
       "94     16.0             0.689436    16.0            0.690701  \n",
       "37     12.8             0.142465    14.0            0.139382  \n",
       "66     14.0             0.238973    15.0            0.239934  \n",
       "81      9.8             0.952230     9.4            0.952796  \n",
       "74     16.0             0.949862    15.6            0.950227  \n",
       "62     16.0             0.768879    16.0            0.769143  \n",
       "12     14.0             0.935952    14.0            0.935623  \n",
       "39     11.0             0.079776     9.4            0.075094  \n",
       "96      8.4             0.221153     8.6            0.218341  \n",
       "97      9.0             0.234602     9.8            0.226342  \n",
       "72      7.0             0.831810     8.4            0.824672  "
      ]
     },
     "execution_count": 45,
     "metadata": {},
     "output_type": "execute_result"
    }
   ],
   "source": [
    "mat_merge_reduc = mat_merge[['name_file', 'name_db', 'score_type', 'num_rows', 'num_cols', 'num_classes',\n",
    "       'train_val_size', 'test_size', 'bo_NFS', 'bo_FINAL_SCORE_TST', \n",
    "           'hyb_NFS', 'hyb_FINAL_SCORE_TST', \n",
    "           'ga_NFS', 'ga_FINAL_SCORE_TST']].sort_values('bo_NFS', ascending=False)\n",
    "mat_merge_reduc.query('score_type==\"f1_macro\"')"
   ]
  },
  {
   "cell_type": "code",
   "execution_count": 46,
   "id": "258d479a",
   "metadata": {
    "ExecuteTime": {
     "end_time": "2023-09-18T20:02:26.545440Z",
     "start_time": "2023-09-18T20:02:26.404574Z"
    }
   },
   "outputs": [
    {
     "data": {
      "application/vnd.plotly.v1+json": {
       "config": {
        "plotlyServerURL": "https://plot.ly"
       },
       "data": [
        {
         "hovertemplate": "variable=bo_NFS<br>value=%{r}<br>id_ds=%{theta}<extra></extra>",
         "legendgroup": "bo_NFS",
         "line": {
          "color": "#ab63fa",
          "dash": "solid"
         },
         "marker": {
          "symbol": "circle"
         },
         "mode": "lines",
         "name": "bo_NFS",
         "r": [
          360,
          287,
          256,
          226,
          220,
          128,
          104,
          99,
          75,
          64,
          54,
          52,
          51,
          48,
          48,
          46,
          40,
          40,
          36,
          35,
          32,
          30,
          25,
          24,
          21,
          20,
          19,
          16,
          16,
          14,
          14,
          11,
          11,
          10
         ],
         "showlegend": true,
         "subplot": "polar",
         "theta": [
          "V0",
          "V1",
          "V2",
          "V3",
          "V4",
          "V5",
          "V6",
          "V7",
          "V8",
          "V9",
          "V10",
          "V11",
          "V12",
          "V13",
          "V14",
          "V15",
          "V16",
          "V17",
          "V18",
          "V19",
          "V20",
          "V21",
          "V22",
          "V23",
          "V24",
          "V25",
          "V26",
          "V27",
          "V28",
          "V29",
          "V30",
          "V31",
          "V32",
          "V33"
         ],
         "type": "scatterpolar"
        },
        {
         "hovertemplate": "variable=ga_NFS<br>value=%{r}<br>id_ds=%{theta}<extra></extra>",
         "legendgroup": "ga_NFS",
         "line": {
          "color": "#FFA15A",
          "dash": "solid"
         },
         "marker": {
          "symbol": "circle"
         },
         "mode": "lines",
         "name": "ga_NFS",
         "r": [
          181.4,
          157.4,
          136.6,
          109.8,
          108.4,
          67.4,
          61.8,
          44.8,
          39.8,
          43.6,
          25,
          22.8,
          30.6,
          28.8,
          23.4,
          24,
          25.4,
          23.8,
          22.2,
          12,
          22,
          21.8,
          16.4,
          16,
          14,
          15,
          9.4,
          15.6,
          16,
          14,
          9.4,
          8.6,
          9.8,
          8.4
         ],
         "showlegend": true,
         "subplot": "polar",
         "theta": [
          "V0",
          "V1",
          "V2",
          "V3",
          "V4",
          "V5",
          "V6",
          "V7",
          "V8",
          "V9",
          "V10",
          "V11",
          "V12",
          "V13",
          "V14",
          "V15",
          "V16",
          "V17",
          "V18",
          "V19",
          "V20",
          "V21",
          "V22",
          "V23",
          "V24",
          "V25",
          "V26",
          "V27",
          "V28",
          "V29",
          "V30",
          "V31",
          "V32",
          "V33"
         ],
         "type": "scatterpolar"
        },
        {
         "hovertemplate": "variable=hyb_NFS<br>value=%{r}<br>id_ds=%{theta}<extra></extra>",
         "legendgroup": "hyb_NFS",
         "line": {
          "color": "#19d3f3",
          "dash": "solid"
         },
         "marker": {
          "symbol": "circle"
         },
         "mode": "lines",
         "name": "hyb_NFS",
         "r": [
          156.2,
          146.6,
          135.8,
          93,
          105.2,
          56.8,
          81.4,
          31.8,
          43,
          48.8,
          15.4,
          16.6,
          39.2,
          29.2,
          27,
          22.2,
          22,
          21.4,
          22.6,
          16.4,
          21.8,
          22,
          21.6,
          16,
          12.8,
          14,
          9.8,
          16,
          16,
          14,
          11,
          8.4,
          9,
          7
         ],
         "showlegend": true,
         "subplot": "polar",
         "theta": [
          "V0",
          "V1",
          "V2",
          "V3",
          "V4",
          "V5",
          "V6",
          "V7",
          "V8",
          "V9",
          "V10",
          "V11",
          "V12",
          "V13",
          "V14",
          "V15",
          "V16",
          "V17",
          "V18",
          "V19",
          "V20",
          "V21",
          "V22",
          "V23",
          "V24",
          "V25",
          "V26",
          "V27",
          "V28",
          "V29",
          "V30",
          "V31",
          "V32",
          "V33"
         ],
         "type": "scatterpolar"
        }
       ],
       "layout": {
        "height": 800,
        "legend": {
         "title": {
          "text": "variable"
         },
         "tracegroupgap": 0
        },
        "polar": {
         "angularaxis": {
          "direction": "clockwise",
          "rotation": 90
         },
         "domain": {
          "x": [
           0,
           1
          ],
          "y": [
           0,
           1
          ]
         }
        },
        "template": {
         "data": {
          "bar": [
           {
            "error_x": {
             "color": "#2a3f5f"
            },
            "error_y": {
             "color": "#2a3f5f"
            },
            "marker": {
             "line": {
              "color": "#E5ECF6",
              "width": 0.5
             },
             "pattern": {
              "fillmode": "overlay",
              "size": 10,
              "solidity": 0.2
             }
            },
            "type": "bar"
           }
          ],
          "barpolar": [
           {
            "marker": {
             "line": {
              "color": "#E5ECF6",
              "width": 0.5
             },
             "pattern": {
              "fillmode": "overlay",
              "size": 10,
              "solidity": 0.2
             }
            },
            "type": "barpolar"
           }
          ],
          "carpet": [
           {
            "aaxis": {
             "endlinecolor": "#2a3f5f",
             "gridcolor": "white",
             "linecolor": "white",
             "minorgridcolor": "white",
             "startlinecolor": "#2a3f5f"
            },
            "baxis": {
             "endlinecolor": "#2a3f5f",
             "gridcolor": "white",
             "linecolor": "white",
             "minorgridcolor": "white",
             "startlinecolor": "#2a3f5f"
            },
            "type": "carpet"
           }
          ],
          "choropleth": [
           {
            "colorbar": {
             "outlinewidth": 0,
             "ticks": ""
            },
            "type": "choropleth"
           }
          ],
          "contour": [
           {
            "colorbar": {
             "outlinewidth": 0,
             "ticks": ""
            },
            "colorscale": [
             [
              0,
              "#0d0887"
             ],
             [
              0.1111111111111111,
              "#46039f"
             ],
             [
              0.2222222222222222,
              "#7201a8"
             ],
             [
              0.3333333333333333,
              "#9c179e"
             ],
             [
              0.4444444444444444,
              "#bd3786"
             ],
             [
              0.5555555555555556,
              "#d8576b"
             ],
             [
              0.6666666666666666,
              "#ed7953"
             ],
             [
              0.7777777777777778,
              "#fb9f3a"
             ],
             [
              0.8888888888888888,
              "#fdca26"
             ],
             [
              1,
              "#f0f921"
             ]
            ],
            "type": "contour"
           }
          ],
          "contourcarpet": [
           {
            "colorbar": {
             "outlinewidth": 0,
             "ticks": ""
            },
            "type": "contourcarpet"
           }
          ],
          "heatmap": [
           {
            "colorbar": {
             "outlinewidth": 0,
             "ticks": ""
            },
            "colorscale": [
             [
              0,
              "#0d0887"
             ],
             [
              0.1111111111111111,
              "#46039f"
             ],
             [
              0.2222222222222222,
              "#7201a8"
             ],
             [
              0.3333333333333333,
              "#9c179e"
             ],
             [
              0.4444444444444444,
              "#bd3786"
             ],
             [
              0.5555555555555556,
              "#d8576b"
             ],
             [
              0.6666666666666666,
              "#ed7953"
             ],
             [
              0.7777777777777778,
              "#fb9f3a"
             ],
             [
              0.8888888888888888,
              "#fdca26"
             ],
             [
              1,
              "#f0f921"
             ]
            ],
            "type": "heatmap"
           }
          ],
          "heatmapgl": [
           {
            "colorbar": {
             "outlinewidth": 0,
             "ticks": ""
            },
            "colorscale": [
             [
              0,
              "#0d0887"
             ],
             [
              0.1111111111111111,
              "#46039f"
             ],
             [
              0.2222222222222222,
              "#7201a8"
             ],
             [
              0.3333333333333333,
              "#9c179e"
             ],
             [
              0.4444444444444444,
              "#bd3786"
             ],
             [
              0.5555555555555556,
              "#d8576b"
             ],
             [
              0.6666666666666666,
              "#ed7953"
             ],
             [
              0.7777777777777778,
              "#fb9f3a"
             ],
             [
              0.8888888888888888,
              "#fdca26"
             ],
             [
              1,
              "#f0f921"
             ]
            ],
            "type": "heatmapgl"
           }
          ],
          "histogram": [
           {
            "marker": {
             "pattern": {
              "fillmode": "overlay",
              "size": 10,
              "solidity": 0.2
             }
            },
            "type": "histogram"
           }
          ],
          "histogram2d": [
           {
            "colorbar": {
             "outlinewidth": 0,
             "ticks": ""
            },
            "colorscale": [
             [
              0,
              "#0d0887"
             ],
             [
              0.1111111111111111,
              "#46039f"
             ],
             [
              0.2222222222222222,
              "#7201a8"
             ],
             [
              0.3333333333333333,
              "#9c179e"
             ],
             [
              0.4444444444444444,
              "#bd3786"
             ],
             [
              0.5555555555555556,
              "#d8576b"
             ],
             [
              0.6666666666666666,
              "#ed7953"
             ],
             [
              0.7777777777777778,
              "#fb9f3a"
             ],
             [
              0.8888888888888888,
              "#fdca26"
             ],
             [
              1,
              "#f0f921"
             ]
            ],
            "type": "histogram2d"
           }
          ],
          "histogram2dcontour": [
           {
            "colorbar": {
             "outlinewidth": 0,
             "ticks": ""
            },
            "colorscale": [
             [
              0,
              "#0d0887"
             ],
             [
              0.1111111111111111,
              "#46039f"
             ],
             [
              0.2222222222222222,
              "#7201a8"
             ],
             [
              0.3333333333333333,
              "#9c179e"
             ],
             [
              0.4444444444444444,
              "#bd3786"
             ],
             [
              0.5555555555555556,
              "#d8576b"
             ],
             [
              0.6666666666666666,
              "#ed7953"
             ],
             [
              0.7777777777777778,
              "#fb9f3a"
             ],
             [
              0.8888888888888888,
              "#fdca26"
             ],
             [
              1,
              "#f0f921"
             ]
            ],
            "type": "histogram2dcontour"
           }
          ],
          "mesh3d": [
           {
            "colorbar": {
             "outlinewidth": 0,
             "ticks": ""
            },
            "type": "mesh3d"
           }
          ],
          "parcoords": [
           {
            "line": {
             "colorbar": {
              "outlinewidth": 0,
              "ticks": ""
             }
            },
            "type": "parcoords"
           }
          ],
          "pie": [
           {
            "automargin": true,
            "type": "pie"
           }
          ],
          "scatter": [
           {
            "fillpattern": {
             "fillmode": "overlay",
             "size": 10,
             "solidity": 0.2
            },
            "type": "scatter"
           }
          ],
          "scatter3d": [
           {
            "line": {
             "colorbar": {
              "outlinewidth": 0,
              "ticks": ""
             }
            },
            "marker": {
             "colorbar": {
              "outlinewidth": 0,
              "ticks": ""
             }
            },
            "type": "scatter3d"
           }
          ],
          "scattercarpet": [
           {
            "marker": {
             "colorbar": {
              "outlinewidth": 0,
              "ticks": ""
             }
            },
            "type": "scattercarpet"
           }
          ],
          "scattergeo": [
           {
            "marker": {
             "colorbar": {
              "outlinewidth": 0,
              "ticks": ""
             }
            },
            "type": "scattergeo"
           }
          ],
          "scattergl": [
           {
            "marker": {
             "colorbar": {
              "outlinewidth": 0,
              "ticks": ""
             }
            },
            "type": "scattergl"
           }
          ],
          "scattermapbox": [
           {
            "marker": {
             "colorbar": {
              "outlinewidth": 0,
              "ticks": ""
             }
            },
            "type": "scattermapbox"
           }
          ],
          "scatterpolar": [
           {
            "marker": {
             "colorbar": {
              "outlinewidth": 0,
              "ticks": ""
             }
            },
            "type": "scatterpolar"
           }
          ],
          "scatterpolargl": [
           {
            "marker": {
             "colorbar": {
              "outlinewidth": 0,
              "ticks": ""
             }
            },
            "type": "scatterpolargl"
           }
          ],
          "scatterternary": [
           {
            "marker": {
             "colorbar": {
              "outlinewidth": 0,
              "ticks": ""
             }
            },
            "type": "scatterternary"
           }
          ],
          "surface": [
           {
            "colorbar": {
             "outlinewidth": 0,
             "ticks": ""
            },
            "colorscale": [
             [
              0,
              "#0d0887"
             ],
             [
              0.1111111111111111,
              "#46039f"
             ],
             [
              0.2222222222222222,
              "#7201a8"
             ],
             [
              0.3333333333333333,
              "#9c179e"
             ],
             [
              0.4444444444444444,
              "#bd3786"
             ],
             [
              0.5555555555555556,
              "#d8576b"
             ],
             [
              0.6666666666666666,
              "#ed7953"
             ],
             [
              0.7777777777777778,
              "#fb9f3a"
             ],
             [
              0.8888888888888888,
              "#fdca26"
             ],
             [
              1,
              "#f0f921"
             ]
            ],
            "type": "surface"
           }
          ],
          "table": [
           {
            "cells": {
             "fill": {
              "color": "#EBF0F8"
             },
             "line": {
              "color": "white"
             }
            },
            "header": {
             "fill": {
              "color": "#C8D4E3"
             },
             "line": {
              "color": "white"
             }
            },
            "type": "table"
           }
          ]
         },
         "layout": {
          "annotationdefaults": {
           "arrowcolor": "#2a3f5f",
           "arrowhead": 0,
           "arrowwidth": 1
          },
          "autotypenumbers": "strict",
          "coloraxis": {
           "colorbar": {
            "outlinewidth": 0,
            "ticks": ""
           }
          },
          "colorscale": {
           "diverging": [
            [
             0,
             "#8e0152"
            ],
            [
             0.1,
             "#c51b7d"
            ],
            [
             0.2,
             "#de77ae"
            ],
            [
             0.3,
             "#f1b6da"
            ],
            [
             0.4,
             "#fde0ef"
            ],
            [
             0.5,
             "#f7f7f7"
            ],
            [
             0.6,
             "#e6f5d0"
            ],
            [
             0.7,
             "#b8e186"
            ],
            [
             0.8,
             "#7fbc41"
            ],
            [
             0.9,
             "#4d9221"
            ],
            [
             1,
             "#276419"
            ]
           ],
           "sequential": [
            [
             0,
             "#0d0887"
            ],
            [
             0.1111111111111111,
             "#46039f"
            ],
            [
             0.2222222222222222,
             "#7201a8"
            ],
            [
             0.3333333333333333,
             "#9c179e"
            ],
            [
             0.4444444444444444,
             "#bd3786"
            ],
            [
             0.5555555555555556,
             "#d8576b"
            ],
            [
             0.6666666666666666,
             "#ed7953"
            ],
            [
             0.7777777777777778,
             "#fb9f3a"
            ],
            [
             0.8888888888888888,
             "#fdca26"
            ],
            [
             1,
             "#f0f921"
            ]
           ],
           "sequentialminus": [
            [
             0,
             "#0d0887"
            ],
            [
             0.1111111111111111,
             "#46039f"
            ],
            [
             0.2222222222222222,
             "#7201a8"
            ],
            [
             0.3333333333333333,
             "#9c179e"
            ],
            [
             0.4444444444444444,
             "#bd3786"
            ],
            [
             0.5555555555555556,
             "#d8576b"
            ],
            [
             0.6666666666666666,
             "#ed7953"
            ],
            [
             0.7777777777777778,
             "#fb9f3a"
            ],
            [
             0.8888888888888888,
             "#fdca26"
            ],
            [
             1,
             "#f0f921"
            ]
           ]
          },
          "colorway": [
           "#636efa",
           "#EF553B",
           "#00cc96",
           "#ab63fa",
           "#FFA15A",
           "#19d3f3",
           "#FF6692",
           "#B6E880",
           "#FF97FF",
           "#FECB52"
          ],
          "font": {
           "color": "#2a3f5f"
          },
          "geo": {
           "bgcolor": "white",
           "lakecolor": "white",
           "landcolor": "#E5ECF6",
           "showlakes": true,
           "showland": true,
           "subunitcolor": "white"
          },
          "hoverlabel": {
           "align": "left"
          },
          "hovermode": "closest",
          "mapbox": {
           "style": "light"
          },
          "paper_bgcolor": "white",
          "plot_bgcolor": "#E5ECF6",
          "polar": {
           "angularaxis": {
            "gridcolor": "white",
            "linecolor": "white",
            "ticks": ""
           },
           "bgcolor": "#E5ECF6",
           "radialaxis": {
            "gridcolor": "white",
            "linecolor": "white",
            "ticks": ""
           }
          },
          "scene": {
           "xaxis": {
            "backgroundcolor": "#E5ECF6",
            "gridcolor": "white",
            "gridwidth": 2,
            "linecolor": "white",
            "showbackground": true,
            "ticks": "",
            "zerolinecolor": "white"
           },
           "yaxis": {
            "backgroundcolor": "#E5ECF6",
            "gridcolor": "white",
            "gridwidth": 2,
            "linecolor": "white",
            "showbackground": true,
            "ticks": "",
            "zerolinecolor": "white"
           },
           "zaxis": {
            "backgroundcolor": "#E5ECF6",
            "gridcolor": "white",
            "gridwidth": 2,
            "linecolor": "white",
            "showbackground": true,
            "ticks": "",
            "zerolinecolor": "white"
           }
          },
          "shapedefaults": {
           "line": {
            "color": "#2a3f5f"
           }
          },
          "ternary": {
           "aaxis": {
            "gridcolor": "white",
            "linecolor": "white",
            "ticks": ""
           },
           "baxis": {
            "gridcolor": "white",
            "linecolor": "white",
            "ticks": ""
           },
           "bgcolor": "#E5ECF6",
           "caxis": {
            "gridcolor": "white",
            "linecolor": "white",
            "ticks": ""
           }
          },
          "title": {
           "x": 0.05
          },
          "xaxis": {
           "automargin": true,
           "gridcolor": "white",
           "linecolor": "white",
           "ticks": "",
           "title": {
            "standoff": 15
           },
           "zerolinecolor": "white",
           "zerolinewidth": 2
          },
          "yaxis": {
           "automargin": true,
           "gridcolor": "white",
           "linecolor": "white",
           "ticks": "",
           "title": {
            "standoff": 15
           },
           "zerolinecolor": "white",
           "zerolinewidth": 2
          }
         }
        },
        "title": {
         "text": "Number of Features Selected (NFS) in Multiclass Problems"
        },
        "width": 800
       }
      }
     },
     "metadata": {},
     "output_type": "display_data"
    },
    {
     "data": {
      "application/vnd.plotly.v1+json": {
       "config": {
        "plotlyServerURL": "https://plot.ly"
       },
       "data": [
        {
         "hovertemplate": "variable=bo_FINAL_SCORE_TST<br>value=%{r}<br>id_ds=%{theta}<extra></extra>",
         "legendgroup": "bo_FINAL_SCORE_TST",
         "line": {
          "color": "#ab63fa",
          "dash": "solid"
         },
         "marker": {
          "symbol": "circle"
         },
         "mode": "lines",
         "name": "bo_FINAL_SCORE_TST",
         "r": [
          0.941958,
          0.9413572,
          0.9399304,
          0.3971506,
          0.8378439999999999,
          0.9884352,
          0.404796,
          0.9969984000000001,
          0.9638908,
          0.9712506,
          0.6712524,
          0.6251836,
          0.322616,
          0.1695324,
          0.7115199999999999,
          0.4932136,
          0.8646423999999999,
          0.9973948,
          0.8048911999999999,
          1,
          0.348015,
          0.5120351999999999,
          0.0177776,
          0.6780616,
          0.13951180000000002,
          0.239677,
          0.9491837999999999,
          0.9493522000000001,
          0.7690498,
          0.9356284,
          0.0839096,
          0.22269679999999997,
          0.2343532,
          0.7972408
         ],
         "showlegend": true,
         "subplot": "polar",
         "theta": [
          "V0",
          "V1",
          "V2",
          "V3",
          "V4",
          "V5",
          "V6",
          "V7",
          "V8",
          "V9",
          "V10",
          "V11",
          "V12",
          "V13",
          "V14",
          "V15",
          "V16",
          "V17",
          "V18",
          "V19",
          "V20",
          "V21",
          "V22",
          "V23",
          "V24",
          "V25",
          "V26",
          "V27",
          "V28",
          "V29",
          "V30",
          "V31",
          "V32",
          "V33"
         ],
         "type": "scatterpolar"
        },
        {
         "hovertemplate": "variable=ga_FINAL_SCORE_TST<br>value=%{r}<br>id_ds=%{theta}<extra></extra>",
         "legendgroup": "ga_FINAL_SCORE_TST",
         "line": {
          "color": "#FFA15A",
          "dash": "solid"
         },
         "marker": {
          "symbol": "circle"
         },
         "mode": "lines",
         "name": "ga_FINAL_SCORE_TST",
         "r": [
          0.9434142,
          0.9329666,
          0.9374964,
          0.3970662,
          0.8261213999999999,
          0.9888322,
          0.3706606,
          0.9972486,
          0.9679228,
          0.964035,
          0.657209,
          0.6485898000000001,
          0.3151366,
          0.16798839999999998,
          0.7101524,
          0.4704408,
          0.8608802000000001,
          0.9966272,
          0.801943,
          0.9994516000000001,
          0.3461094,
          0.5125126,
          0.0177878,
          0.6907014,
          0.1393816,
          0.23993380000000003,
          0.9527962000000001,
          0.9502271999999999,
          0.769143,
          0.9356232,
          0.07509360000000001,
          0.2183412,
          0.2263424,
          0.8246718
         ],
         "showlegend": true,
         "subplot": "polar",
         "theta": [
          "V0",
          "V1",
          "V2",
          "V3",
          "V4",
          "V5",
          "V6",
          "V7",
          "V8",
          "V9",
          "V10",
          "V11",
          "V12",
          "V13",
          "V14",
          "V15",
          "V16",
          "V17",
          "V18",
          "V19",
          "V20",
          "V21",
          "V22",
          "V23",
          "V24",
          "V25",
          "V26",
          "V27",
          "V28",
          "V29",
          "V30",
          "V31",
          "V32",
          "V33"
         ],
         "type": "scatterpolar"
        },
        {
         "hovertemplate": "variable=hyb_FINAL_SCORE_TST<br>value=%{r}<br>id_ds=%{theta}<extra></extra>",
         "legendgroup": "hyb_FINAL_SCORE_TST",
         "line": {
          "color": "#19d3f3",
          "dash": "solid"
         },
         "marker": {
          "symbol": "circle"
         },
         "mode": "lines",
         "name": "hyb_FINAL_SCORE_TST",
         "r": [
          0.9444032,
          0.9432853999999999,
          0.9382596,
          0.40171419999999997,
          0.8324693999999999,
          0.9885149999999999,
          0.3877504,
          0.9982916,
          0.9654654,
          0.9699962,
          0.6063364,
          0.8119341999999999,
          0.31821,
          0.168386,
          0.7101846,
          0.48463320000000004,
          0.8615982000000001,
          0.9965522,
          0.8056312,
          1,
          0.3473182,
          0.512278,
          0.0177796,
          0.6894364,
          0.142465,
          0.23897279999999999,
          0.9522299999999999,
          0.9498618000000001,
          0.7688792,
          0.935952,
          0.0797764,
          0.221153,
          0.23460160000000002,
          0.8318100000000002
         ],
         "showlegend": true,
         "subplot": "polar",
         "theta": [
          "V0",
          "V1",
          "V2",
          "V3",
          "V4",
          "V5",
          "V6",
          "V7",
          "V8",
          "V9",
          "V10",
          "V11",
          "V12",
          "V13",
          "V14",
          "V15",
          "V16",
          "V17",
          "V18",
          "V19",
          "V20",
          "V21",
          "V22",
          "V23",
          "V24",
          "V25",
          "V26",
          "V27",
          "V28",
          "V29",
          "V30",
          "V31",
          "V32",
          "V33"
         ],
         "type": "scatterpolar"
        }
       ],
       "layout": {
        "height": 800,
        "legend": {
         "title": {
          "text": "variable"
         },
         "tracegroupgap": 0
        },
        "polar": {
         "angularaxis": {
          "direction": "clockwise",
          "rotation": 90
         },
         "domain": {
          "x": [
           0,
           1
          ],
          "y": [
           0,
           1
          ]
         }
        },
        "template": {
         "data": {
          "bar": [
           {
            "error_x": {
             "color": "#2a3f5f"
            },
            "error_y": {
             "color": "#2a3f5f"
            },
            "marker": {
             "line": {
              "color": "#E5ECF6",
              "width": 0.5
             },
             "pattern": {
              "fillmode": "overlay",
              "size": 10,
              "solidity": 0.2
             }
            },
            "type": "bar"
           }
          ],
          "barpolar": [
           {
            "marker": {
             "line": {
              "color": "#E5ECF6",
              "width": 0.5
             },
             "pattern": {
              "fillmode": "overlay",
              "size": 10,
              "solidity": 0.2
             }
            },
            "type": "barpolar"
           }
          ],
          "carpet": [
           {
            "aaxis": {
             "endlinecolor": "#2a3f5f",
             "gridcolor": "white",
             "linecolor": "white",
             "minorgridcolor": "white",
             "startlinecolor": "#2a3f5f"
            },
            "baxis": {
             "endlinecolor": "#2a3f5f",
             "gridcolor": "white",
             "linecolor": "white",
             "minorgridcolor": "white",
             "startlinecolor": "#2a3f5f"
            },
            "type": "carpet"
           }
          ],
          "choropleth": [
           {
            "colorbar": {
             "outlinewidth": 0,
             "ticks": ""
            },
            "type": "choropleth"
           }
          ],
          "contour": [
           {
            "colorbar": {
             "outlinewidth": 0,
             "ticks": ""
            },
            "colorscale": [
             [
              0,
              "#0d0887"
             ],
             [
              0.1111111111111111,
              "#46039f"
             ],
             [
              0.2222222222222222,
              "#7201a8"
             ],
             [
              0.3333333333333333,
              "#9c179e"
             ],
             [
              0.4444444444444444,
              "#bd3786"
             ],
             [
              0.5555555555555556,
              "#d8576b"
             ],
             [
              0.6666666666666666,
              "#ed7953"
             ],
             [
              0.7777777777777778,
              "#fb9f3a"
             ],
             [
              0.8888888888888888,
              "#fdca26"
             ],
             [
              1,
              "#f0f921"
             ]
            ],
            "type": "contour"
           }
          ],
          "contourcarpet": [
           {
            "colorbar": {
             "outlinewidth": 0,
             "ticks": ""
            },
            "type": "contourcarpet"
           }
          ],
          "heatmap": [
           {
            "colorbar": {
             "outlinewidth": 0,
             "ticks": ""
            },
            "colorscale": [
             [
              0,
              "#0d0887"
             ],
             [
              0.1111111111111111,
              "#46039f"
             ],
             [
              0.2222222222222222,
              "#7201a8"
             ],
             [
              0.3333333333333333,
              "#9c179e"
             ],
             [
              0.4444444444444444,
              "#bd3786"
             ],
             [
              0.5555555555555556,
              "#d8576b"
             ],
             [
              0.6666666666666666,
              "#ed7953"
             ],
             [
              0.7777777777777778,
              "#fb9f3a"
             ],
             [
              0.8888888888888888,
              "#fdca26"
             ],
             [
              1,
              "#f0f921"
             ]
            ],
            "type": "heatmap"
           }
          ],
          "heatmapgl": [
           {
            "colorbar": {
             "outlinewidth": 0,
             "ticks": ""
            },
            "colorscale": [
             [
              0,
              "#0d0887"
             ],
             [
              0.1111111111111111,
              "#46039f"
             ],
             [
              0.2222222222222222,
              "#7201a8"
             ],
             [
              0.3333333333333333,
              "#9c179e"
             ],
             [
              0.4444444444444444,
              "#bd3786"
             ],
             [
              0.5555555555555556,
              "#d8576b"
             ],
             [
              0.6666666666666666,
              "#ed7953"
             ],
             [
              0.7777777777777778,
              "#fb9f3a"
             ],
             [
              0.8888888888888888,
              "#fdca26"
             ],
             [
              1,
              "#f0f921"
             ]
            ],
            "type": "heatmapgl"
           }
          ],
          "histogram": [
           {
            "marker": {
             "pattern": {
              "fillmode": "overlay",
              "size": 10,
              "solidity": 0.2
             }
            },
            "type": "histogram"
           }
          ],
          "histogram2d": [
           {
            "colorbar": {
             "outlinewidth": 0,
             "ticks": ""
            },
            "colorscale": [
             [
              0,
              "#0d0887"
             ],
             [
              0.1111111111111111,
              "#46039f"
             ],
             [
              0.2222222222222222,
              "#7201a8"
             ],
             [
              0.3333333333333333,
              "#9c179e"
             ],
             [
              0.4444444444444444,
              "#bd3786"
             ],
             [
              0.5555555555555556,
              "#d8576b"
             ],
             [
              0.6666666666666666,
              "#ed7953"
             ],
             [
              0.7777777777777778,
              "#fb9f3a"
             ],
             [
              0.8888888888888888,
              "#fdca26"
             ],
             [
              1,
              "#f0f921"
             ]
            ],
            "type": "histogram2d"
           }
          ],
          "histogram2dcontour": [
           {
            "colorbar": {
             "outlinewidth": 0,
             "ticks": ""
            },
            "colorscale": [
             [
              0,
              "#0d0887"
             ],
             [
              0.1111111111111111,
              "#46039f"
             ],
             [
              0.2222222222222222,
              "#7201a8"
             ],
             [
              0.3333333333333333,
              "#9c179e"
             ],
             [
              0.4444444444444444,
              "#bd3786"
             ],
             [
              0.5555555555555556,
              "#d8576b"
             ],
             [
              0.6666666666666666,
              "#ed7953"
             ],
             [
              0.7777777777777778,
              "#fb9f3a"
             ],
             [
              0.8888888888888888,
              "#fdca26"
             ],
             [
              1,
              "#f0f921"
             ]
            ],
            "type": "histogram2dcontour"
           }
          ],
          "mesh3d": [
           {
            "colorbar": {
             "outlinewidth": 0,
             "ticks": ""
            },
            "type": "mesh3d"
           }
          ],
          "parcoords": [
           {
            "line": {
             "colorbar": {
              "outlinewidth": 0,
              "ticks": ""
             }
            },
            "type": "parcoords"
           }
          ],
          "pie": [
           {
            "automargin": true,
            "type": "pie"
           }
          ],
          "scatter": [
           {
            "fillpattern": {
             "fillmode": "overlay",
             "size": 10,
             "solidity": 0.2
            },
            "type": "scatter"
           }
          ],
          "scatter3d": [
           {
            "line": {
             "colorbar": {
              "outlinewidth": 0,
              "ticks": ""
             }
            },
            "marker": {
             "colorbar": {
              "outlinewidth": 0,
              "ticks": ""
             }
            },
            "type": "scatter3d"
           }
          ],
          "scattercarpet": [
           {
            "marker": {
             "colorbar": {
              "outlinewidth": 0,
              "ticks": ""
             }
            },
            "type": "scattercarpet"
           }
          ],
          "scattergeo": [
           {
            "marker": {
             "colorbar": {
              "outlinewidth": 0,
              "ticks": ""
             }
            },
            "type": "scattergeo"
           }
          ],
          "scattergl": [
           {
            "marker": {
             "colorbar": {
              "outlinewidth": 0,
              "ticks": ""
             }
            },
            "type": "scattergl"
           }
          ],
          "scattermapbox": [
           {
            "marker": {
             "colorbar": {
              "outlinewidth": 0,
              "ticks": ""
             }
            },
            "type": "scattermapbox"
           }
          ],
          "scatterpolar": [
           {
            "marker": {
             "colorbar": {
              "outlinewidth": 0,
              "ticks": ""
             }
            },
            "type": "scatterpolar"
           }
          ],
          "scatterpolargl": [
           {
            "marker": {
             "colorbar": {
              "outlinewidth": 0,
              "ticks": ""
             }
            },
            "type": "scatterpolargl"
           }
          ],
          "scatterternary": [
           {
            "marker": {
             "colorbar": {
              "outlinewidth": 0,
              "ticks": ""
             }
            },
            "type": "scatterternary"
           }
          ],
          "surface": [
           {
            "colorbar": {
             "outlinewidth": 0,
             "ticks": ""
            },
            "colorscale": [
             [
              0,
              "#0d0887"
             ],
             [
              0.1111111111111111,
              "#46039f"
             ],
             [
              0.2222222222222222,
              "#7201a8"
             ],
             [
              0.3333333333333333,
              "#9c179e"
             ],
             [
              0.4444444444444444,
              "#bd3786"
             ],
             [
              0.5555555555555556,
              "#d8576b"
             ],
             [
              0.6666666666666666,
              "#ed7953"
             ],
             [
              0.7777777777777778,
              "#fb9f3a"
             ],
             [
              0.8888888888888888,
              "#fdca26"
             ],
             [
              1,
              "#f0f921"
             ]
            ],
            "type": "surface"
           }
          ],
          "table": [
           {
            "cells": {
             "fill": {
              "color": "#EBF0F8"
             },
             "line": {
              "color": "white"
             }
            },
            "header": {
             "fill": {
              "color": "#C8D4E3"
             },
             "line": {
              "color": "white"
             }
            },
            "type": "table"
           }
          ]
         },
         "layout": {
          "annotationdefaults": {
           "arrowcolor": "#2a3f5f",
           "arrowhead": 0,
           "arrowwidth": 1
          },
          "autotypenumbers": "strict",
          "coloraxis": {
           "colorbar": {
            "outlinewidth": 0,
            "ticks": ""
           }
          },
          "colorscale": {
           "diverging": [
            [
             0,
             "#8e0152"
            ],
            [
             0.1,
             "#c51b7d"
            ],
            [
             0.2,
             "#de77ae"
            ],
            [
             0.3,
             "#f1b6da"
            ],
            [
             0.4,
             "#fde0ef"
            ],
            [
             0.5,
             "#f7f7f7"
            ],
            [
             0.6,
             "#e6f5d0"
            ],
            [
             0.7,
             "#b8e186"
            ],
            [
             0.8,
             "#7fbc41"
            ],
            [
             0.9,
             "#4d9221"
            ],
            [
             1,
             "#276419"
            ]
           ],
           "sequential": [
            [
             0,
             "#0d0887"
            ],
            [
             0.1111111111111111,
             "#46039f"
            ],
            [
             0.2222222222222222,
             "#7201a8"
            ],
            [
             0.3333333333333333,
             "#9c179e"
            ],
            [
             0.4444444444444444,
             "#bd3786"
            ],
            [
             0.5555555555555556,
             "#d8576b"
            ],
            [
             0.6666666666666666,
             "#ed7953"
            ],
            [
             0.7777777777777778,
             "#fb9f3a"
            ],
            [
             0.8888888888888888,
             "#fdca26"
            ],
            [
             1,
             "#f0f921"
            ]
           ],
           "sequentialminus": [
            [
             0,
             "#0d0887"
            ],
            [
             0.1111111111111111,
             "#46039f"
            ],
            [
             0.2222222222222222,
             "#7201a8"
            ],
            [
             0.3333333333333333,
             "#9c179e"
            ],
            [
             0.4444444444444444,
             "#bd3786"
            ],
            [
             0.5555555555555556,
             "#d8576b"
            ],
            [
             0.6666666666666666,
             "#ed7953"
            ],
            [
             0.7777777777777778,
             "#fb9f3a"
            ],
            [
             0.8888888888888888,
             "#fdca26"
            ],
            [
             1,
             "#f0f921"
            ]
           ]
          },
          "colorway": [
           "#636efa",
           "#EF553B",
           "#00cc96",
           "#ab63fa",
           "#FFA15A",
           "#19d3f3",
           "#FF6692",
           "#B6E880",
           "#FF97FF",
           "#FECB52"
          ],
          "font": {
           "color": "#2a3f5f"
          },
          "geo": {
           "bgcolor": "white",
           "lakecolor": "white",
           "landcolor": "#E5ECF6",
           "showlakes": true,
           "showland": true,
           "subunitcolor": "white"
          },
          "hoverlabel": {
           "align": "left"
          },
          "hovermode": "closest",
          "mapbox": {
           "style": "light"
          },
          "paper_bgcolor": "white",
          "plot_bgcolor": "#E5ECF6",
          "polar": {
           "angularaxis": {
            "gridcolor": "white",
            "linecolor": "white",
            "ticks": ""
           },
           "bgcolor": "#E5ECF6",
           "radialaxis": {
            "gridcolor": "white",
            "linecolor": "white",
            "ticks": ""
           }
          },
          "scene": {
           "xaxis": {
            "backgroundcolor": "#E5ECF6",
            "gridcolor": "white",
            "gridwidth": 2,
            "linecolor": "white",
            "showbackground": true,
            "ticks": "",
            "zerolinecolor": "white"
           },
           "yaxis": {
            "backgroundcolor": "#E5ECF6",
            "gridcolor": "white",
            "gridwidth": 2,
            "linecolor": "white",
            "showbackground": true,
            "ticks": "",
            "zerolinecolor": "white"
           },
           "zaxis": {
            "backgroundcolor": "#E5ECF6",
            "gridcolor": "white",
            "gridwidth": 2,
            "linecolor": "white",
            "showbackground": true,
            "ticks": "",
            "zerolinecolor": "white"
           }
          },
          "shapedefaults": {
           "line": {
            "color": "#2a3f5f"
           }
          },
          "ternary": {
           "aaxis": {
            "gridcolor": "white",
            "linecolor": "white",
            "ticks": ""
           },
           "baxis": {
            "gridcolor": "white",
            "linecolor": "white",
            "ticks": ""
           },
           "bgcolor": "#E5ECF6",
           "caxis": {
            "gridcolor": "white",
            "linecolor": "white",
            "ticks": ""
           }
          },
          "title": {
           "x": 0.05
          },
          "xaxis": {
           "automargin": true,
           "gridcolor": "white",
           "linecolor": "white",
           "ticks": "",
           "title": {
            "standoff": 15
           },
           "zerolinecolor": "white",
           "zerolinewidth": 2
          },
          "yaxis": {
           "automargin": true,
           "gridcolor": "white",
           "linecolor": "white",
           "ticks": "",
           "title": {
            "standoff": 15
           },
           "zerolinecolor": "white",
           "zerolinewidth": 2
          }
         }
        },
        "title": {
         "text": "F1_macro in Multiclass Problems (bigger better)"
        },
        "width": 800
       }
      }
     },
     "metadata": {},
     "output_type": "display_data"
    }
   ],
   "source": [
    "mat_merge_melt = mat_merge.query('score_type==\"f1_macro\"').sort_values('bo_NFS', ascending=False).melt(id_vars=['name_file'], value_vars=['bo_NFS', 'ga_NFS', 'hyb_NFS'])\n",
    "mat_merge_melt['id_ds'] = mat_merge_melt['name_file'].map(dict(zip(mat_merge_melt['name_file'].unique(), ['V'+str(i) for i in range(len(mat_merge_melt['name_file'].unique()))])))\n",
    "#display(mat_merge_melt)\n",
    "\n",
    "fig = px.line_polar(mat_merge_melt, r = 'value', theta = 'id_ds', \n",
    "#                     line_close = True,\n",
    "                    color = 'variable', color_discrete_map = {'A': 'dodgerblue', 'B': 'gold', 'C': 'green'},\n",
    "                     title='Number of Features Selected (NFS) in Multiclass Problems',\n",
    "#                    line_dash='variable'\n",
    "                   )\n",
    "# fig.update_traces(fill = 'toself')\n",
    "fig.update_layout(width=800, height=800)\n",
    "fig.show() \n",
    "\n",
    "mat_merge_melt = mat_merge.query('score_type==\"f1_macro\"').sort_values('bo_NFS', ascending=False).melt(id_vars=['name_file'], value_vars=['bo_FINAL_SCORE_TST', 'ga_FINAL_SCORE_TST', 'hyb_FINAL_SCORE_TST'])\n",
    "mat_merge_melt['id_ds'] = mat_merge_melt['name_file'].map(dict(zip(mat_merge_melt['name_file'].unique(), ['V'+str(i) for i in range(len(mat_merge_melt['name_file'].unique()))])))\n",
    "mat_merge_melt.head()\n",
    "\n",
    "fig = px.line_polar(mat_merge_melt, r = 'value', theta = 'id_ds', \n",
    "#                     line_close = True,\n",
    "                    color = 'variable', color_discrete_map = {'A': 'dodgerblue', 'B': 'gold', 'C': 'green'},\n",
    "                     title='F1_macro in Multiclass Problems (bigger better)',\n",
    "#                    line_dash='variable'\n",
    "                   )\n",
    "fig.update_layout(width=800, height=800)\n",
    "fig.show() \n"
   ]
  },
  {
   "cell_type": "markdown",
   "id": "76d46358",
   "metadata": {},
   "source": [
    "# Save Results"
   ]
  },
  {
   "cell_type": "code",
   "execution_count": 47,
   "id": "5d445377",
   "metadata": {
    "ExecuteTime": {
     "end_time": "2023-09-18T20:02:26.560990Z",
     "start_time": "2023-09-18T20:02:26.545440Z"
    }
   },
   "outputs": [],
   "source": [
    "mat_merge.to_csv('mat_merge_18sep23.csv', index=False)"
   ]
  },
  {
   "cell_type": "code",
   "execution_count": 48,
   "id": "d0799692",
   "metadata": {
    "ExecuteTime": {
     "end_time": "2023-09-18T20:02:26.576636Z",
     "start_time": "2023-09-18T20:02:26.560990Z"
    }
   },
   "outputs": [
    {
     "data": {
      "text/plain": [
       "score_type\n",
       "logloss     44\n",
       "f1_macro    34\n",
       "MSE/RMSE    22\n",
       "Name: count, dtype: int64"
      ]
     },
     "execution_count": 48,
     "metadata": {},
     "output_type": "execute_result"
    }
   ],
   "source": [
    "mat_merge.score_type.value_counts()"
   ]
  },
  {
   "cell_type": "code",
   "execution_count": 49,
   "id": "d46cae17",
   "metadata": {
    "ExecuteTime": {
     "end_time": "2023-09-18T20:02:26.623317Z",
     "start_time": "2023-09-18T20:02:26.576636Z"
    }
   },
   "outputs": [
    {
     "data": {
      "text/html": [
       "<div>\n",
       "<style scoped>\n",
       "    .dataframe tbody tr th:only-of-type {\n",
       "        vertical-align: middle;\n",
       "    }\n",
       "\n",
       "    .dataframe tbody tr th {\n",
       "        vertical-align: top;\n",
       "    }\n",
       "\n",
       "    .dataframe thead th {\n",
       "        text-align: right;\n",
       "    }\n",
       "</style>\n",
       "<table border=\"1\" class=\"dataframe\">\n",
       "  <thead>\n",
       "    <tr style=\"text-align: right;\">\n",
       "      <th></th>\n",
       "      <th>index</th>\n",
       "      <th>score_type</th>\n",
       "      <th>num_rows</th>\n",
       "      <th>num_cols</th>\n",
       "      <th>num_classes</th>\n",
       "      <th>train_val_size</th>\n",
       "      <th>bo_elapsed_time</th>\n",
       "      <th>hyb_elapsed_time</th>\n",
       "      <th>ga_elapsed_time</th>\n",
       "    </tr>\n",
       "  </thead>\n",
       "  <tbody>\n",
       "    <tr>\n",
       "      <th>0</th>\n",
       "      <td>9</td>\n",
       "      <td>f1_macro</td>\n",
       "      <td>9144</td>\n",
       "      <td>220</td>\n",
       "      <td>8</td>\n",
       "      <td>4572</td>\n",
       "      <td>78.115690</td>\n",
       "      <td>123.565510</td>\n",
       "      <td>1034.558482</td>\n",
       "    </tr>\n",
       "    <tr>\n",
       "      <th>1</th>\n",
       "      <td>50</td>\n",
       "      <td>f1_macro</td>\n",
       "      <td>22272</td>\n",
       "      <td>25</td>\n",
       "      <td>75</td>\n",
       "      <td>11136</td>\n",
       "      <td>155.239546</td>\n",
       "      <td>128.728807</td>\n",
       "      <td>946.720026</td>\n",
       "    </tr>\n",
       "    <tr>\n",
       "      <th>2</th>\n",
       "      <td>52</td>\n",
       "      <td>MSE/RMSE</td>\n",
       "      <td>22784</td>\n",
       "      <td>16</td>\n",
       "      <td>2045</td>\n",
       "      <td>11392</td>\n",
       "      <td>96.925234</td>\n",
       "      <td>123.040076</td>\n",
       "      <td>889.791384</td>\n",
       "    </tr>\n",
       "    <tr>\n",
       "      <th>3</th>\n",
       "      <td>58</td>\n",
       "      <td>MSE/RMSE</td>\n",
       "      <td>21613</td>\n",
       "      <td>132</td>\n",
       "      <td>4028</td>\n",
       "      <td>10806</td>\n",
       "      <td>85.480952</td>\n",
       "      <td>121.913883</td>\n",
       "      <td>815.425957</td>\n",
       "    </tr>\n",
       "    <tr>\n",
       "      <th>4</th>\n",
       "      <td>86</td>\n",
       "      <td>MSE/RMSE</td>\n",
       "      <td>21263</td>\n",
       "      <td>81</td>\n",
       "      <td>3007</td>\n",
       "      <td>10631</td>\n",
       "      <td>82.716661</td>\n",
       "      <td>122.149053</td>\n",
       "      <td>782.301350</td>\n",
       "    </tr>\n",
       "    <tr>\n",
       "      <th>5</th>\n",
       "      <td>37</td>\n",
       "      <td>f1_macro</td>\n",
       "      <td>8192</td>\n",
       "      <td>21</td>\n",
       "      <td>56</td>\n",
       "      <td>4096</td>\n",
       "      <td>157.998138</td>\n",
       "      <td>130.161974</td>\n",
       "      <td>772.118044</td>\n",
       "    </tr>\n",
       "    <tr>\n",
       "      <th>6</th>\n",
       "      <td>29</td>\n",
       "      <td>MSE/RMSE</td>\n",
       "      <td>18249</td>\n",
       "      <td>67</td>\n",
       "      <td>259</td>\n",
       "      <td>9124</td>\n",
       "      <td>59.064614</td>\n",
       "      <td>121.656104</td>\n",
       "      <td>567.933510</td>\n",
       "    </tr>\n",
       "    <tr>\n",
       "      <th>7</th>\n",
       "      <td>46</td>\n",
       "      <td>MSE/RMSE</td>\n",
       "      <td>18063</td>\n",
       "      <td>5</td>\n",
       "      <td>133</td>\n",
       "      <td>9031</td>\n",
       "      <td>57.134452</td>\n",
       "      <td>122.056435</td>\n",
       "      <td>538.471373</td>\n",
       "    </tr>\n",
       "    <tr>\n",
       "      <th>8</th>\n",
       "      <td>1</td>\n",
       "      <td>f1_macro</td>\n",
       "      <td>5665</td>\n",
       "      <td>104</td>\n",
       "      <td>102</td>\n",
       "      <td>2832</td>\n",
       "      <td>87.739363</td>\n",
       "      <td>124.397921</td>\n",
       "      <td>491.640654</td>\n",
       "    </tr>\n",
       "    <tr>\n",
       "      <th>9</th>\n",
       "      <td>44</td>\n",
       "      <td>MSE/RMSE</td>\n",
       "      <td>16599</td>\n",
       "      <td>18</td>\n",
       "      <td>61</td>\n",
       "      <td>8299</td>\n",
       "      <td>47.285192</td>\n",
       "      <td>121.440348</td>\n",
       "      <td>454.307166</td>\n",
       "    </tr>\n",
       "    <tr>\n",
       "      <th>10</th>\n",
       "      <td>13</td>\n",
       "      <td>MSE/RMSE</td>\n",
       "      <td>14480</td>\n",
       "      <td>32</td>\n",
       "      <td>7275</td>\n",
       "      <td>7240</td>\n",
       "      <td>35.142360</td>\n",
       "      <td>121.590867</td>\n",
       "      <td>363.300025</td>\n",
       "    </tr>\n",
       "    <tr>\n",
       "      <th>11</th>\n",
       "      <td>65</td>\n",
       "      <td>MSE/RMSE</td>\n",
       "      <td>13932</td>\n",
       "      <td>15</td>\n",
       "      <td>2111</td>\n",
       "      <td>6966</td>\n",
       "      <td>32.752847</td>\n",
       "      <td>115.863354</td>\n",
       "      <td>319.291665</td>\n",
       "    </tr>\n",
       "    <tr>\n",
       "      <th>12</th>\n",
       "      <td>17</td>\n",
       "      <td>MSE/RMSE</td>\n",
       "      <td>13932</td>\n",
       "      <td>16</td>\n",
       "      <td>2111</td>\n",
       "      <td>6966</td>\n",
       "      <td>32.778374</td>\n",
       "      <td>116.615127</td>\n",
       "      <td>318.994422</td>\n",
       "    </tr>\n",
       "    <tr>\n",
       "      <th>13</th>\n",
       "      <td>25</td>\n",
       "      <td>MSE/RMSE</td>\n",
       "      <td>13750</td>\n",
       "      <td>40</td>\n",
       "      <td>35</td>\n",
       "      <td>6875</td>\n",
       "      <td>30.876787</td>\n",
       "      <td>121.139489</td>\n",
       "      <td>303.879840</td>\n",
       "    </tr>\n",
       "    <tr>\n",
       "      <th>14</th>\n",
       "      <td>0</td>\n",
       "      <td>MSE/RMSE</td>\n",
       "      <td>13750</td>\n",
       "      <td>40</td>\n",
       "      <td>35</td>\n",
       "      <td>6875</td>\n",
       "      <td>30.819123</td>\n",
       "      <td>120.885937</td>\n",
       "      <td>302.205161</td>\n",
       "    </tr>\n",
       "    <tr>\n",
       "      <th>15</th>\n",
       "      <td>39</td>\n",
       "      <td>f1_macro</td>\n",
       "      <td>10738</td>\n",
       "      <td>14</td>\n",
       "      <td>51</td>\n",
       "      <td>5369</td>\n",
       "      <td>53.785140</td>\n",
       "      <td>124.844603</td>\n",
       "      <td>301.009633</td>\n",
       "    </tr>\n",
       "    <tr>\n",
       "      <th>16</th>\n",
       "      <td>48</td>\n",
       "      <td>f1_macro</td>\n",
       "      <td>13910</td>\n",
       "      <td>128</td>\n",
       "      <td>6</td>\n",
       "      <td>6955</td>\n",
       "      <td>26.576891</td>\n",
       "      <td>122.265444</td>\n",
       "      <td>251.208007</td>\n",
       "    </tr>\n",
       "    <tr>\n",
       "      <th>17</th>\n",
       "      <td>70</td>\n",
       "      <td>MSE/RMSE</td>\n",
       "      <td>11934</td>\n",
       "      <td>14</td>\n",
       "      <td>51</td>\n",
       "      <td>5967</td>\n",
       "      <td>25.056880</td>\n",
       "      <td>59.044064</td>\n",
       "      <td>243.272430</td>\n",
       "    </tr>\n",
       "    <tr>\n",
       "      <th>18</th>\n",
       "      <td>14</td>\n",
       "      <td>MSE/RMSE</td>\n",
       "      <td>10886</td>\n",
       "      <td>47</td>\n",
       "      <td>822</td>\n",
       "      <td>5443</td>\n",
       "      <td>19.572479</td>\n",
       "      <td>109.822899</td>\n",
       "      <td>204.503078</td>\n",
       "    </tr>\n",
       "    <tr>\n",
       "      <th>19</th>\n",
       "      <td>76</td>\n",
       "      <td>f1_macro</td>\n",
       "      <td>15000</td>\n",
       "      <td>48</td>\n",
       "      <td>11</td>\n",
       "      <td>7500</td>\n",
       "      <td>28.147690</td>\n",
       "      <td>113.283203</td>\n",
       "      <td>170.671497</td>\n",
       "    </tr>\n",
       "    <tr>\n",
       "      <th>20</th>\n",
       "      <td>49</td>\n",
       "      <td>MSE/RMSE</td>\n",
       "      <td>10000</td>\n",
       "      <td>12</td>\n",
       "      <td>10000</td>\n",
       "      <td>5000</td>\n",
       "      <td>16.201379</td>\n",
       "      <td>69.596100</td>\n",
       "      <td>170.466086</td>\n",
       "    </tr>\n",
       "    <tr>\n",
       "      <th>21</th>\n",
       "      <td>91</td>\n",
       "      <td>MSE/RMSE</td>\n",
       "      <td>8885</td>\n",
       "      <td>266</td>\n",
       "      <td>1336</td>\n",
       "      <td>4442</td>\n",
       "      <td>13.466955</td>\n",
       "      <td>120.544030</td>\n",
       "      <td>157.860758</td>\n",
       "    </tr>\n",
       "    <tr>\n",
       "      <th>22</th>\n",
       "      <td>99</td>\n",
       "      <td>MSE/RMSE</td>\n",
       "      <td>8885</td>\n",
       "      <td>251</td>\n",
       "      <td>1336</td>\n",
       "      <td>4442</td>\n",
       "      <td>13.692299</td>\n",
       "      <td>120.482995</td>\n",
       "      <td>157.173710</td>\n",
       "    </tr>\n",
       "    <tr>\n",
       "      <th>23</th>\n",
       "      <td>89</td>\n",
       "      <td>f1_macro</td>\n",
       "      <td>5500</td>\n",
       "      <td>40</td>\n",
       "      <td>11</td>\n",
       "      <td>2750</td>\n",
       "      <td>12.037161</td>\n",
       "      <td>62.258556</td>\n",
       "      <td>132.430061</td>\n",
       "    </tr>\n",
       "    <tr>\n",
       "      <th>24</th>\n",
       "      <td>77</td>\n",
       "      <td>MSE/RMSE</td>\n",
       "      <td>8192</td>\n",
       "      <td>32</td>\n",
       "      <td>7861</td>\n",
       "      <td>4096</td>\n",
       "      <td>11.237437</td>\n",
       "      <td>120.875221</td>\n",
       "      <td>119.944320</td>\n",
       "    </tr>\n",
       "    <tr>\n",
       "      <th>25</th>\n",
       "      <td>30</td>\n",
       "      <td>MSE/RMSE</td>\n",
       "      <td>8192</td>\n",
       "      <td>32</td>\n",
       "      <td>6284</td>\n",
       "      <td>4096</td>\n",
       "      <td>11.512298</td>\n",
       "      <td>121.407784</td>\n",
       "      <td>119.536815</td>\n",
       "    </tr>\n",
       "    <tr>\n",
       "      <th>26</th>\n",
       "      <td>22</td>\n",
       "      <td>f1_macro</td>\n",
       "      <td>9298</td>\n",
       "      <td>256</td>\n",
       "      <td>10</td>\n",
       "      <td>4649</td>\n",
       "      <td>10.826599</td>\n",
       "      <td>59.847102</td>\n",
       "      <td>118.297495</td>\n",
       "    </tr>\n",
       "    <tr>\n",
       "      <th>27</th>\n",
       "      <td>62</td>\n",
       "      <td>f1_macro</td>\n",
       "      <td>20000</td>\n",
       "      <td>16</td>\n",
       "      <td>26</td>\n",
       "      <td>10000</td>\n",
       "      <td>13.497695</td>\n",
       "      <td>49.456196</td>\n",
       "      <td>105.176810</td>\n",
       "    </tr>\n",
       "    <tr>\n",
       "      <th>28</th>\n",
       "      <td>56</td>\n",
       "      <td>f1_macro</td>\n",
       "      <td>4704</td>\n",
       "      <td>75</td>\n",
       "      <td>3</td>\n",
       "      <td>2352</td>\n",
       "      <td>12.566042</td>\n",
       "      <td>104.565330</td>\n",
       "      <td>101.216954</td>\n",
       "    </tr>\n",
       "    <tr>\n",
       "      <th>29</th>\n",
       "      <td>74</td>\n",
       "      <td>f1_macro</td>\n",
       "      <td>10992</td>\n",
       "      <td>16</td>\n",
       "      <td>10</td>\n",
       "      <td>5496</td>\n",
       "      <td>16.105185</td>\n",
       "      <td>70.659601</td>\n",
       "      <td>94.535306</td>\n",
       "    </tr>\n",
       "    <tr>\n",
       "      <th>30</th>\n",
       "      <td>66</td>\n",
       "      <td>f1_macro</td>\n",
       "      <td>20000</td>\n",
       "      <td>20</td>\n",
       "      <td>5</td>\n",
       "      <td>10000</td>\n",
       "      <td>13.194955</td>\n",
       "      <td>70.044574</td>\n",
       "      <td>83.280558</td>\n",
       "    </tr>\n",
       "    <tr>\n",
       "      <th>31</th>\n",
       "      <td>81</td>\n",
       "      <td>f1_macro</td>\n",
       "      <td>2310</td>\n",
       "      <td>19</td>\n",
       "      <td>7</td>\n",
       "      <td>1155</td>\n",
       "      <td>11.821056</td>\n",
       "      <td>20.403602</td>\n",
       "      <td>76.630001</td>\n",
       "    </tr>\n",
       "    <tr>\n",
       "      <th>32</th>\n",
       "      <td>90</td>\n",
       "      <td>f1_macro</td>\n",
       "      <td>2800</td>\n",
       "      <td>46</td>\n",
       "      <td>5</td>\n",
       "      <td>1400</td>\n",
       "      <td>10.212665</td>\n",
       "      <td>44.651267</td>\n",
       "      <td>73.483596</td>\n",
       "    </tr>\n",
       "    <tr>\n",
       "      <th>33</th>\n",
       "      <td>33</td>\n",
       "      <td>f1_macro</td>\n",
       "      <td>2796</td>\n",
       "      <td>99</td>\n",
       "      <td>6</td>\n",
       "      <td>1398</td>\n",
       "      <td>2.904640</td>\n",
       "      <td>19.776322</td>\n",
       "      <td>71.526640</td>\n",
       "    </tr>\n",
       "    <tr>\n",
       "      <th>34</th>\n",
       "      <td>53</td>\n",
       "      <td>f1_macro</td>\n",
       "      <td>3772</td>\n",
       "      <td>52</td>\n",
       "      <td>4</td>\n",
       "      <td>1886</td>\n",
       "      <td>10.258341</td>\n",
       "      <td>90.753925</td>\n",
       "      <td>70.849079</td>\n",
       "    </tr>\n",
       "    <tr>\n",
       "      <th>35</th>\n",
       "      <td>42</td>\n",
       "      <td>f1_macro</td>\n",
       "      <td>3186</td>\n",
       "      <td>360</td>\n",
       "      <td>3</td>\n",
       "      <td>1593</td>\n",
       "      <td>3.409213</td>\n",
       "      <td>18.976117</td>\n",
       "      <td>62.859385</td>\n",
       "    </tr>\n",
       "    <tr>\n",
       "      <th>36</th>\n",
       "      <td>67</td>\n",
       "      <td>MSE/RMSE</td>\n",
       "      <td>4450</td>\n",
       "      <td>202</td>\n",
       "      <td>800</td>\n",
       "      <td>2225</td>\n",
       "      <td>3.775442</td>\n",
       "      <td>55.191006</td>\n",
       "      <td>62.719917</td>\n",
       "    </tr>\n",
       "    <tr>\n",
       "      <th>37</th>\n",
       "      <td>26</td>\n",
       "      <td>f1_macro</td>\n",
       "      <td>3772</td>\n",
       "      <td>54</td>\n",
       "      <td>3</td>\n",
       "      <td>1886</td>\n",
       "      <td>8.757648</td>\n",
       "      <td>48.545076</td>\n",
       "      <td>61.069784</td>\n",
       "    </tr>\n",
       "    <tr>\n",
       "      <th>38</th>\n",
       "      <td>12</td>\n",
       "      <td>f1_macro</td>\n",
       "      <td>9961</td>\n",
       "      <td>14</td>\n",
       "      <td>9</td>\n",
       "      <td>4980</td>\n",
       "      <td>10.329678</td>\n",
       "      <td>23.186748</td>\n",
       "      <td>60.232425</td>\n",
       "    </tr>\n",
       "    <tr>\n",
       "      <th>39</th>\n",
       "      <td>19</td>\n",
       "      <td>MSE/RMSE</td>\n",
       "      <td>4440</td>\n",
       "      <td>130</td>\n",
       "      <td>1945</td>\n",
       "      <td>2220</td>\n",
       "      <td>3.703641</td>\n",
       "      <td>52.771551</td>\n",
       "      <td>59.883145</td>\n",
       "    </tr>\n",
       "    <tr>\n",
       "      <th>40</th>\n",
       "      <td>47</td>\n",
       "      <td>f1_macro</td>\n",
       "      <td>6118</td>\n",
       "      <td>51</td>\n",
       "      <td>6</td>\n",
       "      <td>3059</td>\n",
       "      <td>9.023667</td>\n",
       "      <td>48.176305</td>\n",
       "      <td>59.046549</td>\n",
       "    </tr>\n",
       "    <tr>\n",
       "      <th>41</th>\n",
       "      <td>79</td>\n",
       "      <td>f1_macro</td>\n",
       "      <td>6430</td>\n",
       "      <td>36</td>\n",
       "      <td>6</td>\n",
       "      <td>3215</td>\n",
       "      <td>6.658423</td>\n",
       "      <td>52.012818</td>\n",
       "      <td>54.468552</td>\n",
       "    </tr>\n",
       "    <tr>\n",
       "      <th>42</th>\n",
       "      <td>71</td>\n",
       "      <td>f1_macro</td>\n",
       "      <td>5620</td>\n",
       "      <td>64</td>\n",
       "      <td>10</td>\n",
       "      <td>2810</td>\n",
       "      <td>3.561492</td>\n",
       "      <td>21.292437</td>\n",
       "      <td>50.425161</td>\n",
       "    </tr>\n",
       "    <tr>\n",
       "      <th>43</th>\n",
       "      <td>28</td>\n",
       "      <td>f1_macro</td>\n",
       "      <td>2500</td>\n",
       "      <td>226</td>\n",
       "      <td>3</td>\n",
       "      <td>1250</td>\n",
       "      <td>2.607980</td>\n",
       "      <td>12.601407</td>\n",
       "      <td>48.886782</td>\n",
       "    </tr>\n",
       "    <tr>\n",
       "      <th>44</th>\n",
       "      <td>72</td>\n",
       "      <td>f1_macro</td>\n",
       "      <td>5473</td>\n",
       "      <td>10</td>\n",
       "      <td>5</td>\n",
       "      <td>2736</td>\n",
       "      <td>5.550418</td>\n",
       "      <td>22.304516</td>\n",
       "      <td>48.189109</td>\n",
       "    </tr>\n",
       "    <tr>\n",
       "      <th>45</th>\n",
       "      <td>85</td>\n",
       "      <td>f1_macro</td>\n",
       "      <td>3190</td>\n",
       "      <td>287</td>\n",
       "      <td>3</td>\n",
       "      <td>1595</td>\n",
       "      <td>1.998089</td>\n",
       "      <td>6.904888</td>\n",
       "      <td>47.817464</td>\n",
       "    </tr>\n",
       "    <tr>\n",
       "      <th>46</th>\n",
       "      <td>27</td>\n",
       "      <td>MSE/RMSE</td>\n",
       "      <td>2930</td>\n",
       "      <td>354</td>\n",
       "      <td>1032</td>\n",
       "      <td>1465</td>\n",
       "      <td>2.283685</td>\n",
       "      <td>21.468741</td>\n",
       "      <td>47.586227</td>\n",
       "    </tr>\n",
       "    <tr>\n",
       "      <th>47</th>\n",
       "      <td>8</td>\n",
       "      <td>MSE/RMSE</td>\n",
       "      <td>4046</td>\n",
       "      <td>35</td>\n",
       "      <td>3415</td>\n",
       "      <td>2023</td>\n",
       "      <td>2.998764</td>\n",
       "      <td>18.639819</td>\n",
       "      <td>46.494552</td>\n",
       "    </tr>\n",
       "    <tr>\n",
       "      <th>48</th>\n",
       "      <td>97</td>\n",
       "      <td>f1_macro</td>\n",
       "      <td>6497</td>\n",
       "      <td>11</td>\n",
       "      <td>7</td>\n",
       "      <td>3248</td>\n",
       "      <td>4.206362</td>\n",
       "      <td>7.260074</td>\n",
       "      <td>45.431471</td>\n",
       "    </tr>\n",
       "    <tr>\n",
       "      <th>49</th>\n",
       "      <td>31</td>\n",
       "      <td>f1_macro</td>\n",
       "      <td>2126</td>\n",
       "      <td>35</td>\n",
       "      <td>10</td>\n",
       "      <td>1063</td>\n",
       "      <td>1.448445</td>\n",
       "      <td>2.220179</td>\n",
       "      <td>45.422072</td>\n",
       "    </tr>\n",
       "    <tr>\n",
       "      <th>50</th>\n",
       "      <td>61</td>\n",
       "      <td>f1_macro</td>\n",
       "      <td>3200</td>\n",
       "      <td>48</td>\n",
       "      <td>10</td>\n",
       "      <td>1600</td>\n",
       "      <td>2.309882</td>\n",
       "      <td>9.211722</td>\n",
       "      <td>42.658515</td>\n",
       "    </tr>\n",
       "    <tr>\n",
       "      <th>51</th>\n",
       "      <td>7</td>\n",
       "      <td>f1_macro</td>\n",
       "      <td>9873</td>\n",
       "      <td>32</td>\n",
       "      <td>5</td>\n",
       "      <td>4936</td>\n",
       "      <td>3.208464</td>\n",
       "      <td>15.065791</td>\n",
       "      <td>40.999123</td>\n",
       "    </tr>\n",
       "    <tr>\n",
       "      <th>52</th>\n",
       "      <td>96</td>\n",
       "      <td>f1_macro</td>\n",
       "      <td>4898</td>\n",
       "      <td>11</td>\n",
       "      <td>7</td>\n",
       "      <td>2449</td>\n",
       "      <td>2.942487</td>\n",
       "      <td>7.103163</td>\n",
       "      <td>40.337519</td>\n",
       "    </tr>\n",
       "    <tr>\n",
       "      <th>53</th>\n",
       "      <td>34</td>\n",
       "      <td>logloss</td>\n",
       "      <td>6598</td>\n",
       "      <td>168</td>\n",
       "      <td>2</td>\n",
       "      <td>3299</td>\n",
       "      <td>1.842059</td>\n",
       "      <td>1.256750</td>\n",
       "      <td>40.330998</td>\n",
       "    </tr>\n",
       "    <tr>\n",
       "      <th>54</th>\n",
       "      <td>68</td>\n",
       "      <td>logloss</td>\n",
       "      <td>8124</td>\n",
       "      <td>125</td>\n",
       "      <td>2</td>\n",
       "      <td>4062</td>\n",
       "      <td>1.984475</td>\n",
       "      <td>3.993024</td>\n",
       "      <td>39.471922</td>\n",
       "    </tr>\n",
       "    <tr>\n",
       "      <th>55</th>\n",
       "      <td>94</td>\n",
       "      <td>f1_macro</td>\n",
       "      <td>5456</td>\n",
       "      <td>24</td>\n",
       "      <td>4</td>\n",
       "      <td>2728</td>\n",
       "      <td>2.938122</td>\n",
       "      <td>5.452598</td>\n",
       "      <td>36.692999</td>\n",
       "    </tr>\n",
       "    <tr>\n",
       "      <th>56</th>\n",
       "      <td>10</td>\n",
       "      <td>logloss</td>\n",
       "      <td>23548</td>\n",
       "      <td>73</td>\n",
       "      <td>2</td>\n",
       "      <td>11774</td>\n",
       "      <td>1.653524</td>\n",
       "      <td>1.371253</td>\n",
       "      <td>36.449218</td>\n",
       "    </tr>\n",
       "    <tr>\n",
       "      <th>57</th>\n",
       "      <td>2</td>\n",
       "      <td>logloss</td>\n",
       "      <td>5822</td>\n",
       "      <td>150</td>\n",
       "      <td>2</td>\n",
       "      <td>2911</td>\n",
       "      <td>1.642906</td>\n",
       "      <td>2.111844</td>\n",
       "      <td>35.494036</td>\n",
       "    </tr>\n",
       "    <tr>\n",
       "      <th>58</th>\n",
       "      <td>45</td>\n",
       "      <td>f1_macro</td>\n",
       "      <td>10936</td>\n",
       "      <td>30</td>\n",
       "      <td>3</td>\n",
       "      <td>5468</td>\n",
       "      <td>2.213112</td>\n",
       "      <td>3.849561</td>\n",
       "      <td>34.854518</td>\n",
       "    </tr>\n",
       "    <tr>\n",
       "      <th>59</th>\n",
       "      <td>5</td>\n",
       "      <td>logloss</td>\n",
       "      <td>4998</td>\n",
       "      <td>140</td>\n",
       "      <td>2</td>\n",
       "      <td>2499</td>\n",
       "      <td>1.823767</td>\n",
       "      <td>5.492314</td>\n",
       "      <td>34.418095</td>\n",
       "    </tr>\n",
       "    <tr>\n",
       "      <th>60</th>\n",
       "      <td>40</td>\n",
       "      <td>logloss</td>\n",
       "      <td>30000</td>\n",
       "      <td>23</td>\n",
       "      <td>2</td>\n",
       "      <td>15000</td>\n",
       "      <td>1.778708</td>\n",
       "      <td>1.396741</td>\n",
       "      <td>33.165967</td>\n",
       "    </tr>\n",
       "    <tr>\n",
       "      <th>61</th>\n",
       "      <td>75</td>\n",
       "      <td>logloss</td>\n",
       "      <td>5832</td>\n",
       "      <td>308</td>\n",
       "      <td>2</td>\n",
       "      <td>2916</td>\n",
       "      <td>1.815654</td>\n",
       "      <td>12.159734</td>\n",
       "      <td>33.003323</td>\n",
       "    </tr>\n",
       "    <tr>\n",
       "      <th>62</th>\n",
       "      <td>18</td>\n",
       "      <td>logloss</td>\n",
       "      <td>11055</td>\n",
       "      <td>68</td>\n",
       "      <td>2</td>\n",
       "      <td>5527</td>\n",
       "      <td>2.143189</td>\n",
       "      <td>7.601967</td>\n",
       "      <td>32.748516</td>\n",
       "    </tr>\n",
       "    <tr>\n",
       "      <th>63</th>\n",
       "      <td>54</td>\n",
       "      <td>logloss</td>\n",
       "      <td>2984</td>\n",
       "      <td>280</td>\n",
       "      <td>2</td>\n",
       "      <td>1492</td>\n",
       "      <td>1.840608</td>\n",
       "      <td>5.364298</td>\n",
       "      <td>31.395322</td>\n",
       "    </tr>\n",
       "    <tr>\n",
       "      <th>64</th>\n",
       "      <td>88</td>\n",
       "      <td>logloss</td>\n",
       "      <td>15547</td>\n",
       "      <td>60</td>\n",
       "      <td>2</td>\n",
       "      <td>7773</td>\n",
       "      <td>1.537498</td>\n",
       "      <td>1.698953</td>\n",
       "      <td>30.777477</td>\n",
       "    </tr>\n",
       "    <tr>\n",
       "      <th>65</th>\n",
       "      <td>87</td>\n",
       "      <td>logloss</td>\n",
       "      <td>14395</td>\n",
       "      <td>108</td>\n",
       "      <td>2</td>\n",
       "      <td>7197</td>\n",
       "      <td>2.084987</td>\n",
       "      <td>7.765945</td>\n",
       "      <td>30.367907</td>\n",
       "    </tr>\n",
       "    <tr>\n",
       "      <th>66</th>\n",
       "      <td>95</td>\n",
       "      <td>f1_macro</td>\n",
       "      <td>5000</td>\n",
       "      <td>40</td>\n",
       "      <td>3</td>\n",
       "      <td>2500</td>\n",
       "      <td>1.645517</td>\n",
       "      <td>2.304845</td>\n",
       "      <td>29.913028</td>\n",
       "    </tr>\n",
       "    <tr>\n",
       "      <th>67</th>\n",
       "      <td>69</td>\n",
       "      <td>logloss</td>\n",
       "      <td>4908</td>\n",
       "      <td>80</td>\n",
       "      <td>2</td>\n",
       "      <td>2454</td>\n",
       "      <td>3.417817</td>\n",
       "      <td>2.884641</td>\n",
       "      <td>28.975702</td>\n",
       "    </tr>\n",
       "    <tr>\n",
       "      <th>68</th>\n",
       "      <td>63</td>\n",
       "      <td>logloss</td>\n",
       "      <td>3140</td>\n",
       "      <td>259</td>\n",
       "      <td>2</td>\n",
       "      <td>1570</td>\n",
       "      <td>1.623588</td>\n",
       "      <td>1.708123</td>\n",
       "      <td>28.657730</td>\n",
       "    </tr>\n",
       "    <tr>\n",
       "      <th>69</th>\n",
       "      <td>80</td>\n",
       "      <td>logloss</td>\n",
       "      <td>2407</td>\n",
       "      <td>304</td>\n",
       "      <td>2</td>\n",
       "      <td>1203</td>\n",
       "      <td>2.109720</td>\n",
       "      <td>7.399587</td>\n",
       "      <td>26.736790</td>\n",
       "    </tr>\n",
       "    <tr>\n",
       "      <th>70</th>\n",
       "      <td>60</td>\n",
       "      <td>logloss</td>\n",
       "      <td>20800</td>\n",
       "      <td>19</td>\n",
       "      <td>2</td>\n",
       "      <td>10400</td>\n",
       "      <td>2.038624</td>\n",
       "      <td>0.892390</td>\n",
       "      <td>26.153098</td>\n",
       "    </tr>\n",
       "    <tr>\n",
       "      <th>71</th>\n",
       "      <td>6</td>\n",
       "      <td>logloss</td>\n",
       "      <td>9871</td>\n",
       "      <td>39</td>\n",
       "      <td>2</td>\n",
       "      <td>4935</td>\n",
       "      <td>1.660829</td>\n",
       "      <td>2.068533</td>\n",
       "      <td>24.591015</td>\n",
       "    </tr>\n",
       "    <tr>\n",
       "      <th>72</th>\n",
       "      <td>35</td>\n",
       "      <td>logloss</td>\n",
       "      <td>9822</td>\n",
       "      <td>85</td>\n",
       "      <td>2</td>\n",
       "      <td>4911</td>\n",
       "      <td>1.608259</td>\n",
       "      <td>2.154537</td>\n",
       "      <td>23.729707</td>\n",
       "    </tr>\n",
       "    <tr>\n",
       "      <th>73</th>\n",
       "      <td>82</td>\n",
       "      <td>logloss</td>\n",
       "      <td>10000</td>\n",
       "      <td>28</td>\n",
       "      <td>2</td>\n",
       "      <td>5000</td>\n",
       "      <td>1.680926</td>\n",
       "      <td>1.604080</td>\n",
       "      <td>23.294189</td>\n",
       "    </tr>\n",
       "    <tr>\n",
       "      <th>74</th>\n",
       "      <td>43</td>\n",
       "      <td>logloss</td>\n",
       "      <td>14980</td>\n",
       "      <td>14</td>\n",
       "      <td>2</td>\n",
       "      <td>7490</td>\n",
       "      <td>5.196429</td>\n",
       "      <td>5.827551</td>\n",
       "      <td>23.259697</td>\n",
       "    </tr>\n",
       "    <tr>\n",
       "      <th>75</th>\n",
       "      <td>51</td>\n",
       "      <td>logloss</td>\n",
       "      <td>10000</td>\n",
       "      <td>22</td>\n",
       "      <td>2</td>\n",
       "      <td>5000</td>\n",
       "      <td>1.739341</td>\n",
       "      <td>1.196694</td>\n",
       "      <td>22.041228</td>\n",
       "    </tr>\n",
       "    <tr>\n",
       "      <th>76</th>\n",
       "      <td>3</td>\n",
       "      <td>logloss</td>\n",
       "      <td>2400</td>\n",
       "      <td>30</td>\n",
       "      <td>2</td>\n",
       "      <td>1200</td>\n",
       "      <td>1.775275</td>\n",
       "      <td>1.621316</td>\n",
       "      <td>21.253323</td>\n",
       "    </tr>\n",
       "    <tr>\n",
       "      <th>77</th>\n",
       "      <td>11</td>\n",
       "      <td>logloss</td>\n",
       "      <td>10000</td>\n",
       "      <td>24</td>\n",
       "      <td>2</td>\n",
       "      <td>5000</td>\n",
       "      <td>1.621383</td>\n",
       "      <td>1.098464</td>\n",
       "      <td>20.685644</td>\n",
       "    </tr>\n",
       "    <tr>\n",
       "      <th>78</th>\n",
       "      <td>38</td>\n",
       "      <td>logloss</td>\n",
       "      <td>16714</td>\n",
       "      <td>10</td>\n",
       "      <td>2</td>\n",
       "      <td>8357</td>\n",
       "      <td>1.786065</td>\n",
       "      <td>0.859102</td>\n",
       "      <td>20.086992</td>\n",
       "    </tr>\n",
       "    <tr>\n",
       "      <th>79</th>\n",
       "      <td>92</td>\n",
       "      <td>logloss</td>\n",
       "      <td>10000</td>\n",
       "      <td>26</td>\n",
       "      <td>2</td>\n",
       "      <td>5000</td>\n",
       "      <td>1.502362</td>\n",
       "      <td>0.815725</td>\n",
       "      <td>19.897585</td>\n",
       "    </tr>\n",
       "    <tr>\n",
       "      <th>80</th>\n",
       "      <td>23</td>\n",
       "      <td>logloss</td>\n",
       "      <td>5692</td>\n",
       "      <td>16</td>\n",
       "      <td>2</td>\n",
       "      <td>2846</td>\n",
       "      <td>1.540497</td>\n",
       "      <td>0.371425</td>\n",
       "      <td>17.667844</td>\n",
       "    </tr>\n",
       "    <tr>\n",
       "      <th>81</th>\n",
       "      <td>59</td>\n",
       "      <td>logloss</td>\n",
       "      <td>3196</td>\n",
       "      <td>74</td>\n",
       "      <td>2</td>\n",
       "      <td>1598</td>\n",
       "      <td>3.229406</td>\n",
       "      <td>14.151529</td>\n",
       "      <td>17.612472</td>\n",
       "    </tr>\n",
       "    <tr>\n",
       "      <th>82</th>\n",
       "      <td>4</td>\n",
       "      <td>logloss</td>\n",
       "      <td>14240</td>\n",
       "      <td>30</td>\n",
       "      <td>2</td>\n",
       "      <td>7120</td>\n",
       "      <td>1.627202</td>\n",
       "      <td>1.140102</td>\n",
       "      <td>17.105322</td>\n",
       "    </tr>\n",
       "    <tr>\n",
       "      <th>83</th>\n",
       "      <td>20</td>\n",
       "      <td>logloss</td>\n",
       "      <td>5100</td>\n",
       "      <td>36</td>\n",
       "      <td>2</td>\n",
       "      <td>2550</td>\n",
       "      <td>1.623781</td>\n",
       "      <td>2.143668</td>\n",
       "      <td>16.370868</td>\n",
       "    </tr>\n",
       "    <tr>\n",
       "      <th>84</th>\n",
       "      <td>36</td>\n",
       "      <td>logloss</td>\n",
       "      <td>5278</td>\n",
       "      <td>19</td>\n",
       "      <td>2</td>\n",
       "      <td>2639</td>\n",
       "      <td>1.513753</td>\n",
       "      <td>0.567319</td>\n",
       "      <td>16.329244</td>\n",
       "    </tr>\n",
       "    <tr>\n",
       "      <th>85</th>\n",
       "      <td>32</td>\n",
       "      <td>logloss</td>\n",
       "      <td>5000</td>\n",
       "      <td>33</td>\n",
       "      <td>2</td>\n",
       "      <td>2500</td>\n",
       "      <td>1.980170</td>\n",
       "      <td>2.223143</td>\n",
       "      <td>16.110112</td>\n",
       "    </tr>\n",
       "    <tr>\n",
       "      <th>86</th>\n",
       "      <td>15</td>\n",
       "      <td>logloss</td>\n",
       "      <td>4477</td>\n",
       "      <td>19</td>\n",
       "      <td>2</td>\n",
       "      <td>2238</td>\n",
       "      <td>1.590716</td>\n",
       "      <td>0.515178</td>\n",
       "      <td>16.078353</td>\n",
       "    </tr>\n",
       "    <tr>\n",
       "      <th>87</th>\n",
       "      <td>41</td>\n",
       "      <td>logloss</td>\n",
       "      <td>3772</td>\n",
       "      <td>54</td>\n",
       "      <td>2</td>\n",
       "      <td>1886</td>\n",
       "      <td>1.556180</td>\n",
       "      <td>2.783599</td>\n",
       "      <td>15.680702</td>\n",
       "    </tr>\n",
       "    <tr>\n",
       "      <th>88</th>\n",
       "      <td>24</td>\n",
       "      <td>logloss</td>\n",
       "      <td>4562</td>\n",
       "      <td>102</td>\n",
       "      <td>2</td>\n",
       "      <td>2281</td>\n",
       "      <td>1.845624</td>\n",
       "      <td>4.568233</td>\n",
       "      <td>14.989578</td>\n",
       "    </tr>\n",
       "    <tr>\n",
       "      <th>89</th>\n",
       "      <td>64</td>\n",
       "      <td>logloss</td>\n",
       "      <td>9466</td>\n",
       "      <td>38</td>\n",
       "      <td>2</td>\n",
       "      <td>4733</td>\n",
       "      <td>1.723629</td>\n",
       "      <td>1.651886</td>\n",
       "      <td>14.630200</td>\n",
       "    </tr>\n",
       "    <tr>\n",
       "      <th>90</th>\n",
       "      <td>55</td>\n",
       "      <td>logloss</td>\n",
       "      <td>10885</td>\n",
       "      <td>21</td>\n",
       "      <td>2</td>\n",
       "      <td>5442</td>\n",
       "      <td>1.872225</td>\n",
       "      <td>1.048115</td>\n",
       "      <td>13.538963</td>\n",
       "    </tr>\n",
       "    <tr>\n",
       "      <th>91</th>\n",
       "      <td>16</td>\n",
       "      <td>logloss</td>\n",
       "      <td>19020</td>\n",
       "      <td>10</td>\n",
       "      <td>2</td>\n",
       "      <td>9510</td>\n",
       "      <td>1.270786</td>\n",
       "      <td>0.596442</td>\n",
       "      <td>13.221299</td>\n",
       "    </tr>\n",
       "    <tr>\n",
       "      <th>92</th>\n",
       "      <td>84</td>\n",
       "      <td>logloss</td>\n",
       "      <td>4601</td>\n",
       "      <td>57</td>\n",
       "      <td>2</td>\n",
       "      <td>2300</td>\n",
       "      <td>1.825804</td>\n",
       "      <td>15.124391</td>\n",
       "      <td>12.602256</td>\n",
       "    </tr>\n",
       "    <tr>\n",
       "      <th>93</th>\n",
       "      <td>73</td>\n",
       "      <td>logloss</td>\n",
       "      <td>5589</td>\n",
       "      <td>36</td>\n",
       "      <td>2</td>\n",
       "      <td>2794</td>\n",
       "      <td>1.451225</td>\n",
       "      <td>1.078421</td>\n",
       "      <td>12.589035</td>\n",
       "    </tr>\n",
       "    <tr>\n",
       "      <th>94</th>\n",
       "      <td>93</td>\n",
       "      <td>logloss</td>\n",
       "      <td>7400</td>\n",
       "      <td>20</td>\n",
       "      <td>2</td>\n",
       "      <td>3700</td>\n",
       "      <td>1.494015</td>\n",
       "      <td>0.813353</td>\n",
       "      <td>12.411904</td>\n",
       "    </tr>\n",
       "    <tr>\n",
       "      <th>95</th>\n",
       "      <td>21</td>\n",
       "      <td>logloss</td>\n",
       "      <td>2201</td>\n",
       "      <td>3</td>\n",
       "      <td>2</td>\n",
       "      <td>1100</td>\n",
       "      <td>1.392543</td>\n",
       "      <td>0.122601</td>\n",
       "      <td>12.314748</td>\n",
       "    </tr>\n",
       "    <tr>\n",
       "      <th>96</th>\n",
       "      <td>78</td>\n",
       "      <td>logloss</td>\n",
       "      <td>7400</td>\n",
       "      <td>20</td>\n",
       "      <td>2</td>\n",
       "      <td>3700</td>\n",
       "      <td>1.412178</td>\n",
       "      <td>0.316648</td>\n",
       "      <td>11.985743</td>\n",
       "    </tr>\n",
       "    <tr>\n",
       "      <th>97</th>\n",
       "      <td>98</td>\n",
       "      <td>logloss</td>\n",
       "      <td>2417</td>\n",
       "      <td>129</td>\n",
       "      <td>2</td>\n",
       "      <td>1208</td>\n",
       "      <td>1.448714</td>\n",
       "      <td>3.233135</td>\n",
       "      <td>10.987105</td>\n",
       "    </tr>\n",
       "    <tr>\n",
       "      <th>98</th>\n",
       "      <td>57</td>\n",
       "      <td>logloss</td>\n",
       "      <td>2109</td>\n",
       "      <td>21</td>\n",
       "      <td>2</td>\n",
       "      <td>1054</td>\n",
       "      <td>1.480059</td>\n",
       "      <td>1.013641</td>\n",
       "      <td>10.591366</td>\n",
       "    </tr>\n",
       "    <tr>\n",
       "      <th>99</th>\n",
       "      <td>83</td>\n",
       "      <td>logloss</td>\n",
       "      <td>3772</td>\n",
       "      <td>52</td>\n",
       "      <td>2</td>\n",
       "      <td>1886</td>\n",
       "      <td>1.792187</td>\n",
       "      <td>1.390118</td>\n",
       "      <td>10.499230</td>\n",
       "    </tr>\n",
       "  </tbody>\n",
       "</table>\n",
       "</div>"
      ],
      "text/plain": [
       "    index score_type  num_rows  num_cols  num_classes  train_val_size  \\\n",
       "0       9   f1_macro      9144       220            8            4572   \n",
       "1      50   f1_macro     22272        25           75           11136   \n",
       "2      52   MSE/RMSE     22784        16         2045           11392   \n",
       "3      58   MSE/RMSE     21613       132         4028           10806   \n",
       "4      86   MSE/RMSE     21263        81         3007           10631   \n",
       "5      37   f1_macro      8192        21           56            4096   \n",
       "6      29   MSE/RMSE     18249        67          259            9124   \n",
       "7      46   MSE/RMSE     18063         5          133            9031   \n",
       "8       1   f1_macro      5665       104          102            2832   \n",
       "9      44   MSE/RMSE     16599        18           61            8299   \n",
       "10     13   MSE/RMSE     14480        32         7275            7240   \n",
       "11     65   MSE/RMSE     13932        15         2111            6966   \n",
       "12     17   MSE/RMSE     13932        16         2111            6966   \n",
       "13     25   MSE/RMSE     13750        40           35            6875   \n",
       "14      0   MSE/RMSE     13750        40           35            6875   \n",
       "15     39   f1_macro     10738        14           51            5369   \n",
       "16     48   f1_macro     13910       128            6            6955   \n",
       "17     70   MSE/RMSE     11934        14           51            5967   \n",
       "18     14   MSE/RMSE     10886        47          822            5443   \n",
       "19     76   f1_macro     15000        48           11            7500   \n",
       "20     49   MSE/RMSE     10000        12        10000            5000   \n",
       "21     91   MSE/RMSE      8885       266         1336            4442   \n",
       "22     99   MSE/RMSE      8885       251         1336            4442   \n",
       "23     89   f1_macro      5500        40           11            2750   \n",
       "24     77   MSE/RMSE      8192        32         7861            4096   \n",
       "25     30   MSE/RMSE      8192        32         6284            4096   \n",
       "26     22   f1_macro      9298       256           10            4649   \n",
       "27     62   f1_macro     20000        16           26           10000   \n",
       "28     56   f1_macro      4704        75            3            2352   \n",
       "29     74   f1_macro     10992        16           10            5496   \n",
       "30     66   f1_macro     20000        20            5           10000   \n",
       "31     81   f1_macro      2310        19            7            1155   \n",
       "32     90   f1_macro      2800        46            5            1400   \n",
       "33     33   f1_macro      2796        99            6            1398   \n",
       "34     53   f1_macro      3772        52            4            1886   \n",
       "35     42   f1_macro      3186       360            3            1593   \n",
       "36     67   MSE/RMSE      4450       202          800            2225   \n",
       "37     26   f1_macro      3772        54            3            1886   \n",
       "38     12   f1_macro      9961        14            9            4980   \n",
       "39     19   MSE/RMSE      4440       130         1945            2220   \n",
       "40     47   f1_macro      6118        51            6            3059   \n",
       "41     79   f1_macro      6430        36            6            3215   \n",
       "42     71   f1_macro      5620        64           10            2810   \n",
       "43     28   f1_macro      2500       226            3            1250   \n",
       "44     72   f1_macro      5473        10            5            2736   \n",
       "45     85   f1_macro      3190       287            3            1595   \n",
       "46     27   MSE/RMSE      2930       354         1032            1465   \n",
       "47      8   MSE/RMSE      4046        35         3415            2023   \n",
       "48     97   f1_macro      6497        11            7            3248   \n",
       "49     31   f1_macro      2126        35           10            1063   \n",
       "50     61   f1_macro      3200        48           10            1600   \n",
       "51      7   f1_macro      9873        32            5            4936   \n",
       "52     96   f1_macro      4898        11            7            2449   \n",
       "53     34    logloss      6598       168            2            3299   \n",
       "54     68    logloss      8124       125            2            4062   \n",
       "55     94   f1_macro      5456        24            4            2728   \n",
       "56     10    logloss     23548        73            2           11774   \n",
       "57      2    logloss      5822       150            2            2911   \n",
       "58     45   f1_macro     10936        30            3            5468   \n",
       "59      5    logloss      4998       140            2            2499   \n",
       "60     40    logloss     30000        23            2           15000   \n",
       "61     75    logloss      5832       308            2            2916   \n",
       "62     18    logloss     11055        68            2            5527   \n",
       "63     54    logloss      2984       280            2            1492   \n",
       "64     88    logloss     15547        60            2            7773   \n",
       "65     87    logloss     14395       108            2            7197   \n",
       "66     95   f1_macro      5000        40            3            2500   \n",
       "67     69    logloss      4908        80            2            2454   \n",
       "68     63    logloss      3140       259            2            1570   \n",
       "69     80    logloss      2407       304            2            1203   \n",
       "70     60    logloss     20800        19            2           10400   \n",
       "71      6    logloss      9871        39            2            4935   \n",
       "72     35    logloss      9822        85            2            4911   \n",
       "73     82    logloss     10000        28            2            5000   \n",
       "74     43    logloss     14980        14            2            7490   \n",
       "75     51    logloss     10000        22            2            5000   \n",
       "76      3    logloss      2400        30            2            1200   \n",
       "77     11    logloss     10000        24            2            5000   \n",
       "78     38    logloss     16714        10            2            8357   \n",
       "79     92    logloss     10000        26            2            5000   \n",
       "80     23    logloss      5692        16            2            2846   \n",
       "81     59    logloss      3196        74            2            1598   \n",
       "82      4    logloss     14240        30            2            7120   \n",
       "83     20    logloss      5100        36            2            2550   \n",
       "84     36    logloss      5278        19            2            2639   \n",
       "85     32    logloss      5000        33            2            2500   \n",
       "86     15    logloss      4477        19            2            2238   \n",
       "87     41    logloss      3772        54            2            1886   \n",
       "88     24    logloss      4562       102            2            2281   \n",
       "89     64    logloss      9466        38            2            4733   \n",
       "90     55    logloss     10885        21            2            5442   \n",
       "91     16    logloss     19020        10            2            9510   \n",
       "92     84    logloss      4601        57            2            2300   \n",
       "93     73    logloss      5589        36            2            2794   \n",
       "94     93    logloss      7400        20            2            3700   \n",
       "95     21    logloss      2201         3            2            1100   \n",
       "96     78    logloss      7400        20            2            3700   \n",
       "97     98    logloss      2417       129            2            1208   \n",
       "98     57    logloss      2109        21            2            1054   \n",
       "99     83    logloss      3772        52            2            1886   \n",
       "\n",
       "    bo_elapsed_time  hyb_elapsed_time  ga_elapsed_time  \n",
       "0         78.115690        123.565510      1034.558482  \n",
       "1        155.239546        128.728807       946.720026  \n",
       "2         96.925234        123.040076       889.791384  \n",
       "3         85.480952        121.913883       815.425957  \n",
       "4         82.716661        122.149053       782.301350  \n",
       "5        157.998138        130.161974       772.118044  \n",
       "6         59.064614        121.656104       567.933510  \n",
       "7         57.134452        122.056435       538.471373  \n",
       "8         87.739363        124.397921       491.640654  \n",
       "9         47.285192        121.440348       454.307166  \n",
       "10        35.142360        121.590867       363.300025  \n",
       "11        32.752847        115.863354       319.291665  \n",
       "12        32.778374        116.615127       318.994422  \n",
       "13        30.876787        121.139489       303.879840  \n",
       "14        30.819123        120.885937       302.205161  \n",
       "15        53.785140        124.844603       301.009633  \n",
       "16        26.576891        122.265444       251.208007  \n",
       "17        25.056880         59.044064       243.272430  \n",
       "18        19.572479        109.822899       204.503078  \n",
       "19        28.147690        113.283203       170.671497  \n",
       "20        16.201379         69.596100       170.466086  \n",
       "21        13.466955        120.544030       157.860758  \n",
       "22        13.692299        120.482995       157.173710  \n",
       "23        12.037161         62.258556       132.430061  \n",
       "24        11.237437        120.875221       119.944320  \n",
       "25        11.512298        121.407784       119.536815  \n",
       "26        10.826599         59.847102       118.297495  \n",
       "27        13.497695         49.456196       105.176810  \n",
       "28        12.566042        104.565330       101.216954  \n",
       "29        16.105185         70.659601        94.535306  \n",
       "30        13.194955         70.044574        83.280558  \n",
       "31        11.821056         20.403602        76.630001  \n",
       "32        10.212665         44.651267        73.483596  \n",
       "33         2.904640         19.776322        71.526640  \n",
       "34        10.258341         90.753925        70.849079  \n",
       "35         3.409213         18.976117        62.859385  \n",
       "36         3.775442         55.191006        62.719917  \n",
       "37         8.757648         48.545076        61.069784  \n",
       "38        10.329678         23.186748        60.232425  \n",
       "39         3.703641         52.771551        59.883145  \n",
       "40         9.023667         48.176305        59.046549  \n",
       "41         6.658423         52.012818        54.468552  \n",
       "42         3.561492         21.292437        50.425161  \n",
       "43         2.607980         12.601407        48.886782  \n",
       "44         5.550418         22.304516        48.189109  \n",
       "45         1.998089          6.904888        47.817464  \n",
       "46         2.283685         21.468741        47.586227  \n",
       "47         2.998764         18.639819        46.494552  \n",
       "48         4.206362          7.260074        45.431471  \n",
       "49         1.448445          2.220179        45.422072  \n",
       "50         2.309882          9.211722        42.658515  \n",
       "51         3.208464         15.065791        40.999123  \n",
       "52         2.942487          7.103163        40.337519  \n",
       "53         1.842059          1.256750        40.330998  \n",
       "54         1.984475          3.993024        39.471922  \n",
       "55         2.938122          5.452598        36.692999  \n",
       "56         1.653524          1.371253        36.449218  \n",
       "57         1.642906          2.111844        35.494036  \n",
       "58         2.213112          3.849561        34.854518  \n",
       "59         1.823767          5.492314        34.418095  \n",
       "60         1.778708          1.396741        33.165967  \n",
       "61         1.815654         12.159734        33.003323  \n",
       "62         2.143189          7.601967        32.748516  \n",
       "63         1.840608          5.364298        31.395322  \n",
       "64         1.537498          1.698953        30.777477  \n",
       "65         2.084987          7.765945        30.367907  \n",
       "66         1.645517          2.304845        29.913028  \n",
       "67         3.417817          2.884641        28.975702  \n",
       "68         1.623588          1.708123        28.657730  \n",
       "69         2.109720          7.399587        26.736790  \n",
       "70         2.038624          0.892390        26.153098  \n",
       "71         1.660829          2.068533        24.591015  \n",
       "72         1.608259          2.154537        23.729707  \n",
       "73         1.680926          1.604080        23.294189  \n",
       "74         5.196429          5.827551        23.259697  \n",
       "75         1.739341          1.196694        22.041228  \n",
       "76         1.775275          1.621316        21.253323  \n",
       "77         1.621383          1.098464        20.685644  \n",
       "78         1.786065          0.859102        20.086992  \n",
       "79         1.502362          0.815725        19.897585  \n",
       "80         1.540497          0.371425        17.667844  \n",
       "81         3.229406         14.151529        17.612472  \n",
       "82         1.627202          1.140102        17.105322  \n",
       "83         1.623781          2.143668        16.370868  \n",
       "84         1.513753          0.567319        16.329244  \n",
       "85         1.980170          2.223143        16.110112  \n",
       "86         1.590716          0.515178        16.078353  \n",
       "87         1.556180          2.783599        15.680702  \n",
       "88         1.845624          4.568233        14.989578  \n",
       "89         1.723629          1.651886        14.630200  \n",
       "90         1.872225          1.048115        13.538963  \n",
       "91         1.270786          0.596442        13.221299  \n",
       "92         1.825804         15.124391        12.602256  \n",
       "93         1.451225          1.078421        12.589035  \n",
       "94         1.494015          0.813353        12.411904  \n",
       "95         1.392543          0.122601        12.314748  \n",
       "96         1.412178          0.316648        11.985743  \n",
       "97         1.448714          3.233135        10.987105  \n",
       "98         1.480059          1.013641        10.591366  \n",
       "99         1.792187          1.390118        10.499230  "
      ]
     },
     "execution_count": 49,
     "metadata": {},
     "output_type": "execute_result"
    }
   ],
   "source": [
    "elapsed_times = mat_merge[['score_type','num_rows', 'num_cols', 'num_classes','train_val_size',\n",
    "                           'bo_elapsed_time','hyb_elapsed_time','ga_elapsed_time']].sort_values('ga_elapsed_time', ascending=False).reset_index()\n",
    "elapsed_times"
   ]
  },
  {
   "cell_type": "code",
   "execution_count": 50,
   "id": "24788519",
   "metadata": {
    "ExecuteTime": {
     "end_time": "2023-09-19T10:28:16.625544Z",
     "start_time": "2023-09-19T10:28:15.266041Z"
    },
    "scrolled": false
   },
   "outputs": [
    {
     "data": {
      "image/png": "[encoded data removed]",
      "text/plain": [
       "<Figure size 1200x1200 with 4 Axes>"
      ]
     },
     "metadata": {},
     "output_type": "display_data"
    }
   ],
   "source": [
    "fig, axs = plt.subplots(2, 2, figsize=(12, 12))\n",
    "elapsed_times[['bo_elapsed_time','hyb_elapsed_time','ga_elapsed_time']].plot(ylabel='Mean of elapsed time (min)', xlabel='Num. Dataset', title='All Datasets', ax=axs[0,0])\n",
    "elapsed_times.query(\"score_type=='logloss'\")[['bo_elapsed_time','hyb_elapsed_time','ga_elapsed_time']].plot(ylabel='Mean of elapsed time (min)', xlabel='Num. Dataset', title='Binary', ax=axs[0,1])\n",
    "elapsed_times.query(\"score_type=='MSE/RMSE'\")[['bo_elapsed_time','hyb_elapsed_time','ga_elapsed_time']].plot(ylabel='Mean of elapsed time (min)', xlabel='Num. Dataset', title='Regression', ax=axs[1,0])\n",
    "elapsed_times.query(\"score_type=='f1_macro'\")[['bo_elapsed_time','hyb_elapsed_time','ga_elapsed_time']].plot(ylabel='Mean of elapsed time (min)', xlabel='Num. Dataset', title='Multiclass', ax=axs[1,1])\n",
    "plt.tight_layout()\n",
    "plt.savefig('Elapsed_times.png')\n",
    "plt.show()\n"
   ]
  }
 ],
 "metadata": {
  "kernelspec": {
   "display_name": "Python 3 (ipykernel)",
   "language": "python",
   "name": "python3"
  },
  "language_info": {
   "codemirror_mode": {
    "name": "ipython",
    "version": 3
   },
   "file_extension": ".py",
   "mimetype": "text/x-python",
   "name": "python",
   "nbconvert_exporter": "python",
   "pygments_lexer": "ipython3",
   "version": "3.10.9"
  },
  "toc": {
   "base_numbering": 1,
   "nav_menu": {},
   "number_sections": true,
   "sideBar": true,
   "skip_h1_title": false,
   "title_cell": "Table of Contents",
   "title_sidebar": "Contents",
   "toc_cell": false,
   "toc_position": {},
   "toc_section_display": true,
   "toc_window_display": false
  }
 },
 "nbformat": 4,
 "nbformat_minor": 5
}
